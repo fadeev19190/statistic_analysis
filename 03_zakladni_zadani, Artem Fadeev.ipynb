{
 "cells": [
  {
   "cell_type": "markdown",
   "metadata": {
    "toc": true
   },
   "source": [
    "<h1>Table of Contents<span class=\"tocSkip\"></span></h1>\n",
    "<div class=\"toc\"><ul class=\"toc-item\"><li><span><a href=\"#Úhlopříčka-čtverce\" data-toc-modified-id=\"Úhlopříčka-čtverce-1\"><span class=\"toc-item-num\">1&nbsp;&nbsp;</span>Úhlopříčka čtverce</a></span></li><li><span><a href=\"#Úhlopříčka-krychle\" data-toc-modified-id=\"Úhlopříčka-krychle-2\"><span class=\"toc-item-num\">2&nbsp;&nbsp;</span>Úhlopříčka krychle</a></span></li><li><span><a href=\"#Kontrola\" data-toc-modified-id=\"Kontrola-3\"><span class=\"toc-item-num\">3&nbsp;&nbsp;</span>Kontrola</a></span></li><li><span><a href=\"#Převod\" data-toc-modified-id=\"Převod-4\"><span class=\"toc-item-num\">4&nbsp;&nbsp;</span>Převod</a></span></li><li><span><a href=\"#Konjunkce-a-Disjunkce\" data-toc-modified-id=\"Konjunkce-a-Disjunkce-5\"><span class=\"toc-item-num\">5&nbsp;&nbsp;</span>Konjunkce a Disjunkce</a></span></li><li><span><a href=\"#Funkce-pro-výpočet-úhlopříčky-čtverce-a-krychle\" data-toc-modified-id=\"Funkce-pro-výpočet-úhlopříčky-čtverce-a-krychle-6\"><span class=\"toc-item-num\">6&nbsp;&nbsp;</span>Funkce pro výpočet úhlopříčky čtverce a krychle</a></span></li></ul></div>"
   ]
  },
  {
   "cell_type": "markdown",
   "metadata": {},
   "source": [
    "# Základní úlohy\n",
    "\n",
    "Zde je několik úloh na procvičení základních stavebních prvků jazyka R. Především se jedná o přiřazování do proměnných a operace s různými datovými typy.\n",
    "\n",
    "## Úhlopříčka čtverce\n",
    "\n",
    "Vypočťete postupně délky úhlopříček čtverců se stranami o délce 5, 15 a 30 cm. Výsledek výpočtu vždy uložte do proměnné `u` a její hodnotu vytiskněte na konzoli."
   ]
  },
  {
   "cell_type": "code",
   "execution_count": 1,
   "metadata": {
    "vscode": {
     "languageId": "r"
    }
   },
   "outputs": [
    {
     "data": {
      "text/html": [
       "<style>\n",
       ".list-inline {list-style: none; margin:0; padding: 0}\n",
       ".list-inline>li {display: inline-block}\n",
       ".list-inline>li:not(:last-child)::after {content: \"\\00b7\"; padding: 0 .5ex}\n",
       "</style>\n",
       "<ol class=list-inline><li>7.07106781186548</li><li>21.2132034355964</li><li>42.4264068711929</li></ol>\n"
      ],
      "text/latex": [
       "\\begin{enumerate*}\n",
       "\\item 7.07106781186548\n",
       "\\item 21.2132034355964\n",
       "\\item 42.4264068711929\n",
       "\\end{enumerate*}\n"
      ],
      "text/markdown": [
       "1. 7.07106781186548\n",
       "2. 21.2132034355964\n",
       "3. 42.4264068711929\n",
       "\n",
       "\n"
      ],
      "text/plain": [
       "[1]  7.071068 21.213203 42.426407"
      ]
     },
     "metadata": {},
     "output_type": "display_data"
    }
   ],
   "source": [
    "x <- c(5, 15, 30)\n",
    "u <- sqrt(2*x**2)\n",
    "u"
   ]
  },
  {
   "cell_type": "markdown",
   "metadata": {},
   "source": [
    "## Úhlopříčka krychle\n",
    "\n",
    "Upravte předchozí kód tak, aby proměnná `u` obsahovala délku tělesové úhlopříčky příslušné krychle."
   ]
  },
  {
   "cell_type": "code",
   "execution_count": 3,
   "metadata": {
    "vscode": {
     "languageId": "r"
    }
   },
   "outputs": [
    {
     "data": {
      "text/html": [
       "<style>\n",
       ".list-inline {list-style: none; margin:0; padding: 0}\n",
       ".list-inline>li {display: inline-block}\n",
       ".list-inline>li:not(:last-child)::after {content: \"\\00b7\"; padding: 0 .5ex}\n",
       "</style>\n",
       "<ol class=list-inline><li>7</li><li>21</li><li>42</li></ol>\n"
      ],
      "text/latex": [
       "\\begin{enumerate*}\n",
       "\\item 7\n",
       "\\item 21\n",
       "\\item 42\n",
       "\\end{enumerate*}\n"
      ],
      "text/markdown": [
       "1. 7\n",
       "2. 21\n",
       "3. 42\n",
       "\n",
       "\n"
      ],
      "text/plain": [
       "[1]  7 21 42"
      ]
     },
     "metadata": {},
     "output_type": "display_data"
    }
   ],
   "source": [
    "round(u)"
   ]
  },
  {
   "cell_type": "markdown",
   "metadata": {},
   "source": [
    "## Kontrola\n",
    "\n",
    "Zkontrolujte, zda následující příkazy vrací numerické hodnoty (čili, že mód návratových hodnot je `numeric`):"
   ]
  },
  {
   "cell_type": "code",
   "execution_count": 46,
   "metadata": {
    "vscode": {
     "languageId": "r"
    }
   },
   "outputs": [
    {
     "name": "stdout",
     "output_type": "stream",
     "text": [
      "[1] \"numeric\"\n",
      "[1] \"character\"\n"
     ]
    },
    {
     "data": {
      "text/html": [
       "'numeric'"
      ],
      "text/latex": [
       "'numeric'"
      ],
      "text/markdown": [
       "'numeric'"
      ],
      "text/plain": [
       "[1] \"numeric\""
      ]
     },
     "metadata": {},
     "output_type": "display_data"
    },
    {
     "data": {
      "text/html": [
       "'logical'"
      ],
      "text/latex": [
       "'logical'"
      ],
      "text/markdown": [
       "'logical'"
      ],
      "text/plain": [
       "[1] \"logical\""
      ]
     },
     "metadata": {},
     "output_type": "display_data"
    }
   ],
   "source": [
    "print(mode(5))\n",
    "print(mode(\"5\"))\n",
    "mode(5 * 5)\n",
    "mode('numeric' > 10)"
   ]
  },
  {
   "cell_type": "code",
   "execution_count": 47,
   "metadata": {},
   "outputs": [
    {
     "name": "stdout",
     "output_type": "stream",
     "text": [
      "5 = numeric\n",
      "25 = numeric\n"
     ]
    }
   ],
   "source": [
    "x <- list(5, \"5\", (5*5), ('numeric' > 10))\n",
    "\n",
    "for (i in x) {\n",
    "  if (is.numeric(i)) {\n",
    "    cat(i, \"= numeric\\n\")\n",
    "  }\n",
    "}"
   ]
  },
  {
   "cell_type": "code",
   "execution_count": 48,
   "metadata": {},
   "outputs": [
    {
     "data": {
      "text/html": [
       "<ol>\n",
       "\t<li>5</li>\n",
       "\t<li>'5'</li>\n",
       "\t<li>25</li>\n",
       "\t<li>TRUE</li>\n",
       "</ol>\n"
      ],
      "text/latex": [
       "\\begin{enumerate}\n",
       "\\item 5\n",
       "\\item '5'\n",
       "\\item 25\n",
       "\\item TRUE\n",
       "\\end{enumerate}\n"
      ],
      "text/markdown": [
       "1. 5\n",
       "2. '5'\n",
       "3. 25\n",
       "4. TRUE\n",
       "\n",
       "\n"
      ],
      "text/plain": [
       "[[1]]\n",
       "[1] 5\n",
       "\n",
       "[[2]]\n",
       "[1] \"5\"\n",
       "\n",
       "[[3]]\n",
       "[1] 25\n",
       "\n",
       "[[4]]\n",
       "[1] TRUE\n"
      ]
     },
     "metadata": {},
     "output_type": "display_data"
    }
   ],
   "source": [
    "x"
   ]
  },
  {
   "cell_type": "markdown",
   "metadata": {},
   "source": [
    "## Převod\n",
    "\n",
    "Převeďte výsledky všech výrazů výše, které nevrací numerickou hodnotu, na numerické a ověřte si správnost převodu."
   ]
  },
  {
   "cell_type": "code",
   "execution_count": 49,
   "metadata": {
    "scrolled": true,
    "vscode": {
     "languageId": "r"
    }
   },
   "outputs": [
    {
     "name": "stdout",
     "output_type": "stream",
     "text": [
      "[1] \"numeric\"\n",
      "[1] \"numeric\"\n",
      "[1] \"numeric\"\n",
      "[1] \"numeric\"\n"
     ]
    }
   ],
   "source": [
    "y <- numeric(length(x))\n",
    "\n",
    "for (i in 1:length(x)) {\n",
    "  if (!is.numeric(x[[i]])) {\n",
    "    y[i] <- as.numeric(x[[i]])\n",
    "  } else {\n",
    "    y[i] <- x[[i]]\n",
    "  }\n",
    "}\n",
    "\n",
    "for (i in y) {\n",
    "    print(mode(i))\n",
    "}"
   ]
  },
  {
   "cell_type": "code",
   "execution_count": 50,
   "metadata": {
    "scrolled": false
   },
   "outputs": [
    {
     "data": {
      "text/html": [
       "<ol>\n",
       "\t<li>5</li>\n",
       "\t<li>'5'</li>\n",
       "\t<li>25</li>\n",
       "\t<li>TRUE</li>\n",
       "</ol>\n"
      ],
      "text/latex": [
       "\\begin{enumerate}\n",
       "\\item 5\n",
       "\\item '5'\n",
       "\\item 25\n",
       "\\item TRUE\n",
       "\\end{enumerate}\n"
      ],
      "text/markdown": [
       "1. 5\n",
       "2. '5'\n",
       "3. 25\n",
       "4. TRUE\n",
       "\n",
       "\n"
      ],
      "text/plain": [
       "[[1]]\n",
       "[1] 5\n",
       "\n",
       "[[2]]\n",
       "[1] \"5\"\n",
       "\n",
       "[[3]]\n",
       "[1] 25\n",
       "\n",
       "[[4]]\n",
       "[1] TRUE\n"
      ]
     },
     "metadata": {},
     "output_type": "display_data"
    }
   ],
   "source": [
    "x"
   ]
  },
  {
   "cell_type": "code",
   "execution_count": 54,
   "metadata": {},
   "outputs": [
    {
     "data": {
      "text/html": [
       "<style>\n",
       ".list-inline {list-style: none; margin:0; padding: 0}\n",
       ".list-inline>li {display: inline-block}\n",
       ".list-inline>li:not(:last-child)::after {content: \"\\00b7\"; padding: 0 .5ex}\n",
       "</style>\n",
       "<ol class=list-inline><li>5</li><li>5</li><li>25</li><li>1</li></ol>\n"
      ],
      "text/latex": [
       "\\begin{enumerate*}\n",
       "\\item 5\n",
       "\\item 5\n",
       "\\item 25\n",
       "\\item 1\n",
       "\\end{enumerate*}\n"
      ],
      "text/markdown": [
       "1. 5\n",
       "2. 5\n",
       "3. 25\n",
       "4. 1\n",
       "\n",
       "\n"
      ],
      "text/plain": [
       "[1]  5  5 25  1"
      ]
     },
     "metadata": {},
     "output_type": "display_data"
    }
   ],
   "source": [
    "y"
   ]
  },
  {
   "cell_type": "markdown",
   "metadata": {},
   "source": [
    "## Konjunkce a Disjunkce\n",
    "\n",
    "Pomocí logických proměnných zreprodukujte hodnoty v tabulce konjunkce, disjunkce nebo jiné. Možnosti [zde](https://cs.wikipedia.org/wiki/Tabulka_pravdivostn%C3%ADch_hodnot_z%C3%A1kladn%C3%ADch_slo%C5%BEen%C3%BDch_v%C3%BDrok%C5%AF#Konjunkce)."
   ]
  },
  {
   "cell_type": "code",
   "execution_count": 63,
   "metadata": {
    "vscode": {
     "languageId": "r"
    }
   },
   "outputs": [
    {
     "name": "stdout",
     "output_type": "stream",
     "text": [
      "konjunkce TRUE NA TRUE TRUE \n",
      "disjunkce TRUE TRUE TRUE TRUE"
     ]
    }
   ],
   "source": [
    "x_logical <- as.logical(x)\n",
    "y_logical <- as.logical(y)\n",
    "\n",
    "konjunkce <- x_logical & y_logical\n",
    "cat(\"konjunkce\", konjunkce, \"\\n\")\n",
    "disjunkce <- x_logical | y_logical\n",
    "cat(\"disjunkce\", disjunkce)"
   ]
  },
  {
   "cell_type": "markdown",
   "metadata": {},
   "source": [
    "## Funkce pro výpočet úhlopříčky čtverce a krychle\n",
    "\n",
    "Vytvořte funkce pro výpočet úhlopříčky čtverce a krychle. Aplikujte je při řešení první a druhé úlohy v tomto notebooku."
   ]
  },
  {
   "cell_type": "code",
   "execution_count": 1,
   "metadata": {
    "vscode": {
     "languageId": "r"
    }
   },
   "outputs": [
    {
     "data": {
      "text/html": [
       "<dl>\n",
       "\t<dt>$square_diagonal</dt>\n",
       "\t\t<dd><style>\n",
       ".list-inline {list-style: none; margin:0; padding: 0}\n",
       ".list-inline>li {display: inline-block}\n",
       ".list-inline>li:not(:last-child)::after {content: \"\\00b7\"; padding: 0 .5ex}\n",
       "</style>\n",
       "<ol class=list-inline><li>7.1</li><li>21.2</li><li>42.4</li></ol>\n",
       "</dd>\n",
       "\t<dt>$cube_diagonal</dt>\n",
       "\t\t<dd><style>\n",
       ".list-inline {list-style: none; margin:0; padding: 0}\n",
       ".list-inline>li {display: inline-block}\n",
       ".list-inline>li:not(:last-child)::after {content: \"\\00b7\"; padding: 0 .5ex}\n",
       "</style>\n",
       "<ol class=list-inline><li>8.7</li><li>26</li><li>52</li></ol>\n",
       "</dd>\n",
       "</dl>\n"
      ],
      "text/latex": [
       "\\begin{description}\n",
       "\\item[\\$square\\_diagonal] \\begin{enumerate*}\n",
       "\\item 7.1\n",
       "\\item 21.2\n",
       "\\item 42.4\n",
       "\\end{enumerate*}\n",
       "\n",
       "\\item[\\$cube\\_diagonal] \\begin{enumerate*}\n",
       "\\item 8.7\n",
       "\\item 26\n",
       "\\item 52\n",
       "\\end{enumerate*}\n",
       "\n",
       "\\end{description}\n"
      ],
      "text/markdown": [
       "$square_diagonal\n",
       ":   1. 7.1\n",
       "2. 21.2\n",
       "3. 42.4\n",
       "\n",
       "\n",
       "\n",
       "$cube_diagonal\n",
       ":   1. 8.7\n",
       "2. 26\n",
       "3. 52\n",
       "\n",
       "\n",
       "\n",
       "\n",
       "\n"
      ],
      "text/plain": [
       "$square_diagonal\n",
       "[1]  7.1 21.2 42.4\n",
       "\n",
       "$cube_diagonal\n",
       "[1]  8.7 26.0 52.0\n"
      ]
     },
     "metadata": {},
     "output_type": "display_data"
    }
   ],
   "source": [
    "x <- c(5, 15, 30)\n",
    "\n",
    "diagonal <- function(side) {\n",
    "    square_diagonal <- round(sqrt(2 * side^2), 1)\n",
    "    cube_diagonal <- round((sqrt(3) * side), 1)\n",
    "    return(list(square_diagonal = square_diagonal, cube_diagonal = cube_diagonal))\n",
    "}\n",
    "\n",
    "results <- diagonal(x)\n",
    "results"
   ]
  },
  {
   "cell_type": "code",
   "execution_count": null,
   "metadata": {},
   "outputs": [],
   "source": []
  }
 ],
 "metadata": {
  "kernelspec": {
   "display_name": "R",
   "language": "R",
   "name": "ir"
  },
  "language_info": {
   "codemirror_mode": "r",
   "file_extension": ".r",
   "mimetype": "text/x-r-source",
   "name": "R",
   "pygments_lexer": "r",
   "version": "4.2.3"
  },
  "toc": {
   "base_numbering": 1,
   "nav_menu": {},
   "number_sections": true,
   "sideBar": true,
   "skip_h1_title": true,
   "title_cell": "Table of Contents",
   "title_sidebar": "Contents",
   "toc_cell": true,
   "toc_position": {},
   "toc_section_display": true,
   "toc_window_display": false
  }
 },
 "nbformat": 4,
 "nbformat_minor": 2
}
