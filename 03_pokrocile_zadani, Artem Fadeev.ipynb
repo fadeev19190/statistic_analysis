{
 "cells": [
  {
   "cell_type": "markdown",
   "metadata": {
    "toc": "true"
   },
   "source": [
    "<h1>Table of Contents<span class=\"tocSkip\"></span></h1>\n",
    "<div class=\"toc\"><ul class=\"toc-item\"><li><span><a href=\"#Průměr-a-suma\" data-toc-modified-id=\"Průměr-a-suma-1\"><span class=\"toc-item-num\">1&nbsp;&nbsp;</span>Průměr a suma</a></span></li><li><span><a href=\"#Do-dvojkové-soustavy-a-zpět\" data-toc-modified-id=\"Do-dvojkové-soustavy-a-zpět-2\"><span class=\"toc-item-num\">2&nbsp;&nbsp;</span>Do dvojkové soustavy a zpět</a></span></li><li><span><a href=\"#Šifra\" data-toc-modified-id=\"Šifra-3\"><span class=\"toc-item-num\">3&nbsp;&nbsp;</span>Šifra</a></span></li><li><span><a href=\"#Počítání-písmen\" data-toc-modified-id=\"Počítání-písmen-4\"><span class=\"toc-item-num\">4&nbsp;&nbsp;</span>Počítání písmen</a></span></li><li><span><a href=\"#Extrakce-slov\" data-toc-modified-id=\"Extrakce-slov-5\"><span class=\"toc-item-num\">5&nbsp;&nbsp;</span>Extrakce slov</a></span></li></ul></div>"
   ]
  },
  {
   "cell_type": "markdown",
   "metadata": {},
   "source": [
    "# Úkoly\n",
    "\n",
    "K vypracování těchto úkolů byste neměli potřebovat nic, co je mimo rozsah [třetí lekce tutoriálu](../03.ipynb)."
   ]
  },
  {
   "cell_type": "markdown",
   "metadata": {},
   "source": [
    "## Průměr a suma\n",
    "\n",
    "Nadefinujte funkce `průměr` a `suma`, které spočítají průměr a sumu prvků ve vektoru, který uživatel dodá pomocí jejího parametru. V přípdě nevhodného vstupu upozorněte uživatele na možnou chybu, popř. zvolte vhodnou návratovou hodnotu.\n",
    "\n",
    "Pozn.: Implementaci proveďte bez použití interních funkcí jako je `sum` nebo `mean`."
   ]
  },
  {
   "cell_type": "code",
   "execution_count": 1,
   "metadata": {},
   "outputs": [],
   "source": [
    "suma <- function(vektor) {\n",
    "    if (!is.vector(vektor) || any(!is.numeric(vektor) && !is.integer(vektor))) {\n",
    "        warning(\"Je nám líto, ale tato funkce podporuje pouze celočíselné a číselné vektory.\")\n",
    "        return(NULL)\n",
    "    } else {\n",
    "        vektor_int <- as.integer(vektor)\n",
    "        \n",
    "        if (!is.null(vektor_int) && is.integer(vektor_int)) {\n",
    "            sum <- 0\n",
    "            for (i in 1:length(vektor_int)) {\n",
    "                sum <- sum + vektor_int[i]\n",
    "            }\n",
    "            return(sum)\n",
    "        }\n",
    "    }\n",
    "}\n",
    "\n",
    "\n",
    "\n",
    "\n",
    "průměr <- function(vektor) {\n",
    "    \n",
    "    if (!is.vector(vektor) || any(!is.numeric(vektor) && !is.integer(vektor))) {\n",
    "        warning(\"Je nám líto, ale tato funkce podporuje pouze celočíselné a číselné vektory.\")\n",
    "        return(NULL)\n",
    "    } else {\n",
    "        vektor_int <- as.integer(vektor)\n",
    "        \n",
    "        if (!is.null(vektor_int) && is.integer(vektor_int)) {\n",
    "            sum <- 0\n",
    "            for (i in 1:length(vektor_int)) {\n",
    "                sum <- sum + vektor_int[i]\n",
    "            }\n",
    "            return(sum/length(vektor_int))\n",
    "        }\n",
    "    }\n",
    "}\n",
    "\n"
   ]
  },
  {
   "cell_type": "code",
   "execution_count": 2,
   "metadata": {
    "scrolled": false
   },
   "outputs": [
    {
     "data": {
      "text/html": [
       "50"
      ],
      "text/latex": [
       "50"
      ],
      "text/markdown": [
       "50"
      ],
      "text/plain": [
       "[1] 50"
      ]
     },
     "metadata": {},
     "output_type": "display_data"
    },
    {
     "data": {
      "text/html": [
       "5"
      ],
      "text/latex": [
       "5"
      ],
      "text/markdown": [
       "5"
      ],
      "text/plain": [
       "[1] 5"
      ]
     },
     "metadata": {},
     "output_type": "display_data"
    }
   ],
   "source": [
    "suma(rep(5, 10))\n",
    "průměr(rep(5, 10))"
   ]
  },
  {
   "cell_type": "code",
   "execution_count": 3,
   "metadata": {},
   "outputs": [
    {
     "name": "stderr",
     "output_type": "stream",
     "text": [
      "Warning message in suma(\"hf\"):\n",
      "“Je nám líto, ale tato funkce podporuje pouze celočíselné a číselné vektory.”\n"
     ]
    },
    {
     "data": {
      "text/plain": [
       "NULL"
      ]
     },
     "metadata": {},
     "output_type": "display_data"
    },
    {
     "name": "stderr",
     "output_type": "stream",
     "text": [
      "Warning message in průměr(T):\n",
      "“Je nám líto, ale tato funkce podporuje pouze celočíselné a číselné vektory.”\n"
     ]
    },
    {
     "data": {
      "text/plain": [
       "NULL"
      ]
     },
     "metadata": {},
     "output_type": "display_data"
    }
   ],
   "source": [
    "suma('hf')\n",
    "průměr(T)"
   ]
  },
  {
   "cell_type": "markdown",
   "metadata": {},
   "source": [
    "## Do dvojkové soustavy a zpět\n",
    "\n",
    "Vytvořte funkci `to_bin`, která převede vstupní číselné hodnoty (reprezentované jako vektor) na vektor textových řetězců reprezentující tato čísla ve dvojkové soustavě. Dále pak vytvořte funkci `to_dec`, která výstup funkce `to_bin` převede zpět na původní vektor čísel v desítkové soustavě."
   ]
  },
  {
   "cell_type": "code",
   "execution_count": 4,
   "metadata": {},
   "outputs": [],
   "source": [
    "to_bin <- function(vektor) {\n",
    "    binary_rep <- list()\n",
    "    for (i in 1:length(vektor)) {\n",
    "        binary_rep[[i]] <- intToBits(vektor[i])\n",
    "    }\n",
    "    return (binary_rep)\n",
    "}\n",
    "\n",
    "# I don't know. It seems a function bin2int(x) just deleted from R\n",
    "to_dec <- function(vektor) {\n",
    "    int_rep <- list()\n",
    "    for (i in 1:length(vektor)) {\n",
    "        int_rep <- bin2int(vektor[i])\n",
    "    }\n",
    "    return (int_rep)\n",
    "\n",
    "}"
   ]
  },
  {
   "cell_type": "code",
   "execution_count": 5,
   "metadata": {
    "scrolled": false
   },
   "outputs": [
    {
     "data": {
      "text/plain": [
       "[[1]]\n",
       " [1] 00 01 00 00 00 00 00 00 00 00 00 00 00 00 00 00 00 00 00 00 00 00 00 00 00\n",
       "[26] 00 00 00 00 00 00 00\n",
       "\n",
       "[[2]]\n",
       " [1] 00 00 00 00 00 00 01 00 00 00 00 00 00 00 00 00 00 00 00 00 00 00 00 00 00\n",
       "[26] 00 00 00 00 00 00 00\n",
       "\n",
       "[[3]]\n",
       " [1] 00 01 01 00 01 01 01 00 00 00 00 00 00 00 00 00 00 00 00 00 00 00 00 00 00\n",
       "[26] 00 00 00 00 00 00 00\n"
      ]
     },
     "metadata": {},
     "output_type": "display_data"
    }
   ],
   "source": [
    "to_bin(c(2, 64, 118))\n",
    "# to_dec(to_bin(c(2, 64, 118)))"
   ]
  },
  {
   "cell_type": "markdown",
   "metadata": {},
   "source": [
    "## Šifra\n",
    "\n",
    "Napište dvě funkce (šifrovací a dešifrovací), které budou založené na primitivním klíči, který šifruje písmena podle jejich pořadí v abecedě (velká a malá písmena se nerozlišují). Předpokládejte, že šifrovaný text vždy sestává pouze z anglické abecedy. Mezery mezi slovy a interpunkční znaménka se šifrují podle následujícího klíče:\n",
    "\n",
    " - ` ` -> 27\n",
    " - `.` -> 28\n",
    " - `!` -> 29\n",
    " - `?` -> 30\n",
    " - `,` -> 31\n",
    " \n",
    "Vstupem šifrovací funkce je text samotný a vstupem dešifrovací potom vektor čísel.\n",
    " \n",
    "Těla funkcí:"
   ]
  },
  {
   "cell_type": "code",
   "execution_count": 6,
   "metadata": {},
   "outputs": [],
   "source": [
    "alphabet_dict <- data.frame(\n",
    "  key = letters,\n",
    "  value = 1:26\n",
    ")\n",
    "\n",
    "additional_chars <- data.frame(\n",
    "  key = c(' ', \".\", \"!\", \"?\", \",\"),\n",
    "  value = c(27, 28, 29, 30, 31)\n",
    ")\n",
    "\n",
    "# Add the additional characters to the alphabet_dict data frame\n",
    "alphabet_dict <- rbind(alphabet_dict, additional_chars)\n",
    "\n",
    "encrypt <- function(text) {\n",
    "  text <- tolower(text)\n",
    "  encrypted_text <- character(0)  # Initialize an empty character vector\n",
    "  for (ch in strsplit(text, NULL)[[1]]) { \n",
    "    if (ch %in% alphabet_dict$key) {\n",
    "      position <- alphabet_dict[alphabet_dict$key == ch, 'value'][1]\n",
    "      encrypted_text <- c(encrypted_text, as.character(position))\n",
    "    } else {\n",
    "      encrypted_text <- c(encrypted_text, ch)  # Keep non-alphabet characters unchanged\n",
    "    }\n",
    "  }\n",
    "  return(paste(encrypted_text, collapse = ' '))\n",
    "}\n",
    "\n",
    "\n",
    "decrypt <- function(cypher) {\n",
    "    encrypted_text <- character(0)  # Initialize an empty character vector\n",
    "  for (ch in strsplit(cypher, ' ')[[1]]) { \n",
    "    if (ch %in% alphabet_dict$value) {\n",
    "      position <- alphabet_dict[alphabet_dict$value == ch, 'key'][1]\n",
    "      encrypted_text <- c(encrypted_text, as.character(position))\n",
    "    }\n",
    "  }\n",
    "  return(paste(encrypted_text, collapse = ''))\n",
    "}"
   ]
  },
  {
   "cell_type": "markdown",
   "metadata": {},
   "source": [
    "Testovací kód:"
   ]
  },
  {
   "cell_type": "code",
   "execution_count": 7,
   "metadata": {
    "scrolled": false
   },
   "outputs": [
    {
     "name": "stdout",
     "output_type": "stream",
     "text": [
      "[1] \"8 9 29 27 9 27 8 15 16 5 27 14 15 27 15 14 5 27 9 19 27 18 5 1 4 9 14 7 27 20 8 9 19 28\"\n"
     ]
    },
    {
     "data": {
      "text/html": [
       "'hi! i hope no one is reading this.'"
      ],
      "text/latex": [
       "'hi! i hope no one is reading this.'"
      ],
      "text/markdown": [
       "'hi! i hope no one is reading this.'"
      ],
      "text/plain": [
       "[1] \"hi! i hope no one is reading this.\""
      ]
     },
     "metadata": {},
     "output_type": "display_data"
    }
   ],
   "source": [
    "encrypted_text <- encrypt(\"Hi! I hope no one is reading this.\")\n",
    "print(encrypted_text)\n",
    "decrypt(encrypted_text)"
   ]
  },
  {
   "cell_type": "markdown",
   "metadata": {},
   "source": [
    "## Počítání písmen\n",
    "\n",
    "Vytvořte funkci, která vytiskne všechna písmena z anglické abecedy (bez ohledu na velikost) vyskytující se v daném textu a počet jejich výskytů.\n",
    "\n",
    "Tělo funkce:"
   ]
  },
  {
   "cell_type": "code",
   "execution_count": 8,
   "metadata": {},
   "outputs": [],
   "source": [
    "text_stats <- function(text) {\n",
    "  char_count <- data.frame(key = character(0), value = numeric(0))\n",
    "  text <- tolower(text)\n",
    "  chars <- strsplit(text, NULL)[[1]]\n",
    "  \n",
    "  for (ch in chars) {\n",
    "    if (!(ch %in% char_count$key)) {\n",
    "      char_count <- rbind(char_count, data.frame(key = ch, value = 1))\n",
    "    } else {\n",
    "      char_count[char_count$key == ch, 'value'] <- char_count[char_count$key == ch, 'value'] + 1\n",
    "    }\n",
    "  }\n",
    "  \n",
    "   # Sort the result by the 'key' column in alphabetical order\n",
    "  char_count <- char_count[order(char_count$key), ]\n",
    "  \n",
    "  return(char_count)\n",
    "}"
   ]
  },
  {
   "cell_type": "markdown",
   "metadata": {},
   "source": [
    "Testovací kód:"
   ]
  },
  {
   "cell_type": "code",
   "execution_count": 9,
   "metadata": {
    "scrolled": true
   },
   "outputs": [
    {
     "data": {
      "text/html": [
       "<table class=\"dataframe\">\n",
       "<caption>A data.frame: 15 × 2</caption>\n",
       "<thead>\n",
       "\t<tr><th></th><th scope=col>key</th><th scope=col>value</th></tr>\n",
       "\t<tr><th></th><th scope=col>&lt;chr&gt;</th><th scope=col>&lt;dbl&gt;</th></tr>\n",
       "</thead>\n",
       "<tbody>\n",
       "\t<tr><th scope=row>4</th><td> </td><td>6</td></tr>\n",
       "\t<tr><th scope=row>3</th><td>!</td><td>1</td></tr>\n",
       "\t<tr><th scope=row>15</th><td>.</td><td>1</td></tr>\n",
       "\t<tr><th scope=row>11</th><td>a</td><td>1</td></tr>\n",
       "\t<tr><th scope=row>12</th><td>d</td><td>1</td></tr>\n",
       "\t<tr><th scope=row>7</th><td>e</td><td>3</td></tr>\n",
       "\t<tr><th scope=row>13</th><td>g</td><td>1</td></tr>\n",
       "\t<tr><th scope=row>1</th><td>h</td><td>3</td></tr>\n",
       "\t<tr><th scope=row>2</th><td>i</td><td>5</td></tr>\n",
       "\t<tr><th scope=row>8</th><td>n</td><td>3</td></tr>\n",
       "\t<tr><th scope=row>5</th><td>o</td><td>3</td></tr>\n",
       "\t<tr><th scope=row>6</th><td>p</td><td>1</td></tr>\n",
       "\t<tr><th scope=row>10</th><td>r</td><td>1</td></tr>\n",
       "\t<tr><th scope=row>9</th><td>s</td><td>2</td></tr>\n",
       "\t<tr><th scope=row>14</th><td>t</td><td>1</td></tr>\n",
       "</tbody>\n",
       "</table>\n"
      ],
      "text/latex": [
       "A data.frame: 15 × 2\n",
       "\\begin{tabular}{r|ll}\n",
       "  & key & value\\\\\n",
       "  & <chr> & <dbl>\\\\\n",
       "\\hline\n",
       "\t4 &   & 6\\\\\n",
       "\t3 & ! & 1\\\\\n",
       "\t15 & . & 1\\\\\n",
       "\t11 & a & 1\\\\\n",
       "\t12 & d & 1\\\\\n",
       "\t7 & e & 3\\\\\n",
       "\t13 & g & 1\\\\\n",
       "\t1 & h & 3\\\\\n",
       "\t2 & i & 5\\\\\n",
       "\t8 & n & 3\\\\\n",
       "\t5 & o & 3\\\\\n",
       "\t6 & p & 1\\\\\n",
       "\t10 & r & 1\\\\\n",
       "\t9 & s & 2\\\\\n",
       "\t14 & t & 1\\\\\n",
       "\\end{tabular}\n"
      ],
      "text/markdown": [
       "\n",
       "A data.frame: 15 × 2\n",
       "\n",
       "| <!--/--> | key &lt;chr&gt; | value &lt;dbl&gt; |\n",
       "|---|---|---|\n",
       "| 4 | <!----> | 6 |\n",
       "| 3 | ! | 1 |\n",
       "| 15 | . | 1 |\n",
       "| 11 | a | 1 |\n",
       "| 12 | d | 1 |\n",
       "| 7 | e | 3 |\n",
       "| 13 | g | 1 |\n",
       "| 1 | h | 3 |\n",
       "| 2 | i | 5 |\n",
       "| 8 | n | 3 |\n",
       "| 5 | o | 3 |\n",
       "| 6 | p | 1 |\n",
       "| 10 | r | 1 |\n",
       "| 9 | s | 2 |\n",
       "| 14 | t | 1 |\n",
       "\n"
      ],
      "text/plain": [
       "   key value\n",
       "4      6    \n",
       "3  !   1    \n",
       "15 .   1    \n",
       "11 a   1    \n",
       "12 d   1    \n",
       "7  e   3    \n",
       "13 g   1    \n",
       "1  h   3    \n",
       "2  i   5    \n",
       "8  n   3    \n",
       "5  o   3    \n",
       "6  p   1    \n",
       "10 r   1    \n",
       "9  s   2    \n",
       "14 t   1    "
      ]
     },
     "metadata": {},
     "output_type": "display_data"
    }
   ],
   "source": [
    "text_stats(\"Hi! I hope noone is reading this.\")"
   ]
  },
  {
   "cell_type": "markdown",
   "metadata": {},
   "source": [
    "## Extrakce slov\n",
    "\n",
    "\n",
    "Vytvořte a otestujte funkci, která vyjme všechna slova z daného textového řetězce a vrátí je uživateli jako vektor. Vrácená slova musí být bez interpunkčních znamének a všechna písmena musí být malá. Slova jsou ve stejném pořadí jako v textu. \n",
    "\n",
    "Funkce bude mít též argument `unique`, kterým bude možno specifikovat, zda může výsledek obsahovat duplicity nebo ne. V případě použití argumentu `unique` funkce vrátí slova v abecedním pořadí.\n",
    "\n",
    "Tělo funkce:"
   ]
  },
  {
   "cell_type": "code",
   "execution_count": 10,
   "metadata": {},
   "outputs": [],
   "source": [
    "extract_words <- function(text, unique = FALSE) {\n",
    "  # Remove punctuation using regular expression\n",
    "  text <- tolower(text)\n",
    "  text <- gsub(\"[[:punct:]]\", \"\", text)\n",
    "  \n",
    "  # Split the text into words\n",
    "  words <- strsplit(text, ' ')[[1]]\n",
    "  \n",
    "  # Return unique words if requested\n",
    "  if (unique) {\n",
    "    words <- unique(words)\n",
    "  }\n",
    "  \n",
    "  return(words)\n",
    "}\n"
   ]
  },
  {
   "cell_type": "markdown",
   "metadata": {},
   "source": [
    "Testovací kód:"
   ]
  },
  {
   "cell_type": "code",
   "execution_count": 11,
   "metadata": {},
   "outputs": [
    {
     "data": {
      "text/html": [
       "<style>\n",
       ".list-inline {list-style: none; margin:0; padding: 0}\n",
       ".list-inline>li {display: inline-block}\n",
       ".list-inline>li:not(:last-child)::after {content: \"\\00b7\"; padding: 0 .5ex}\n",
       "</style>\n",
       "<ol class=list-inline><li>'ahoj'</li><li>'jak'</li><li>'se'</li><li>'máš'</li></ol>\n"
      ],
      "text/latex": [
       "\\begin{enumerate*}\n",
       "\\item 'ahoj'\n",
       "\\item 'jak'\n",
       "\\item 'se'\n",
       "\\item 'máš'\n",
       "\\end{enumerate*}\n"
      ],
      "text/markdown": [
       "1. 'ahoj'\n",
       "2. 'jak'\n",
       "3. 'se'\n",
       "4. 'máš'\n",
       "\n",
       "\n"
      ],
      "text/plain": [
       "[1] \"ahoj\" \"jak\"  \"se\"   \"máš\" "
      ]
     },
     "metadata": {},
     "output_type": "display_data"
    },
    {
     "data": {
      "text/html": [
       "<style>\n",
       ".list-inline {list-style: none; margin:0; padding: 0}\n",
       ".list-inline>li {display: inline-block}\n",
       ".list-inline>li:not(:last-child)::after {content: \"\\00b7\"; padding: 0 .5ex}\n",
       "</style>\n",
       "<ol class=list-inline><li>'ahoj'</li><li>'jak'</li><li>'se'</li><li>'máš'</li><li>'tahle'</li><li>'funkce'</li><li>'se'</li><li>'ti'</li><li>'fakt'</li><li>'povedla'</li></ol>\n"
      ],
      "text/latex": [
       "\\begin{enumerate*}\n",
       "\\item 'ahoj'\n",
       "\\item 'jak'\n",
       "\\item 'se'\n",
       "\\item 'máš'\n",
       "\\item 'tahle'\n",
       "\\item 'funkce'\n",
       "\\item 'se'\n",
       "\\item 'ti'\n",
       "\\item 'fakt'\n",
       "\\item 'povedla'\n",
       "\\end{enumerate*}\n"
      ],
      "text/markdown": [
       "1. 'ahoj'\n",
       "2. 'jak'\n",
       "3. 'se'\n",
       "4. 'máš'\n",
       "5. 'tahle'\n",
       "6. 'funkce'\n",
       "7. 'se'\n",
       "8. 'ti'\n",
       "9. 'fakt'\n",
       "10. 'povedla'\n",
       "\n",
       "\n"
      ],
      "text/plain": [
       " [1] \"ahoj\"    \"jak\"     \"se\"      \"máš\"     \"tahle\"   \"funkce\"  \"se\"     \n",
       " [8] \"ti\"      \"fakt\"    \"povedla\""
      ]
     },
     "metadata": {},
     "output_type": "display_data"
    },
    {
     "data": {
      "text/html": [
       "<style>\n",
       ".list-inline {list-style: none; margin:0; padding: 0}\n",
       ".list-inline>li {display: inline-block}\n",
       ".list-inline>li:not(:last-child)::after {content: \"\\00b7\"; padding: 0 .5ex}\n",
       "</style>\n",
       "<ol class=list-inline><li>'ahoj'</li><li>'jak'</li><li>'se'</li><li>'máš'</li><li>'já'</li><li>'se'</li><li>'mám'</li><li>'dobře'</li><li>'tak'</li><li>'zase'</li><li>'někdy'</li><li>'ahoj'</li></ol>\n"
      ],
      "text/latex": [
       "\\begin{enumerate*}\n",
       "\\item 'ahoj'\n",
       "\\item 'jak'\n",
       "\\item 'se'\n",
       "\\item 'máš'\n",
       "\\item 'já'\n",
       "\\item 'se'\n",
       "\\item 'mám'\n",
       "\\item 'dobře'\n",
       "\\item 'tak'\n",
       "\\item 'zase'\n",
       "\\item 'někdy'\n",
       "\\item 'ahoj'\n",
       "\\end{enumerate*}\n"
      ],
      "text/markdown": [
       "1. 'ahoj'\n",
       "2. 'jak'\n",
       "3. 'se'\n",
       "4. 'máš'\n",
       "5. 'já'\n",
       "6. 'se'\n",
       "7. 'mám'\n",
       "8. 'dobře'\n",
       "9. 'tak'\n",
       "10. 'zase'\n",
       "11. 'někdy'\n",
       "12. 'ahoj'\n",
       "\n",
       "\n"
      ],
      "text/plain": [
       " [1] \"ahoj\"  \"jak\"   \"se\"    \"máš\"   \"já\"    \"se\"    \"mám\"   \"dobře\" \"tak\"  \n",
       "[10] \"zase\"  \"někdy\" \"ahoj\" "
      ]
     },
     "metadata": {},
     "output_type": "display_data"
    },
    {
     "data": {
      "text/html": [
       "<style>\n",
       ".list-inline {list-style: none; margin:0; padding: 0}\n",
       ".list-inline>li {display: inline-block}\n",
       ".list-inline>li:not(:last-child)::after {content: \"\\00b7\"; padding: 0 .5ex}\n",
       "</style>\n",
       "<ol class=list-inline><li>'ahoj'</li><li>'jak'</li><li>'se'</li><li>'máš'</li><li>'já'</li><li>'mám'</li><li>'dobře'</li><li>'tak'</li><li>'zase'</li><li>'někdy'</li></ol>\n"
      ],
      "text/latex": [
       "\\begin{enumerate*}\n",
       "\\item 'ahoj'\n",
       "\\item 'jak'\n",
       "\\item 'se'\n",
       "\\item 'máš'\n",
       "\\item 'já'\n",
       "\\item 'mám'\n",
       "\\item 'dobře'\n",
       "\\item 'tak'\n",
       "\\item 'zase'\n",
       "\\item 'někdy'\n",
       "\\end{enumerate*}\n"
      ],
      "text/markdown": [
       "1. 'ahoj'\n",
       "2. 'jak'\n",
       "3. 'se'\n",
       "4. 'máš'\n",
       "5. 'já'\n",
       "6. 'mám'\n",
       "7. 'dobře'\n",
       "8. 'tak'\n",
       "9. 'zase'\n",
       "10. 'někdy'\n",
       "\n",
       "\n"
      ],
      "text/plain": [
       " [1] \"ahoj\"  \"jak\"   \"se\"    \"máš\"   \"já\"    \"mám\"   \"dobře\" \"tak\"   \"zase\" \n",
       "[10] \"někdy\""
      ]
     },
     "metadata": {},
     "output_type": "display_data"
    }
   ],
   "source": [
    "extract_words(\"Ahoj, jak se máš?\")\n",
    "extract_words(\"Ahoj, jak se máš? Tahle funkce se ti fakt povedla!\")\n",
    "extract_words(\"Ahoj, jak se máš? Já se mám dobře. Tak zase někdy. Ahoj.\")\n",
    "extract_words(\"Ahoj, jak se máš? Já se mám dobře. Tak zase někdy. Ahoj.\", unique = T)"
   ]
  },
  {
   "cell_type": "code",
   "execution_count": null,
   "metadata": {},
   "outputs": [],
   "source": []
  }
 ],
 "metadata": {
  "kernelspec": {
   "display_name": "R",
   "language": "R",
   "name": "ir"
  },
  "language_info": {
   "codemirror_mode": "r",
   "file_extension": ".r",
   "mimetype": "text/x-r-source",
   "name": "R",
   "pygments_lexer": "r",
   "version": "4.2.3"
  },
  "toc": {
   "base_numbering": 1,
   "nav_menu": {},
   "number_sections": true,
   "sideBar": true,
   "skip_h1_title": true,
   "title_cell": "Table of Contents",
   "title_sidebar": "Contents",
   "toc_cell": true,
   "toc_position": {},
   "toc_section_display": "block",
   "toc_window_display": false
  }
 },
 "nbformat": 4,
 "nbformat_minor": 2
}
