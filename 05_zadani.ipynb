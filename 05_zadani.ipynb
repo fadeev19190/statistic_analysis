{
  "cells": [
    {
      "cell_type": "markdown",
      "metadata": {
        "toc": true,
        "id": "XDsCHWWfzPJq"
      },
      "source": [
        "<h1>Table of Contents<span class=\"tocSkip\"></span></h1>\n",
        "<div class=\"toc\"><ul class=\"toc-item\"><li><span><a href=\"#Top-Ten\" data-toc-modified-id=\"Top-Ten-1\"><span class=\"toc-item-num\">1&nbsp;&nbsp;</span>Top Ten</a></span></li><li><span><a href=\"#Popular-Top-Ten\" data-toc-modified-id=\"Popular-Top-Ten-2\"><span class=\"toc-item-num\">2&nbsp;&nbsp;</span>Popular Top Ten</a></span></li><li><span><a href=\"#GenreCount\" data-toc-modified-id=\"GenreCount-3\"><span class=\"toc-item-num\">3&nbsp;&nbsp;</span>GenreCount</a></span></li><li><span><a href=\"#Documentary-Galore\" data-toc-modified-id=\"Documentary-Galore-4\"><span class=\"toc-item-num\">4&nbsp;&nbsp;</span>Documentary Galore</a></span></li><li><span><a href=\"#Top-Three-Per-Genre\" data-toc-modified-id=\"Top-Three-Per-Genre-5\"><span class=\"toc-item-num\">5&nbsp;&nbsp;</span>Top Three Per Genre</a></span></li><li><span><a href=\"#Genre-Averages\" data-toc-modified-id=\"Genre-Averages-6\"><span class=\"toc-item-num\">6&nbsp;&nbsp;</span>Genre Averages</a></span></li><li><span><a href=\"#Romantic-Comedy-by-Decades\" data-toc-modified-id=\"Romantic-Comedy-by-Decades-7\"><span class=\"toc-item-num\">7&nbsp;&nbsp;</span>Romantic Comedy by Decades</a></span></li></ul></div>"
      ]
    },
    {
      "cell_type": "markdown",
      "metadata": {
        "id": "gwVIXhvEzPJr"
      },
      "source": [
        "# International Movie Database\n",
        "\n",
        "Data o 58,786 filmech do roku 2005."
      ]
    },
    {
      "cell_type": "code",
      "execution_count": 45,
      "metadata": {
        "colab": {
          "base_uri": "https://localhost:8080/",
          "height": 388
        },
        "id": "pIYm0y1CzPJr",
        "outputId": "f29aa32c-53cc-4434-b4e1-f264fca3579d"
      },
      "outputs": [
        {
          "output_type": "display_data",
          "data": {
            "text/html": [
              "<table class=\"dataframe\">\n",
              "<caption>A data.frame: 6 × 25</caption>\n",
              "<thead>\n",
              "\t<tr><th></th><th scope=col>var1</th><th scope=col>title</th><th scope=col>year</th><th scope=col>length</th><th scope=col>budget</th><th scope=col>rating</th><th scope=col>votes</th><th scope=col>r1</th><th scope=col>r2</th><th scope=col>r3</th><th scope=col>⋯</th><th scope=col>r9</th><th scope=col>r10</th><th scope=col>mpaa</th><th scope=col>Action</th><th scope=col>Animation</th><th scope=col>Comedy</th><th scope=col>Drama</th><th scope=col>Documentary</th><th scope=col>Romance</th><th scope=col>Short</th></tr>\n",
              "\t<tr><th></th><th scope=col>&lt;int&gt;</th><th scope=col>&lt;chr&gt;</th><th scope=col>&lt;int&gt;</th><th scope=col>&lt;int&gt;</th><th scope=col>&lt;int&gt;</th><th scope=col>&lt;dbl&gt;</th><th scope=col>&lt;int&gt;</th><th scope=col>&lt;dbl&gt;</th><th scope=col>&lt;dbl&gt;</th><th scope=col>&lt;dbl&gt;</th><th scope=col>⋯</th><th scope=col>&lt;dbl&gt;</th><th scope=col>&lt;dbl&gt;</th><th scope=col>&lt;chr&gt;</th><th scope=col>&lt;int&gt;</th><th scope=col>&lt;int&gt;</th><th scope=col>&lt;int&gt;</th><th scope=col>&lt;int&gt;</th><th scope=col>&lt;int&gt;</th><th scope=col>&lt;int&gt;</th><th scope=col>&lt;int&gt;</th></tr>\n",
              "</thead>\n",
              "<tbody>\n",
              "\t<tr><th scope=row>1</th><td>1</td><td>$                       </td><td>1971</td><td>121</td><td>NA</td><td>6.4</td><td>348</td><td> 4.5</td><td> 4.5</td><td>4.5</td><td>⋯</td><td> 4.5</td><td> 4.5</td><td></td><td>0</td><td>0</td><td>1</td><td>1</td><td>0</td><td>0</td><td>0</td></tr>\n",
              "\t<tr><th scope=row>2</th><td>2</td><td>$1000 a Touchdown       </td><td>1939</td><td> 71</td><td>NA</td><td>6.0</td><td> 20</td><td> 0.0</td><td>14.5</td><td>4.5</td><td>⋯</td><td> 4.5</td><td>14.5</td><td></td><td>0</td><td>0</td><td>1</td><td>0</td><td>0</td><td>0</td><td>0</td></tr>\n",
              "\t<tr><th scope=row>3</th><td>3</td><td>$21 a Day Once a Month  </td><td>1941</td><td>  7</td><td>NA</td><td>8.2</td><td>  5</td><td> 0.0</td><td> 0.0</td><td>0.0</td><td>⋯</td><td>24.5</td><td>24.5</td><td></td><td>0</td><td>1</td><td>0</td><td>0</td><td>0</td><td>0</td><td>1</td></tr>\n",
              "\t<tr><th scope=row>4</th><td>4</td><td>40000                   </td><td>1996</td><td> 70</td><td>NA</td><td>8.2</td><td>  6</td><td>14.5</td><td> 0.0</td><td>0.0</td><td>⋯</td><td>34.5</td><td>45.5</td><td></td><td>0</td><td>0</td><td>1</td><td>0</td><td>0</td><td>0</td><td>0</td></tr>\n",
              "\t<tr><th scope=row>5</th><td>5</td><td>$50,000 Climax Show, The</td><td>1975</td><td> 71</td><td>NA</td><td>3.4</td><td> 17</td><td>24.5</td><td> 4.5</td><td>0.0</td><td>⋯</td><td> 0.0</td><td>24.5</td><td></td><td>0</td><td>0</td><td>0</td><td>0</td><td>0</td><td>0</td><td>0</td></tr>\n",
              "\t<tr><th scope=row>6</th><td>6</td><td>$pent                   </td><td>2000</td><td> 91</td><td>NA</td><td>4.3</td><td> 45</td><td> 4.5</td><td> 4.5</td><td>4.5</td><td>⋯</td><td>14.5</td><td>14.5</td><td></td><td>0</td><td>0</td><td>0</td><td>1</td><td>0</td><td>0</td><td>0</td></tr>\n",
              "</tbody>\n",
              "</table>\n"
            ],
            "text/markdown": "\nA data.frame: 6 × 25\n\n| <!--/--> | var1 &lt;int&gt; | title &lt;chr&gt; | year &lt;int&gt; | length &lt;int&gt; | budget &lt;int&gt; | rating &lt;dbl&gt; | votes &lt;int&gt; | r1 &lt;dbl&gt; | r2 &lt;dbl&gt; | r3 &lt;dbl&gt; | ⋯ ⋯ | r9 &lt;dbl&gt; | r10 &lt;dbl&gt; | mpaa &lt;chr&gt; | Action &lt;int&gt; | Animation &lt;int&gt; | Comedy &lt;int&gt; | Drama &lt;int&gt; | Documentary &lt;int&gt; | Romance &lt;int&gt; | Short &lt;int&gt; |\n|---|---|---|---|---|---|---|---|---|---|---|---|---|---|---|---|---|---|---|---|---|---|\n| 1 | 1 | $                        | 1971 | 121 | NA | 6.4 | 348 |  4.5 |  4.5 | 4.5 | ⋯ |  4.5 |  4.5 | <!----> | 0 | 0 | 1 | 1 | 0 | 0 | 0 |\n| 2 | 2 | $1000 a Touchdown        | 1939 |  71 | NA | 6.0 |  20 |  0.0 | 14.5 | 4.5 | ⋯ |  4.5 | 14.5 | <!----> | 0 | 0 | 1 | 0 | 0 | 0 | 0 |\n| 3 | 3 | $21 a Day Once a Month   | 1941 |   7 | NA | 8.2 |   5 |  0.0 |  0.0 | 0.0 | ⋯ | 24.5 | 24.5 | <!----> | 0 | 1 | 0 | 0 | 0 | 0 | 1 |\n| 4 | 4 | 40000                    | 1996 |  70 | NA | 8.2 |   6 | 14.5 |  0.0 | 0.0 | ⋯ | 34.5 | 45.5 | <!----> | 0 | 0 | 1 | 0 | 0 | 0 | 0 |\n| 5 | 5 | $50,000 Climax Show, The | 1975 |  71 | NA | 3.4 |  17 | 24.5 |  4.5 | 0.0 | ⋯ |  0.0 | 24.5 | <!----> | 0 | 0 | 0 | 0 | 0 | 0 | 0 |\n| 6 | 6 | $pent                    | 2000 |  91 | NA | 4.3 |  45 |  4.5 |  4.5 | 4.5 | ⋯ | 14.5 | 14.5 | <!----> | 0 | 0 | 0 | 1 | 0 | 0 | 0 |\n\n",
            "text/latex": "A data.frame: 6 × 25\n\\begin{tabular}{r|lllllllllllllllllllll}\n  & var1 & title & year & length & budget & rating & votes & r1 & r2 & r3 & ⋯ & r9 & r10 & mpaa & Action & Animation & Comedy & Drama & Documentary & Romance & Short\\\\\n  & <int> & <chr> & <int> & <int> & <int> & <dbl> & <int> & <dbl> & <dbl> & <dbl> & ⋯ & <dbl> & <dbl> & <chr> & <int> & <int> & <int> & <int> & <int> & <int> & <int>\\\\\n\\hline\n\t1 & 1 & \\$                        & 1971 & 121 & NA & 6.4 & 348 &  4.5 &  4.5 & 4.5 & ⋯ &  4.5 &  4.5 &  & 0 & 0 & 1 & 1 & 0 & 0 & 0\\\\\n\t2 & 2 & \\$1000 a Touchdown        & 1939 &  71 & NA & 6.0 &  20 &  0.0 & 14.5 & 4.5 & ⋯ &  4.5 & 14.5 &  & 0 & 0 & 1 & 0 & 0 & 0 & 0\\\\\n\t3 & 3 & \\$21 a Day Once a Month   & 1941 &   7 & NA & 8.2 &   5 &  0.0 &  0.0 & 0.0 & ⋯ & 24.5 & 24.5 &  & 0 & 1 & 0 & 0 & 0 & 0 & 1\\\\\n\t4 & 4 & 40000                    & 1996 &  70 & NA & 8.2 &   6 & 14.5 &  0.0 & 0.0 & ⋯ & 34.5 & 45.5 &  & 0 & 0 & 1 & 0 & 0 & 0 & 0\\\\\n\t5 & 5 & \\$50,000 Climax Show, The & 1975 &  71 & NA & 3.4 &  17 & 24.5 &  4.5 & 0.0 & ⋯ &  0.0 & 24.5 &  & 0 & 0 & 0 & 0 & 0 & 0 & 0\\\\\n\t6 & 6 & \\$pent                    & 2000 &  91 & NA & 4.3 &  45 &  4.5 &  4.5 & 4.5 & ⋯ & 14.5 & 14.5 &  & 0 & 0 & 0 & 1 & 0 & 0 & 0\\\\\n\\end{tabular}\n",
            "text/plain": [
              "  var1 title                    year length budget rating votes r1   r2   r3  ⋯\n",
              "1 1    $                        1971 121    NA     6.4    348    4.5  4.5 4.5 ⋯\n",
              "2 2    $1000 a Touchdown        1939  71    NA     6.0     20    0.0 14.5 4.5 ⋯\n",
              "3 3    $21 a Day Once a Month   1941   7    NA     8.2      5    0.0  0.0 0.0 ⋯\n",
              "4 4    40000                    1996  70    NA     8.2      6   14.5  0.0 0.0 ⋯\n",
              "5 5    $50,000 Climax Show, The 1975  71    NA     3.4     17   24.5  4.5 0.0 ⋯\n",
              "6 6    $pent                    2000  91    NA     4.3     45    4.5  4.5 4.5 ⋯\n",
              "  r9   r10  mpaa Action Animation Comedy Drama Documentary Romance Short\n",
              "1  4.5  4.5      0      0         1      1     0           0       0    \n",
              "2  4.5 14.5      0      0         1      0     0           0       0    \n",
              "3 24.5 24.5      0      1         0      0     0           0       1    \n",
              "4 34.5 45.5      0      0         1      0     0           0       0    \n",
              "5  0.0 24.5      0      0         0      0     0           0       0    \n",
              "6 14.5 14.5      0      0         0      1     0           0       0    "
            ]
          },
          "metadata": {}
        }
      ],
      "source": [
        "url = 'https://raw.githubusercontent.com/lich-uct/r_tutorial/master/05/ukoly/imdb.csv'\n",
        "df_imdb <- read.table(url, sep=';', header = T)\n",
        "head(df_imdb)"
      ]
    },
    {
      "cell_type": "code",
      "execution_count": 46,
      "metadata": {
        "id": "k7qn38GUzPJs"
      },
      "outputs": [],
      "source": [
        "df_imdb$var1 <- NULL"
      ]
    },
    {
      "cell_type": "code",
      "source": [],
      "metadata": {
        "id": "KY_WxXKG2rK8"
      },
      "execution_count": 47,
      "outputs": []
    },
    {
      "cell_type": "markdown",
      "metadata": {
        "id": "jDqwCDx6zPJs"
      },
      "source": [
        "## Top Ten\n",
        "\n",
        "Zobrazte deset nejlépe hodnocených filmů (sloupec `rating`)."
      ]
    },
    {
      "cell_type": "code",
      "execution_count": 48,
      "metadata": {
        "colab": {
          "base_uri": "https://localhost:8080/",
          "height": 733
        },
        "id": "Qk3QbqNvzPJs",
        "outputId": "f90f5f25-7fbd-4b97-97a8-f7d5ae924712"
      },
      "outputs": [
        {
          "output_type": "display_data",
          "data": {
            "text/html": [
              "<table class=\"dataframe\">\n",
              "<caption>A data.frame: 10 × 24</caption>\n",
              "<thead>\n",
              "\t<tr><th></th><th scope=col>title</th><th scope=col>year</th><th scope=col>length</th><th scope=col>budget</th><th scope=col>rating</th><th scope=col>votes</th><th scope=col>r1</th><th scope=col>r2</th><th scope=col>r3</th><th scope=col>r4</th><th scope=col>⋯</th><th scope=col>r9</th><th scope=col>r10</th><th scope=col>mpaa</th><th scope=col>Action</th><th scope=col>Animation</th><th scope=col>Comedy</th><th scope=col>Drama</th><th scope=col>Documentary</th><th scope=col>Romance</th><th scope=col>Short</th></tr>\n",
              "\t<tr><th></th><th scope=col>&lt;chr&gt;</th><th scope=col>&lt;int&gt;</th><th scope=col>&lt;int&gt;</th><th scope=col>&lt;int&gt;</th><th scope=col>&lt;dbl&gt;</th><th scope=col>&lt;int&gt;</th><th scope=col>&lt;dbl&gt;</th><th scope=col>&lt;dbl&gt;</th><th scope=col>&lt;dbl&gt;</th><th scope=col>&lt;dbl&gt;</th><th scope=col>⋯</th><th scope=col>&lt;dbl&gt;</th><th scope=col>&lt;dbl&gt;</th><th scope=col>&lt;chr&gt;</th><th scope=col>&lt;int&gt;</th><th scope=col>&lt;int&gt;</th><th scope=col>&lt;int&gt;</th><th scope=col>&lt;int&gt;</th><th scope=col>&lt;int&gt;</th><th scope=col>&lt;int&gt;</th><th scope=col>&lt;int&gt;</th></tr>\n",
              "</thead>\n",
              "<tbody>\n",
              "\t<tr><th scope=row>13907</th><td>Dimensia Minds Trilogy: The Hope Factor</td><td>2004</td><td>10</td><td>  NA</td><td>10.0</td><td> 5</td><td>0</td><td>0.0</td><td>0.0</td><td>0</td><td>⋯</td><td> 0.0</td><td>100.0</td><td></td><td>0</td><td>0</td><td>0</td><td>0</td><td>0</td><td>0</td><td>1</td></tr>\n",
              "\t<tr><th scope=row>18015</th><td>Fishing for Love                       </td><td>2001</td><td> 7</td><td>  NA</td><td>10.0</td><td> 5</td><td>0</td><td>0.0</td><td>0.0</td><td>0</td><td>⋯</td><td> 0.0</td><td>100.0</td><td></td><td>0</td><td>0</td><td>1</td><td>0</td><td>0</td><td>0</td><td>1</td></tr>\n",
              "\t<tr><th scope=row>49844</th><td>Summer Sonata, A                       </td><td>2004</td><td>30</td><td>2000</td><td>10.0</td><td> 5</td><td>0</td><td>0.0</td><td>0.0</td><td>0</td><td>⋯</td><td> 0.0</td><td>100.0</td><td></td><td>0</td><td>0</td><td>0</td><td>1</td><td>0</td><td>0</td><td>1</td></tr>\n",
              "\t<tr><th scope=row>5898</th><td>Black Canyon                           </td><td>2004</td><td>25</td><td>3000</td><td> 9.9</td><td> 9</td><td>0</td><td>0.0</td><td>0.0</td><td>0</td><td>⋯</td><td>14.5</td><td> 84.5</td><td></td><td>0</td><td>0</td><td>0</td><td>0</td><td>0</td><td>0</td><td>1</td></tr>\n",
              "\t<tr><th scope=row>7711</th><td>Buck Privates                          </td><td>1928</td><td>70</td><td>  NA</td><td> 9.9</td><td> 7</td><td>0</td><td>0.0</td><td>0.0</td><td>0</td><td>⋯</td><td>14.5</td><td> 84.5</td><td></td><td>0</td><td>0</td><td>1</td><td>0</td><td>0</td><td>0</td><td>0</td></tr>\n",
              "\t<tr><th scope=row>13170</th><td>Defilada                               </td><td>1989</td><td>60</td><td>  NA</td><td> 9.9</td><td> 8</td><td>0</td><td>0.0</td><td>0.0</td><td>0</td><td>⋯</td><td>14.5</td><td> 84.5</td><td></td><td>0</td><td>0</td><td>0</td><td>0</td><td>1</td><td>0</td><td>0</td></tr>\n",
              "\t<tr><th scope=row>13908</th><td>Dimensia Minds Trilogy: The Reds       </td><td>2004</td><td> 8</td><td>1200</td><td> 9.9</td><td>15</td><td>0</td><td>0.0</td><td>0.0</td><td>0</td><td>⋯</td><td>14.5</td><td> 84.5</td><td></td><td>0</td><td>0</td><td>0</td><td>0</td><td>0</td><td>0</td><td>1</td></tr>\n",
              "\t<tr><th scope=row>15018</th><td>Drifting                               </td><td>2004</td><td>21</td><td>3000</td><td> 9.9</td><td>41</td><td>0</td><td>4.5</td><td>4.5</td><td>0</td><td>⋯</td><td> 0.0</td><td> 94.5</td><td></td><td>0</td><td>0</td><td>0</td><td>1</td><td>0</td><td>0</td><td>1</td></tr>\n",
              "\t<tr><th scope=row>15658</th><td>Ekdromi, I                             </td><td>1966</td><td>85</td><td>  NA</td><td> 9.9</td><td> 7</td><td>0</td><td>0.0</td><td>0.0</td><td>0</td><td>⋯</td><td>14.5</td><td> 84.5</td><td></td><td>0</td><td>0</td><td>0</td><td>1</td><td>0</td><td>1</td><td>0</td></tr>\n",
              "\t<tr><th scope=row>19825</th><td>Genet parle d'Angela Davis             </td><td>1970</td><td>10</td><td>  NA</td><td> 9.9</td><td> 7</td><td>0</td><td>0.0</td><td>0.0</td><td>0</td><td>⋯</td><td>24.5</td><td> 74.5</td><td></td><td>0</td><td>0</td><td>0</td><td>0</td><td>0</td><td>0</td><td>1</td></tr>\n",
              "</tbody>\n",
              "</table>\n"
            ],
            "text/markdown": "\nA data.frame: 10 × 24\n\n| <!--/--> | title &lt;chr&gt; | year &lt;int&gt; | length &lt;int&gt; | budget &lt;int&gt; | rating &lt;dbl&gt; | votes &lt;int&gt; | r1 &lt;dbl&gt; | r2 &lt;dbl&gt; | r3 &lt;dbl&gt; | r4 &lt;dbl&gt; | ⋯ ⋯ | r9 &lt;dbl&gt; | r10 &lt;dbl&gt; | mpaa &lt;chr&gt; | Action &lt;int&gt; | Animation &lt;int&gt; | Comedy &lt;int&gt; | Drama &lt;int&gt; | Documentary &lt;int&gt; | Romance &lt;int&gt; | Short &lt;int&gt; |\n|---|---|---|---|---|---|---|---|---|---|---|---|---|---|---|---|---|---|---|---|---|---|\n| 13907 | Dimensia Minds Trilogy: The Hope Factor | 2004 | 10 |   NA | 10.0 |  5 | 0 | 0.0 | 0.0 | 0 | ⋯ |  0.0 | 100.0 | <!----> | 0 | 0 | 0 | 0 | 0 | 0 | 1 |\n| 18015 | Fishing for Love                        | 2001 |  7 |   NA | 10.0 |  5 | 0 | 0.0 | 0.0 | 0 | ⋯ |  0.0 | 100.0 | <!----> | 0 | 0 | 1 | 0 | 0 | 0 | 1 |\n| 49844 | Summer Sonata, A                        | 2004 | 30 | 2000 | 10.0 |  5 | 0 | 0.0 | 0.0 | 0 | ⋯ |  0.0 | 100.0 | <!----> | 0 | 0 | 0 | 1 | 0 | 0 | 1 |\n| 5898 | Black Canyon                            | 2004 | 25 | 3000 |  9.9 |  9 | 0 | 0.0 | 0.0 | 0 | ⋯ | 14.5 |  84.5 | <!----> | 0 | 0 | 0 | 0 | 0 | 0 | 1 |\n| 7711 | Buck Privates                           | 1928 | 70 |   NA |  9.9 |  7 | 0 | 0.0 | 0.0 | 0 | ⋯ | 14.5 |  84.5 | <!----> | 0 | 0 | 1 | 0 | 0 | 0 | 0 |\n| 13170 | Defilada                                | 1989 | 60 |   NA |  9.9 |  8 | 0 | 0.0 | 0.0 | 0 | ⋯ | 14.5 |  84.5 | <!----> | 0 | 0 | 0 | 0 | 1 | 0 | 0 |\n| 13908 | Dimensia Minds Trilogy: The Reds        | 2004 |  8 | 1200 |  9.9 | 15 | 0 | 0.0 | 0.0 | 0 | ⋯ | 14.5 |  84.5 | <!----> | 0 | 0 | 0 | 0 | 0 | 0 | 1 |\n| 15018 | Drifting                                | 2004 | 21 | 3000 |  9.9 | 41 | 0 | 4.5 | 4.5 | 0 | ⋯ |  0.0 |  94.5 | <!----> | 0 | 0 | 0 | 1 | 0 | 0 | 1 |\n| 15658 | Ekdromi, I                              | 1966 | 85 |   NA |  9.9 |  7 | 0 | 0.0 | 0.0 | 0 | ⋯ | 14.5 |  84.5 | <!----> | 0 | 0 | 0 | 1 | 0 | 1 | 0 |\n| 19825 | Genet parle d'Angela Davis              | 1970 | 10 |   NA |  9.9 |  7 | 0 | 0.0 | 0.0 | 0 | ⋯ | 24.5 |  74.5 | <!----> | 0 | 0 | 0 | 0 | 0 | 0 | 1 |\n\n",
            "text/latex": "A data.frame: 10 × 24\n\\begin{tabular}{r|lllllllllllllllllllll}\n  & title & year & length & budget & rating & votes & r1 & r2 & r3 & r4 & ⋯ & r9 & r10 & mpaa & Action & Animation & Comedy & Drama & Documentary & Romance & Short\\\\\n  & <chr> & <int> & <int> & <int> & <dbl> & <int> & <dbl> & <dbl> & <dbl> & <dbl> & ⋯ & <dbl> & <dbl> & <chr> & <int> & <int> & <int> & <int> & <int> & <int> & <int>\\\\\n\\hline\n\t13907 & Dimensia Minds Trilogy: The Hope Factor & 2004 & 10 &   NA & 10.0 &  5 & 0 & 0.0 & 0.0 & 0 & ⋯ &  0.0 & 100.0 &  & 0 & 0 & 0 & 0 & 0 & 0 & 1\\\\\n\t18015 & Fishing for Love                        & 2001 &  7 &   NA & 10.0 &  5 & 0 & 0.0 & 0.0 & 0 & ⋯ &  0.0 & 100.0 &  & 0 & 0 & 1 & 0 & 0 & 0 & 1\\\\\n\t49844 & Summer Sonata, A                        & 2004 & 30 & 2000 & 10.0 &  5 & 0 & 0.0 & 0.0 & 0 & ⋯ &  0.0 & 100.0 &  & 0 & 0 & 0 & 1 & 0 & 0 & 1\\\\\n\t5898 & Black Canyon                            & 2004 & 25 & 3000 &  9.9 &  9 & 0 & 0.0 & 0.0 & 0 & ⋯ & 14.5 &  84.5 &  & 0 & 0 & 0 & 0 & 0 & 0 & 1\\\\\n\t7711 & Buck Privates                           & 1928 & 70 &   NA &  9.9 &  7 & 0 & 0.0 & 0.0 & 0 & ⋯ & 14.5 &  84.5 &  & 0 & 0 & 1 & 0 & 0 & 0 & 0\\\\\n\t13170 & Defilada                                & 1989 & 60 &   NA &  9.9 &  8 & 0 & 0.0 & 0.0 & 0 & ⋯ & 14.5 &  84.5 &  & 0 & 0 & 0 & 0 & 1 & 0 & 0\\\\\n\t13908 & Dimensia Minds Trilogy: The Reds        & 2004 &  8 & 1200 &  9.9 & 15 & 0 & 0.0 & 0.0 & 0 & ⋯ & 14.5 &  84.5 &  & 0 & 0 & 0 & 0 & 0 & 0 & 1\\\\\n\t15018 & Drifting                                & 2004 & 21 & 3000 &  9.9 & 41 & 0 & 4.5 & 4.5 & 0 & ⋯ &  0.0 &  94.5 &  & 0 & 0 & 0 & 1 & 0 & 0 & 1\\\\\n\t15658 & Ekdromi, I                              & 1966 & 85 &   NA &  9.9 &  7 & 0 & 0.0 & 0.0 & 0 & ⋯ & 14.5 &  84.5 &  & 0 & 0 & 0 & 1 & 0 & 1 & 0\\\\\n\t19825 & Genet parle d'Angela Davis              & 1970 & 10 &   NA &  9.9 &  7 & 0 & 0.0 & 0.0 & 0 & ⋯ & 24.5 &  74.5 &  & 0 & 0 & 0 & 0 & 0 & 0 & 1\\\\\n\\end{tabular}\n",
            "text/plain": [
              "      title                                   year length budget rating votes\n",
              "13907 Dimensia Minds Trilogy: The Hope Factor 2004 10       NA   10.0    5   \n",
              "18015 Fishing for Love                        2001  7       NA   10.0    5   \n",
              "49844 Summer Sonata, A                        2004 30     2000   10.0    5   \n",
              "5898  Black Canyon                            2004 25     3000    9.9    9   \n",
              "7711  Buck Privates                           1928 70       NA    9.9    7   \n",
              "13170 Defilada                                1989 60       NA    9.9    8   \n",
              "13908 Dimensia Minds Trilogy: The Reds        2004  8     1200    9.9   15   \n",
              "15018 Drifting                                2004 21     3000    9.9   41   \n",
              "15658 Ekdromi, I                              1966 85       NA    9.9    7   \n",
              "19825 Genet parle d'Angela Davis              1970 10       NA    9.9    7   \n",
              "      r1 r2  r3  r4 ⋯ r9   r10   mpaa Action Animation Comedy Drama Documentary\n",
              "13907 0  0.0 0.0 0  ⋯  0.0 100.0      0      0         0      0     0          \n",
              "18015 0  0.0 0.0 0  ⋯  0.0 100.0      0      0         1      0     0          \n",
              "49844 0  0.0 0.0 0  ⋯  0.0 100.0      0      0         0      1     0          \n",
              "5898  0  0.0 0.0 0  ⋯ 14.5  84.5      0      0         0      0     0          \n",
              "7711  0  0.0 0.0 0  ⋯ 14.5  84.5      0      0         1      0     0          \n",
              "13170 0  0.0 0.0 0  ⋯ 14.5  84.5      0      0         0      0     1          \n",
              "13908 0  0.0 0.0 0  ⋯ 14.5  84.5      0      0         0      0     0          \n",
              "15018 0  4.5 4.5 0  ⋯  0.0  94.5      0      0         0      1     0          \n",
              "15658 0  0.0 0.0 0  ⋯ 14.5  84.5      0      0         0      1     0          \n",
              "19825 0  0.0 0.0 0  ⋯ 24.5  74.5      0      0         0      0     0          \n",
              "      Romance Short\n",
              "13907 0       1    \n",
              "18015 0       1    \n",
              "49844 0       1    \n",
              "5898  0       1    \n",
              "7711  0       0    \n",
              "13170 0       0    \n",
              "13908 0       1    \n",
              "15018 0       1    \n",
              "15658 1       0    \n",
              "19825 0       1    "
            ]
          },
          "metadata": {}
        }
      ],
      "source": [
        "sorted_movies <- df_imdb[order(df_imdb$rating, decreasing = TRUE), ]\n",
        "\n",
        "top_10_movies <- sorted_movies[1:10, ]\n",
        "\n",
        "top_10_movies"
      ]
    },
    {
      "cell_type": "markdown",
      "metadata": {
        "id": "P5aYW6sYzPJs"
      },
      "source": [
        "## Popular Top Ten\n",
        "\n",
        "Zobrazte deset nejlépe hodnocených filmů, které mají alespoň 5000 hodnocení (sloupec `votes`)."
      ]
    },
    {
      "cell_type": "code",
      "execution_count": 49,
      "metadata": {
        "colab": {
          "base_uri": "https://localhost:8080/",
          "height": 648
        },
        "id": "HzDt8yqjzPJt",
        "outputId": "91020549-f875-41fb-9f38-9b0074a4f3bb"
      },
      "outputs": [
        {
          "output_type": "display_data",
          "data": {
            "text/html": [
              "<table class=\"dataframe\">\n",
              "<caption>A data.frame: 10 × 24</caption>\n",
              "<thead>\n",
              "\t<tr><th></th><th scope=col>title</th><th scope=col>year</th><th scope=col>length</th><th scope=col>budget</th><th scope=col>rating</th><th scope=col>votes</th><th scope=col>r1</th><th scope=col>r2</th><th scope=col>r3</th><th scope=col>r4</th><th scope=col>⋯</th><th scope=col>r9</th><th scope=col>r10</th><th scope=col>mpaa</th><th scope=col>Action</th><th scope=col>Animation</th><th scope=col>Comedy</th><th scope=col>Drama</th><th scope=col>Documentary</th><th scope=col>Romance</th><th scope=col>Short</th></tr>\n",
              "\t<tr><th></th><th scope=col>&lt;chr&gt;</th><th scope=col>&lt;int&gt;</th><th scope=col>&lt;int&gt;</th><th scope=col>&lt;int&gt;</th><th scope=col>&lt;dbl&gt;</th><th scope=col>&lt;int&gt;</th><th scope=col>&lt;dbl&gt;</th><th scope=col>&lt;dbl&gt;</th><th scope=col>&lt;dbl&gt;</th><th scope=col>&lt;dbl&gt;</th><th scope=col>⋯</th><th scope=col>&lt;dbl&gt;</th><th scope=col>&lt;dbl&gt;</th><th scope=col>&lt;chr&gt;</th><th scope=col>&lt;int&gt;</th><th scope=col>&lt;int&gt;</th><th scope=col>&lt;int&gt;</th><th scope=col>&lt;int&gt;</th><th scope=col>&lt;int&gt;</th><th scope=col>&lt;int&gt;</th><th scope=col>&lt;int&gt;</th></tr>\n",
              "</thead>\n",
              "<tbody>\n",
              "\t<tr><th scope=row>30656</th><td>Lord of the Rings: The Fellowship of the Ring, The</td><td>2001</td><td>208</td><td>93000000</td><td>8.8</td><td>157608</td><td>4.5</td><td>4.5</td><td>4.5</td><td>4.5</td><td>⋯</td><td>14.5</td><td>45.5</td><td>PG-13</td><td>1</td><td>0</td><td>0</td><td>0</td><td>0</td><td>0</td><td>0</td></tr>\n",
              "\t<tr><th scope=row>46267</th><td>Shawshank Redemption, The                         </td><td>1994</td><td>142</td><td>25000000</td><td>9.1</td><td>149494</td><td>4.5</td><td>4.5</td><td>4.5</td><td>4.5</td><td>⋯</td><td>24.5</td><td>45.5</td><td>R    </td><td>0</td><td>0</td><td>0</td><td>1</td><td>0</td><td>0</td><td>0</td></tr>\n",
              "\t<tr><th scope=row>32708</th><td>Matrix, The                                       </td><td>1999</td><td>136</td><td>63000000</td><td>8.5</td><td>143853</td><td>4.5</td><td>4.5</td><td>4.5</td><td>4.5</td><td>⋯</td><td>24.5</td><td>34.5</td><td>R    </td><td>1</td><td>0</td><td>0</td><td>0</td><td>0</td><td>0</td><td>0</td></tr>\n",
              "\t<tr><th scope=row>48906</th><td>Star Wars                                         </td><td>1977</td><td>125</td><td>11000000</td><td>8.8</td><td>134640</td><td>4.5</td><td>4.5</td><td>4.5</td><td>4.5</td><td>⋯</td><td>24.5</td><td>44.5</td><td>PG   </td><td>1</td><td>0</td><td>0</td><td>0</td><td>0</td><td>0</td><td>0</td></tr>\n",
              "\t<tr><th scope=row>41660</th><td>Pulp Fiction                                      </td><td>1994</td><td>168</td><td> 8000000</td><td>8.8</td><td>132745</td><td>4.5</td><td>4.5</td><td>4.5</td><td>4.5</td><td>⋯</td><td>24.5</td><td>44.5</td><td>R    </td><td>0</td><td>0</td><td>0</td><td>1</td><td>0</td><td>0</td><td>0</td></tr>\n",
              "\t<tr><th scope=row>20544</th><td>Godfather, The                                    </td><td>1972</td><td>175</td><td> 6000000</td><td>9.1</td><td>122755</td><td>4.5</td><td>4.5</td><td>4.5</td><td>4.5</td><td>⋯</td><td>14.5</td><td>45.5</td><td>     </td><td>0</td><td>0</td><td>0</td><td>1</td><td>0</td><td>0</td><td>0</td></tr>\n",
              "\t<tr><th scope=row>30658</th><td>Lord of the Rings: The Two Towers, The            </td><td>2002</td><td>223</td><td>94000000</td><td>8.8</td><td>114797</td><td>4.5</td><td>4.5</td><td>4.5</td><td>4.5</td><td>⋯</td><td>24.5</td><td>44.5</td><td>PG-13</td><td>1</td><td>0</td><td>0</td><td>0</td><td>0</td><td>0</td><td>0</td></tr>\n",
              "\t<tr><th scope=row>17656</th><td>Fight Club                                        </td><td>1999</td><td>139</td><td>63000000</td><td>8.5</td><td>112092</td><td>4.5</td><td>4.5</td><td>4.5</td><td>4.5</td><td>⋯</td><td>24.5</td><td>44.5</td><td>R    </td><td>0</td><td>0</td><td>0</td><td>1</td><td>0</td><td>0</td><td>0</td></tr>\n",
              "\t<tr><th scope=row>2106</th><td>American Beauty                                   </td><td>1999</td><td>121</td><td>15000000</td><td>8.5</td><td>109991</td><td>4.5</td><td>4.5</td><td>4.5</td><td>4.5</td><td>⋯</td><td>24.5</td><td>34.5</td><td>R    </td><td>0</td><td>0</td><td>0</td><td>1</td><td>0</td><td>0</td><td>0</td></tr>\n",
              "\t<tr><th scope=row>54663</th><td>Usual Suspects, The                               </td><td>1995</td><td>106</td><td> 6000000</td><td>8.7</td><td>103854</td><td>4.5</td><td>4.5</td><td>4.5</td><td>4.5</td><td>⋯</td><td>24.5</td><td>34.5</td><td>R    </td><td>0</td><td>0</td><td>0</td><td>0</td><td>0</td><td>0</td><td>0</td></tr>\n",
              "</tbody>\n",
              "</table>\n"
            ],
            "text/markdown": "\nA data.frame: 10 × 24\n\n| <!--/--> | title &lt;chr&gt; | year &lt;int&gt; | length &lt;int&gt; | budget &lt;int&gt; | rating &lt;dbl&gt; | votes &lt;int&gt; | r1 &lt;dbl&gt; | r2 &lt;dbl&gt; | r3 &lt;dbl&gt; | r4 &lt;dbl&gt; | ⋯ ⋯ | r9 &lt;dbl&gt; | r10 &lt;dbl&gt; | mpaa &lt;chr&gt; | Action &lt;int&gt; | Animation &lt;int&gt; | Comedy &lt;int&gt; | Drama &lt;int&gt; | Documentary &lt;int&gt; | Romance &lt;int&gt; | Short &lt;int&gt; |\n|---|---|---|---|---|---|---|---|---|---|---|---|---|---|---|---|---|---|---|---|---|---|\n| 30656 | Lord of the Rings: The Fellowship of the Ring, The | 2001 | 208 | 93000000 | 8.8 | 157608 | 4.5 | 4.5 | 4.5 | 4.5 | ⋯ | 14.5 | 45.5 | PG-13 | 1 | 0 | 0 | 0 | 0 | 0 | 0 |\n| 46267 | Shawshank Redemption, The                          | 1994 | 142 | 25000000 | 9.1 | 149494 | 4.5 | 4.5 | 4.5 | 4.5 | ⋯ | 24.5 | 45.5 | R     | 0 | 0 | 0 | 1 | 0 | 0 | 0 |\n| 32708 | Matrix, The                                        | 1999 | 136 | 63000000 | 8.5 | 143853 | 4.5 | 4.5 | 4.5 | 4.5 | ⋯ | 24.5 | 34.5 | R     | 1 | 0 | 0 | 0 | 0 | 0 | 0 |\n| 48906 | Star Wars                                          | 1977 | 125 | 11000000 | 8.8 | 134640 | 4.5 | 4.5 | 4.5 | 4.5 | ⋯ | 24.5 | 44.5 | PG    | 1 | 0 | 0 | 0 | 0 | 0 | 0 |\n| 41660 | Pulp Fiction                                       | 1994 | 168 |  8000000 | 8.8 | 132745 | 4.5 | 4.5 | 4.5 | 4.5 | ⋯ | 24.5 | 44.5 | R     | 0 | 0 | 0 | 1 | 0 | 0 | 0 |\n| 20544 | Godfather, The                                     | 1972 | 175 |  6000000 | 9.1 | 122755 | 4.5 | 4.5 | 4.5 | 4.5 | ⋯ | 14.5 | 45.5 | <!----> | 0 | 0 | 0 | 1 | 0 | 0 | 0 |\n| 30658 | Lord of the Rings: The Two Towers, The             | 2002 | 223 | 94000000 | 8.8 | 114797 | 4.5 | 4.5 | 4.5 | 4.5 | ⋯ | 24.5 | 44.5 | PG-13 | 1 | 0 | 0 | 0 | 0 | 0 | 0 |\n| 17656 | Fight Club                                         | 1999 | 139 | 63000000 | 8.5 | 112092 | 4.5 | 4.5 | 4.5 | 4.5 | ⋯ | 24.5 | 44.5 | R     | 0 | 0 | 0 | 1 | 0 | 0 | 0 |\n| 2106 | American Beauty                                    | 1999 | 121 | 15000000 | 8.5 | 109991 | 4.5 | 4.5 | 4.5 | 4.5 | ⋯ | 24.5 | 34.5 | R     | 0 | 0 | 0 | 1 | 0 | 0 | 0 |\n| 54663 | Usual Suspects, The                                | 1995 | 106 |  6000000 | 8.7 | 103854 | 4.5 | 4.5 | 4.5 | 4.5 | ⋯ | 24.5 | 34.5 | R     | 0 | 0 | 0 | 0 | 0 | 0 | 0 |\n\n",
            "text/latex": "A data.frame: 10 × 24\n\\begin{tabular}{r|lllllllllllllllllllll}\n  & title & year & length & budget & rating & votes & r1 & r2 & r3 & r4 & ⋯ & r9 & r10 & mpaa & Action & Animation & Comedy & Drama & Documentary & Romance & Short\\\\\n  & <chr> & <int> & <int> & <int> & <dbl> & <int> & <dbl> & <dbl> & <dbl> & <dbl> & ⋯ & <dbl> & <dbl> & <chr> & <int> & <int> & <int> & <int> & <int> & <int> & <int>\\\\\n\\hline\n\t30656 & Lord of the Rings: The Fellowship of the Ring, The & 2001 & 208 & 93000000 & 8.8 & 157608 & 4.5 & 4.5 & 4.5 & 4.5 & ⋯ & 14.5 & 45.5 & PG-13 & 1 & 0 & 0 & 0 & 0 & 0 & 0\\\\\n\t46267 & Shawshank Redemption, The                          & 1994 & 142 & 25000000 & 9.1 & 149494 & 4.5 & 4.5 & 4.5 & 4.5 & ⋯ & 24.5 & 45.5 & R     & 0 & 0 & 0 & 1 & 0 & 0 & 0\\\\\n\t32708 & Matrix, The                                        & 1999 & 136 & 63000000 & 8.5 & 143853 & 4.5 & 4.5 & 4.5 & 4.5 & ⋯ & 24.5 & 34.5 & R     & 1 & 0 & 0 & 0 & 0 & 0 & 0\\\\\n\t48906 & Star Wars                                          & 1977 & 125 & 11000000 & 8.8 & 134640 & 4.5 & 4.5 & 4.5 & 4.5 & ⋯ & 24.5 & 44.5 & PG    & 1 & 0 & 0 & 0 & 0 & 0 & 0\\\\\n\t41660 & Pulp Fiction                                       & 1994 & 168 &  8000000 & 8.8 & 132745 & 4.5 & 4.5 & 4.5 & 4.5 & ⋯ & 24.5 & 44.5 & R     & 0 & 0 & 0 & 1 & 0 & 0 & 0\\\\\n\t20544 & Godfather, The                                     & 1972 & 175 &  6000000 & 9.1 & 122755 & 4.5 & 4.5 & 4.5 & 4.5 & ⋯ & 14.5 & 45.5 &       & 0 & 0 & 0 & 1 & 0 & 0 & 0\\\\\n\t30658 & Lord of the Rings: The Two Towers, The             & 2002 & 223 & 94000000 & 8.8 & 114797 & 4.5 & 4.5 & 4.5 & 4.5 & ⋯ & 24.5 & 44.5 & PG-13 & 1 & 0 & 0 & 0 & 0 & 0 & 0\\\\\n\t17656 & Fight Club                                         & 1999 & 139 & 63000000 & 8.5 & 112092 & 4.5 & 4.5 & 4.5 & 4.5 & ⋯ & 24.5 & 44.5 & R     & 0 & 0 & 0 & 1 & 0 & 0 & 0\\\\\n\t2106 & American Beauty                                    & 1999 & 121 & 15000000 & 8.5 & 109991 & 4.5 & 4.5 & 4.5 & 4.5 & ⋯ & 24.5 & 34.5 & R     & 0 & 0 & 0 & 1 & 0 & 0 & 0\\\\\n\t54663 & Usual Suspects, The                                & 1995 & 106 &  6000000 & 8.7 & 103854 & 4.5 & 4.5 & 4.5 & 4.5 & ⋯ & 24.5 & 34.5 & R     & 0 & 0 & 0 & 0 & 0 & 0 & 0\\\\\n\\end{tabular}\n",
            "text/plain": [
              "      title                                              year length budget  \n",
              "30656 Lord of the Rings: The Fellowship of the Ring, The 2001 208    93000000\n",
              "46267 Shawshank Redemption, The                          1994 142    25000000\n",
              "32708 Matrix, The                                        1999 136    63000000\n",
              "48906 Star Wars                                          1977 125    11000000\n",
              "41660 Pulp Fiction                                       1994 168     8000000\n",
              "20544 Godfather, The                                     1972 175     6000000\n",
              "30658 Lord of the Rings: The Two Towers, The             2002 223    94000000\n",
              "17656 Fight Club                                         1999 139    63000000\n",
              "2106  American Beauty                                    1999 121    15000000\n",
              "54663 Usual Suspects, The                                1995 106     6000000\n",
              "      rating votes  r1  r2  r3  r4  ⋯ r9   r10  mpaa  Action Animation Comedy\n",
              "30656 8.8    157608 4.5 4.5 4.5 4.5 ⋯ 14.5 45.5 PG-13 1      0         0     \n",
              "46267 9.1    149494 4.5 4.5 4.5 4.5 ⋯ 24.5 45.5 R     0      0         0     \n",
              "32708 8.5    143853 4.5 4.5 4.5 4.5 ⋯ 24.5 34.5 R     1      0         0     \n",
              "48906 8.8    134640 4.5 4.5 4.5 4.5 ⋯ 24.5 44.5 PG    1      0         0     \n",
              "41660 8.8    132745 4.5 4.5 4.5 4.5 ⋯ 24.5 44.5 R     0      0         0     \n",
              "20544 9.1    122755 4.5 4.5 4.5 4.5 ⋯ 14.5 45.5       0      0         0     \n",
              "30658 8.8    114797 4.5 4.5 4.5 4.5 ⋯ 24.5 44.5 PG-13 1      0         0     \n",
              "17656 8.5    112092 4.5 4.5 4.5 4.5 ⋯ 24.5 44.5 R     0      0         0     \n",
              "2106  8.5    109991 4.5 4.5 4.5 4.5 ⋯ 24.5 34.5 R     0      0         0     \n",
              "54663 8.7    103854 4.5 4.5 4.5 4.5 ⋯ 24.5 34.5 R     0      0         0     \n",
              "      Drama Documentary Romance Short\n",
              "30656 0     0           0       0    \n",
              "46267 1     0           0       0    \n",
              "32708 0     0           0       0    \n",
              "48906 0     0           0       0    \n",
              "41660 1     0           0       0    \n",
              "20544 1     0           0       0    \n",
              "30658 0     0           0       0    \n",
              "17656 1     0           0       0    \n",
              "2106  1     0           0       0    \n",
              "54663 0     0           0       0    "
            ]
          },
          "metadata": {}
        }
      ],
      "source": [
        "df_imdb_votes_5000 <- df_imdb[df_imdb$votes >= 5000, ]\n",
        "\n",
        "sorted_movies <- df_imdb_votes_5000[order(df_imdb_votes_5000$votes, decreasing = TRUE), ]\n",
        "\n",
        "top_10_movies <- head(sorted_movies, 10)\n",
        "\n",
        "top_10_movies\n"
      ]
    },
    {
      "cell_type": "markdown",
      "metadata": {
        "id": "vbfXeIGFzPJt"
      },
      "source": [
        "## GenreCount\n",
        "\n",
        "Přidejte do tabulky nový sloupec `GenreCount`, který bude označovat, do kolika žánrů najednou film patří."
      ]
    },
    {
      "cell_type": "code",
      "execution_count": 50,
      "metadata": {
        "colab": {
          "base_uri": "https://localhost:8080/",
          "height": 388
        },
        "id": "s9pBMGw5zPJt",
        "outputId": "b54ef6ec-2842-40e4-e5be-01a35728fa1d"
      },
      "outputs": [
        {
          "output_type": "display_data",
          "data": {
            "text/html": [
              "<table class=\"dataframe\">\n",
              "<caption>A data.frame: 6 × 25</caption>\n",
              "<thead>\n",
              "\t<tr><th></th><th scope=col>title</th><th scope=col>year</th><th scope=col>length</th><th scope=col>budget</th><th scope=col>rating</th><th scope=col>votes</th><th scope=col>r1</th><th scope=col>r2</th><th scope=col>r3</th><th scope=col>r4</th><th scope=col>⋯</th><th scope=col>r10</th><th scope=col>mpaa</th><th scope=col>Action</th><th scope=col>Animation</th><th scope=col>Comedy</th><th scope=col>Drama</th><th scope=col>Documentary</th><th scope=col>Romance</th><th scope=col>Short</th><th scope=col>GenreCount</th></tr>\n",
              "\t<tr><th></th><th scope=col>&lt;chr&gt;</th><th scope=col>&lt;int&gt;</th><th scope=col>&lt;int&gt;</th><th scope=col>&lt;int&gt;</th><th scope=col>&lt;dbl&gt;</th><th scope=col>&lt;int&gt;</th><th scope=col>&lt;dbl&gt;</th><th scope=col>&lt;dbl&gt;</th><th scope=col>&lt;dbl&gt;</th><th scope=col>&lt;dbl&gt;</th><th scope=col>⋯</th><th scope=col>&lt;dbl&gt;</th><th scope=col>&lt;chr&gt;</th><th scope=col>&lt;int&gt;</th><th scope=col>&lt;int&gt;</th><th scope=col>&lt;int&gt;</th><th scope=col>&lt;int&gt;</th><th scope=col>&lt;int&gt;</th><th scope=col>&lt;int&gt;</th><th scope=col>&lt;int&gt;</th><th scope=col>&lt;dbl&gt;</th></tr>\n",
              "</thead>\n",
              "<tbody>\n",
              "\t<tr><th scope=row>1</th><td>$                       </td><td>1971</td><td>121</td><td>NA</td><td>6.4</td><td>348</td><td> 4.5</td><td> 4.5</td><td>4.5</td><td> 4.5</td><td>⋯</td><td> 4.5</td><td></td><td>0</td><td>0</td><td>1</td><td>1</td><td>0</td><td>0</td><td>0</td><td>2</td></tr>\n",
              "\t<tr><th scope=row>2</th><td>$1000 a Touchdown       </td><td>1939</td><td> 71</td><td>NA</td><td>6.0</td><td> 20</td><td> 0.0</td><td>14.5</td><td>4.5</td><td>24.5</td><td>⋯</td><td>14.5</td><td></td><td>0</td><td>0</td><td>1</td><td>0</td><td>0</td><td>0</td><td>0</td><td>1</td></tr>\n",
              "\t<tr><th scope=row>3</th><td>$21 a Day Once a Month  </td><td>1941</td><td>  7</td><td>NA</td><td>8.2</td><td>  5</td><td> 0.0</td><td> 0.0</td><td>0.0</td><td> 0.0</td><td>⋯</td><td>24.5</td><td></td><td>0</td><td>1</td><td>0</td><td>0</td><td>0</td><td>0</td><td>1</td><td>2</td></tr>\n",
              "\t<tr><th scope=row>4</th><td>40000                   </td><td>1996</td><td> 70</td><td>NA</td><td>8.2</td><td>  6</td><td>14.5</td><td> 0.0</td><td>0.0</td><td> 0.0</td><td>⋯</td><td>45.5</td><td></td><td>0</td><td>0</td><td>1</td><td>0</td><td>0</td><td>0</td><td>0</td><td>1</td></tr>\n",
              "\t<tr><th scope=row>5</th><td>$50,000 Climax Show, The</td><td>1975</td><td> 71</td><td>NA</td><td>3.4</td><td> 17</td><td>24.5</td><td> 4.5</td><td>0.0</td><td>14.5</td><td>⋯</td><td>24.5</td><td></td><td>0</td><td>0</td><td>0</td><td>0</td><td>0</td><td>0</td><td>0</td><td>0</td></tr>\n",
              "\t<tr><th scope=row>6</th><td>$pent                   </td><td>2000</td><td> 91</td><td>NA</td><td>4.3</td><td> 45</td><td> 4.5</td><td> 4.5</td><td>4.5</td><td>14.5</td><td>⋯</td><td>14.5</td><td></td><td>0</td><td>0</td><td>0</td><td>1</td><td>0</td><td>0</td><td>0</td><td>1</td></tr>\n",
              "</tbody>\n",
              "</table>\n"
            ],
            "text/markdown": "\nA data.frame: 6 × 25\n\n| <!--/--> | title &lt;chr&gt; | year &lt;int&gt; | length &lt;int&gt; | budget &lt;int&gt; | rating &lt;dbl&gt; | votes &lt;int&gt; | r1 &lt;dbl&gt; | r2 &lt;dbl&gt; | r3 &lt;dbl&gt; | r4 &lt;dbl&gt; | ⋯ ⋯ | r10 &lt;dbl&gt; | mpaa &lt;chr&gt; | Action &lt;int&gt; | Animation &lt;int&gt; | Comedy &lt;int&gt; | Drama &lt;int&gt; | Documentary &lt;int&gt; | Romance &lt;int&gt; | Short &lt;int&gt; | GenreCount &lt;dbl&gt; |\n|---|---|---|---|---|---|---|---|---|---|---|---|---|---|---|---|---|---|---|---|---|---|\n| 1 | $                        | 1971 | 121 | NA | 6.4 | 348 |  4.5 |  4.5 | 4.5 |  4.5 | ⋯ |  4.5 | <!----> | 0 | 0 | 1 | 1 | 0 | 0 | 0 | 2 |\n| 2 | $1000 a Touchdown        | 1939 |  71 | NA | 6.0 |  20 |  0.0 | 14.5 | 4.5 | 24.5 | ⋯ | 14.5 | <!----> | 0 | 0 | 1 | 0 | 0 | 0 | 0 | 1 |\n| 3 | $21 a Day Once a Month   | 1941 |   7 | NA | 8.2 |   5 |  0.0 |  0.0 | 0.0 |  0.0 | ⋯ | 24.5 | <!----> | 0 | 1 | 0 | 0 | 0 | 0 | 1 | 2 |\n| 4 | 40000                    | 1996 |  70 | NA | 8.2 |   6 | 14.5 |  0.0 | 0.0 |  0.0 | ⋯ | 45.5 | <!----> | 0 | 0 | 1 | 0 | 0 | 0 | 0 | 1 |\n| 5 | $50,000 Climax Show, The | 1975 |  71 | NA | 3.4 |  17 | 24.5 |  4.5 | 0.0 | 14.5 | ⋯ | 24.5 | <!----> | 0 | 0 | 0 | 0 | 0 | 0 | 0 | 0 |\n| 6 | $pent                    | 2000 |  91 | NA | 4.3 |  45 |  4.5 |  4.5 | 4.5 | 14.5 | ⋯ | 14.5 | <!----> | 0 | 0 | 0 | 1 | 0 | 0 | 0 | 1 |\n\n",
            "text/latex": "A data.frame: 6 × 25\n\\begin{tabular}{r|lllllllllllllllllllll}\n  & title & year & length & budget & rating & votes & r1 & r2 & r3 & r4 & ⋯ & r10 & mpaa & Action & Animation & Comedy & Drama & Documentary & Romance & Short & GenreCount\\\\\n  & <chr> & <int> & <int> & <int> & <dbl> & <int> & <dbl> & <dbl> & <dbl> & <dbl> & ⋯ & <dbl> & <chr> & <int> & <int> & <int> & <int> & <int> & <int> & <int> & <dbl>\\\\\n\\hline\n\t1 & \\$                        & 1971 & 121 & NA & 6.4 & 348 &  4.5 &  4.5 & 4.5 &  4.5 & ⋯ &  4.5 &  & 0 & 0 & 1 & 1 & 0 & 0 & 0 & 2\\\\\n\t2 & \\$1000 a Touchdown        & 1939 &  71 & NA & 6.0 &  20 &  0.0 & 14.5 & 4.5 & 24.5 & ⋯ & 14.5 &  & 0 & 0 & 1 & 0 & 0 & 0 & 0 & 1\\\\\n\t3 & \\$21 a Day Once a Month   & 1941 &   7 & NA & 8.2 &   5 &  0.0 &  0.0 & 0.0 &  0.0 & ⋯ & 24.5 &  & 0 & 1 & 0 & 0 & 0 & 0 & 1 & 2\\\\\n\t4 & 40000                    & 1996 &  70 & NA & 8.2 &   6 & 14.5 &  0.0 & 0.0 &  0.0 & ⋯ & 45.5 &  & 0 & 0 & 1 & 0 & 0 & 0 & 0 & 1\\\\\n\t5 & \\$50,000 Climax Show, The & 1975 &  71 & NA & 3.4 &  17 & 24.5 &  4.5 & 0.0 & 14.5 & ⋯ & 24.5 &  & 0 & 0 & 0 & 0 & 0 & 0 & 0 & 0\\\\\n\t6 & \\$pent                    & 2000 &  91 & NA & 4.3 &  45 &  4.5 &  4.5 & 4.5 & 14.5 & ⋯ & 14.5 &  & 0 & 0 & 0 & 1 & 0 & 0 & 0 & 1\\\\\n\\end{tabular}\n",
            "text/plain": [
              "  title                    year length budget rating votes r1   r2   r3  r4   ⋯\n",
              "1 $                        1971 121    NA     6.4    348    4.5  4.5 4.5  4.5 ⋯\n",
              "2 $1000 a Touchdown        1939  71    NA     6.0     20    0.0 14.5 4.5 24.5 ⋯\n",
              "3 $21 a Day Once a Month   1941   7    NA     8.2      5    0.0  0.0 0.0  0.0 ⋯\n",
              "4 40000                    1996  70    NA     8.2      6   14.5  0.0 0.0  0.0 ⋯\n",
              "5 $50,000 Climax Show, The 1975  71    NA     3.4     17   24.5  4.5 0.0 14.5 ⋯\n",
              "6 $pent                    2000  91    NA     4.3     45    4.5  4.5 4.5 14.5 ⋯\n",
              "  r10  mpaa Action Animation Comedy Drama Documentary Romance Short GenreCount\n",
              "1  4.5      0      0         1      1     0           0       0     2         \n",
              "2 14.5      0      0         1      0     0           0       0     1         \n",
              "3 24.5      0      1         0      0     0           0       1     2         \n",
              "4 45.5      0      0         1      0     0           0       0     1         \n",
              "5 24.5      0      0         0      0     0           0       0     0         \n",
              "6 14.5      0      0         0      1     0           0       0     1         "
            ]
          },
          "metadata": {}
        }
      ],
      "source": [
        "df_imdb$GenreCount <- rowSums(df_imdb[c('Action', 'Animation', 'Comedy', 'Drama', 'Documentary', 'Romance', 'Short')])\n",
        "\n",
        "head(df_imdb)"
      ]
    },
    {
      "cell_type": "markdown",
      "metadata": {
        "id": "V0HN6iNGzPJt"
      },
      "source": [
        "## Documentary Galore\n",
        "\n",
        "Ve kterém roce se natočilo nejvíce dokumentárních filmů? Kolik jich bylo?"
      ]
    },
    {
      "cell_type": "code",
      "execution_count": 51,
      "metadata": {
        "id": "jvuIneXkzPJt",
        "colab": {
          "base_uri": "https://localhost:8080/",
          "height": 289
        },
        "outputId": "7118831e-0405-48b0-a582-6c00d1162a12"
      },
      "outputs": [
        {
          "output_type": "display_data",
          "data": {
            "text/html": [
              "261"
            ],
            "text/markdown": "261",
            "text/latex": "261",
            "text/plain": [
              "[1] 261"
            ]
          },
          "metadata": {}
        },
        {
          "output_type": "display_data",
          "data": {
            "text/plain": [
              "\n",
              "1894 1895 1896 1897 1898 1899 1900 1901 1902 1903 1904 1905 1906 1908 1910 1911 \n",
              "   5    2    7    6    1    4    5    9    2    8    4    2    4    1    2    1 \n",
              "1913 1914 1915 1918 1919 1922 1923 1925 1926 1927 1928 1929 1930 1931 1932 1933 \n",
              "   1    1    1    1    2    1    2    2    2    2    4   11    7    5    6    7 \n",
              "1934 1935 1936 1937 1938 1939 1940 1941 1942 1943 1944 1945 1946 1947 1948 1949 \n",
              "   7   13    4   10   11   10   16   16   19   26   14   22   12    7   12    9 \n",
              "1950 1951 1952 1953 1954 1955 1956 1957 1958 1959 1960 1961 1962 1963 1964 1965 \n",
              "  11   13   12   13   12   15   17   13   10   13   13   12   11   19   21   29 \n",
              "1966 1967 1968 1969 1970 1971 1972 1973 1974 1975 1976 1977 1978 1979 1980 1981 \n",
              "  20   38   37   22   32   40   31   24   27   36   38   24   39   27   33   31 \n",
              "1982 1983 1984 1985 1986 1987 1988 1989 1990 1991 1992 1993 1994 1995 1996 1997 \n",
              "  40   31   45   45   31   49   42   37   41   46   74   60   94   84   98  133 \n",
              "1998 1999 2000 2001 2002 2003 2004 2005 \n",
              " 133  156  175  196  249  261  258   35 "
            ]
          },
          "metadata": {}
        }
      ],
      "source": [
        "df_imdb_doc <- df_imdb[df_imdb$Documentary == 1, ]\n",
        "\n",
        "summaries <- lapply(df_imdb_doc, table)\n",
        "\n",
        "max(summaries$year)\n",
        "\n",
        "summaries$year\n",
        "\n",
        "# The largest number of documentary films was filmed in 2003"
      ]
    },
    {
      "cell_type": "markdown",
      "metadata": {
        "id": "FRN_ooO9zPJt"
      },
      "source": [
        "## Top Three Per Genre\n",
        "\n",
        "Zobrazte tři nejlépe hodnocené filmy pro každý žánr. Uložte jako seznam (`list`), kde klíč je název žánru a hodnota je vektor jmen těchto filmů.\n",
        "\n",
        "**Bonus:** Omezte se pouze na filmy s alespoň 5,000 hodnoceními (`votes`) a přidejte jejich hodnocení (`rating`) do výstupu, který teď bude seznam objektů `data.frame`."
      ]
    },
    {
      "cell_type": "code",
      "execution_count": 52,
      "metadata": {
        "id": "NyXoEB7uzPJu",
        "colab": {
          "base_uri": "https://localhost:8080/",
          "height": 1000
        },
        "outputId": "afbeb46b-0fd8-4bbb-b598-3d628880450d"
      },
      "outputs": [
        {
          "output_type": "display_data",
          "data": {
            "text/html": [
              "<dl>\n",
              "\t<dt>$Action</dt>\n",
              "\t\t<dd><table class=\"dataframe\">\n",
              "<caption>A data.frame: 3 × 25</caption>\n",
              "<thead>\n",
              "\t<tr><th></th><th scope=col>title</th><th scope=col>year</th><th scope=col>length</th><th scope=col>budget</th><th scope=col>rating</th><th scope=col>votes</th><th scope=col>r1</th><th scope=col>r2</th><th scope=col>r3</th><th scope=col>r4</th><th scope=col>⋯</th><th scope=col>r10</th><th scope=col>mpaa</th><th scope=col>Action</th><th scope=col>Animation</th><th scope=col>Comedy</th><th scope=col>Drama</th><th scope=col>Documentary</th><th scope=col>Romance</th><th scope=col>Short</th><th scope=col>GenreCount</th></tr>\n",
              "\t<tr><th></th><th scope=col>&lt;chr&gt;</th><th scope=col>&lt;int&gt;</th><th scope=col>&lt;int&gt;</th><th scope=col>&lt;int&gt;</th><th scope=col>&lt;dbl&gt;</th><th scope=col>&lt;int&gt;</th><th scope=col>&lt;dbl&gt;</th><th scope=col>&lt;dbl&gt;</th><th scope=col>&lt;dbl&gt;</th><th scope=col>&lt;dbl&gt;</th><th scope=col>⋯</th><th scope=col>&lt;dbl&gt;</th><th scope=col>&lt;chr&gt;</th><th scope=col>&lt;int&gt;</th><th scope=col>&lt;int&gt;</th><th scope=col>&lt;int&gt;</th><th scope=col>&lt;int&gt;</th><th scope=col>&lt;int&gt;</th><th scope=col>&lt;int&gt;</th><th scope=col>&lt;int&gt;</th><th scope=col>&lt;dbl&gt;</th></tr>\n",
              "</thead>\n",
              "<tbody>\n",
              "\t<tr><th scope=row>30657</th><td>Lord of the Rings: The Return of the King, The</td><td>2003</td><td>251</td><td>94000000</td><td>9.0</td><td>103631</td><td>4.5</td><td>4.5</td><td>4.5</td><td>4.5</td><td>⋯</td><td>64.5</td><td>PG-13</td><td>1</td><td>0</td><td>0</td><td>0</td><td>0</td><td>0</td><td>0</td><td>1</td></tr>\n",
              "\t<tr><th scope=row>46406</th><td>Shichinin no samurai                          </td><td>1954</td><td>206</td><td>  500000</td><td>8.9</td><td> 32141</td><td>4.5</td><td>4.5</td><td>4.5</td><td>4.5</td><td>⋯</td><td>45.5</td><td>     </td><td>1</td><td>0</td><td>0</td><td>1</td><td>0</td><td>0</td><td>0</td><td>2</td></tr>\n",
              "\t<tr><th scope=row>7897</th><td>Buono, il brutto, il cattivo, Il              </td><td>1966</td><td>180</td><td> 1200000</td><td>8.8</td><td> 30224</td><td>4.5</td><td>4.5</td><td>4.5</td><td>4.5</td><td>⋯</td><td>44.5</td><td>     </td><td>1</td><td>0</td><td>0</td><td>1</td><td>0</td><td>0</td><td>0</td><td>2</td></tr>\n",
              "</tbody>\n",
              "</table>\n",
              "</dd>\n",
              "\t<dt>$Animation</dt>\n",
              "\t\t<dd><table class=\"dataframe\">\n",
              "<caption>A data.frame: 3 × 25</caption>\n",
              "<thead>\n",
              "\t<tr><th></th><th scope=col>title</th><th scope=col>year</th><th scope=col>length</th><th scope=col>budget</th><th scope=col>rating</th><th scope=col>votes</th><th scope=col>r1</th><th scope=col>r2</th><th scope=col>r3</th><th scope=col>r4</th><th scope=col>⋯</th><th scope=col>r10</th><th scope=col>mpaa</th><th scope=col>Action</th><th scope=col>Animation</th><th scope=col>Comedy</th><th scope=col>Drama</th><th scope=col>Documentary</th><th scope=col>Romance</th><th scope=col>Short</th><th scope=col>GenreCount</th></tr>\n",
              "\t<tr><th></th><th scope=col>&lt;chr&gt;</th><th scope=col>&lt;int&gt;</th><th scope=col>&lt;int&gt;</th><th scope=col>&lt;int&gt;</th><th scope=col>&lt;dbl&gt;</th><th scope=col>&lt;int&gt;</th><th scope=col>&lt;dbl&gt;</th><th scope=col>&lt;dbl&gt;</th><th scope=col>&lt;dbl&gt;</th><th scope=col>&lt;dbl&gt;</th><th scope=col>⋯</th><th scope=col>&lt;dbl&gt;</th><th scope=col>&lt;chr&gt;</th><th scope=col>&lt;int&gt;</th><th scope=col>&lt;int&gt;</th><th scope=col>&lt;int&gt;</th><th scope=col>&lt;int&gt;</th><th scope=col>&lt;int&gt;</th><th scope=col>&lt;int&gt;</th><th scope=col>&lt;int&gt;</th><th scope=col>&lt;dbl&gt;</th></tr>\n",
              "</thead>\n",
              "<tbody>\n",
              "\t<tr><th scope=row>45695</th><td>Sen to Chihiro no kamikakushi       </td><td>2001</td><td>125</td><td>      NA</td><td>8.6</td><td>24253</td><td>4.5</td><td>4.5</td><td>4.5</td><td>4.5</td><td>⋯</td><td>44.5</td><td>PG</td><td>0</td><td>1</td><td>0</td><td>1</td><td>0</td><td>0</td><td>0</td><td>2</td></tr>\n",
              "\t<tr><th scope=row>55998</th><td>Wallace &amp; Gromit: The Wrong Trousers</td><td>1993</td><td> 30</td><td><span style=white-space:pre-wrap>      NA</span></td><td>8.4</td><td>14976</td><td>4.5</td><td>4.5</td><td>4.5</td><td>4.5</td><td>⋯</td><td>34.5</td><td><span style=white-space:pre-wrap>  </span></td><td>0</td><td>1</td><td>1</td><td>0</td><td>0</td><td>0</td><td>1</td><td>3</td></tr>\n",
              "\t<tr><th scope=row>17842</th><td>Finding Nemo                        </td><td>2003</td><td>100</td><td>94000000</td><td>8.3</td><td>41846</td><td>4.5</td><td>4.5</td><td>4.5</td><td>4.5</td><td>⋯</td><td>24.5</td><td>  </td><td>0</td><td>1</td><td>1</td><td>1</td><td>0</td><td>0</td><td>0</td><td>3</td></tr>\n",
              "</tbody>\n",
              "</table>\n",
              "</dd>\n",
              "\t<dt>$Comedy</dt>\n",
              "\t\t<dd><table class=\"dataframe\">\n",
              "<caption>A data.frame: 3 × 25</caption>\n",
              "<thead>\n",
              "\t<tr><th></th><th scope=col>title</th><th scope=col>year</th><th scope=col>length</th><th scope=col>budget</th><th scope=col>rating</th><th scope=col>votes</th><th scope=col>r1</th><th scope=col>r2</th><th scope=col>r3</th><th scope=col>r4</th><th scope=col>⋯</th><th scope=col>r10</th><th scope=col>mpaa</th><th scope=col>Action</th><th scope=col>Animation</th><th scope=col>Comedy</th><th scope=col>Drama</th><th scope=col>Documentary</th><th scope=col>Romance</th><th scope=col>Short</th><th scope=col>GenreCount</th></tr>\n",
              "\t<tr><th></th><th scope=col>&lt;chr&gt;</th><th scope=col>&lt;int&gt;</th><th scope=col>&lt;int&gt;</th><th scope=col>&lt;int&gt;</th><th scope=col>&lt;dbl&gt;</th><th scope=col>&lt;int&gt;</th><th scope=col>&lt;dbl&gt;</th><th scope=col>&lt;dbl&gt;</th><th scope=col>&lt;dbl&gt;</th><th scope=col>&lt;dbl&gt;</th><th scope=col>⋯</th><th scope=col>&lt;dbl&gt;</th><th scope=col>&lt;chr&gt;</th><th scope=col>&lt;int&gt;</th><th scope=col>&lt;int&gt;</th><th scope=col>&lt;int&gt;</th><th scope=col>&lt;int&gt;</th><th scope=col>&lt;int&gt;</th><th scope=col>&lt;int&gt;</th><th scope=col>&lt;int&gt;</th><th scope=col>&lt;dbl&gt;</th></tr>\n",
              "</thead>\n",
              "<tbody>\n",
              "\t<tr><th scope=row>14857</th><td>Dr. Strangelove or: How I Learned to Stop Worrying and Love the Bomb</td><td>1964</td><td> 93</td><td> 1800000</td><td>8.7</td><td>63471</td><td>4.5</td><td>4.5</td><td>4.5</td><td>4.5</td><td>⋯</td><td>44.5</td><td>PG</td><td>0</td><td>0</td><td>1</td><td>0</td><td>0</td><td>0</td><td>0</td><td>1</td></tr>\n",
              "\t<tr><th scope=row>16423</th><td>Eternal Sunshine of the Spotless Mind                               </td><td>2004</td><td>108</td><td>20000000</td><td>8.6</td><td>46240</td><td>4.5</td><td>4.5</td><td>4.5</td><td>4.5</td><td>⋯</td><td>44.5</td><td>R </td><td>0</td><td>0</td><td>1</td><td>1</td><td>0</td><td>1</td><td>0</td><td>3</td></tr>\n",
              "\t<tr><th scope=row>7104</th><td>Bowling for Columbine                                               </td><td>2002</td><td>120</td><td> 4000000</td><td>8.5</td><td>36747</td><td>4.5</td><td>4.5</td><td>4.5</td><td>4.5</td><td>⋯</td><td>34.5</td><td>R </td><td>0</td><td>0</td><td>1</td><td>1</td><td>1</td><td>0</td><td>0</td><td>3</td></tr>\n",
              "</tbody>\n",
              "</table>\n",
              "</dd>\n",
              "\t<dt>$Drama</dt>\n",
              "\t\t<dd><table class=\"dataframe\">\n",
              "<caption>A data.frame: 3 × 25</caption>\n",
              "<thead>\n",
              "\t<tr><th></th><th scope=col>title</th><th scope=col>year</th><th scope=col>length</th><th scope=col>budget</th><th scope=col>rating</th><th scope=col>votes</th><th scope=col>r1</th><th scope=col>r2</th><th scope=col>r3</th><th scope=col>r4</th><th scope=col>⋯</th><th scope=col>r10</th><th scope=col>mpaa</th><th scope=col>Action</th><th scope=col>Animation</th><th scope=col>Comedy</th><th scope=col>Drama</th><th scope=col>Documentary</th><th scope=col>Romance</th><th scope=col>Short</th><th scope=col>GenreCount</th></tr>\n",
              "\t<tr><th></th><th scope=col>&lt;chr&gt;</th><th scope=col>&lt;int&gt;</th><th scope=col>&lt;int&gt;</th><th scope=col>&lt;int&gt;</th><th scope=col>&lt;dbl&gt;</th><th scope=col>&lt;int&gt;</th><th scope=col>&lt;dbl&gt;</th><th scope=col>&lt;dbl&gt;</th><th scope=col>&lt;dbl&gt;</th><th scope=col>&lt;dbl&gt;</th><th scope=col>⋯</th><th scope=col>&lt;dbl&gt;</th><th scope=col>&lt;chr&gt;</th><th scope=col>&lt;int&gt;</th><th scope=col>&lt;int&gt;</th><th scope=col>&lt;int&gt;</th><th scope=col>&lt;int&gt;</th><th scope=col>&lt;int&gt;</th><th scope=col>&lt;int&gt;</th><th scope=col>&lt;int&gt;</th><th scope=col>&lt;dbl&gt;</th></tr>\n",
              "</thead>\n",
              "<tbody>\n",
              "\t<tr><th scope=row>20544</th><td>Godfather, The           </td><td>1972</td><td>175</td><td> 6000000</td><td>9.1</td><td>122755</td><td>4.5</td><td>4.5</td><td>4.5</td><td>4.5</td><td>⋯</td><td>45.5</td><td> </td><td>0</td><td>0</td><td>0</td><td>1</td><td>0</td><td>0</td><td>0</td><td>1</td></tr>\n",
              "\t<tr><th scope=row>46267</th><td>Shawshank Redemption, The</td><td>1994</td><td>142</td><td>25000000</td><td>9.1</td><td>149494</td><td>4.5</td><td>4.5</td><td>4.5</td><td>4.5</td><td>⋯</td><td>45.5</td><td>R</td><td>0</td><td>0</td><td>0</td><td>1</td><td>0</td><td>0</td><td>0</td><td>1</td></tr>\n",
              "\t<tr><th scope=row>20545</th><td>Godfather: Part II, The  </td><td>1974</td><td>200</td><td>13000000</td><td>8.9</td><td> 71363</td><td>4.5</td><td>4.5</td><td>4.5</td><td>4.5</td><td>⋯</td><td>44.5</td><td> </td><td>0</td><td>0</td><td>0</td><td>1</td><td>0</td><td>0</td><td>0</td><td>1</td></tr>\n",
              "</tbody>\n",
              "</table>\n",
              "</dd>\n",
              "\t<dt>$Documentary</dt>\n",
              "\t\t<dd><table class=\"dataframe\">\n",
              "<caption>A data.frame: 3 × 25</caption>\n",
              "<thead>\n",
              "\t<tr><th></th><th scope=col>title</th><th scope=col>year</th><th scope=col>length</th><th scope=col>budget</th><th scope=col>rating</th><th scope=col>votes</th><th scope=col>r1</th><th scope=col>r2</th><th scope=col>r3</th><th scope=col>r4</th><th scope=col>⋯</th><th scope=col>r10</th><th scope=col>mpaa</th><th scope=col>Action</th><th scope=col>Animation</th><th scope=col>Comedy</th><th scope=col>Drama</th><th scope=col>Documentary</th><th scope=col>Romance</th><th scope=col>Short</th><th scope=col>GenreCount</th></tr>\n",
              "\t<tr><th></th><th scope=col>&lt;chr&gt;</th><th scope=col>&lt;int&gt;</th><th scope=col>&lt;int&gt;</th><th scope=col>&lt;int&gt;</th><th scope=col>&lt;dbl&gt;</th><th scope=col>&lt;int&gt;</th><th scope=col>&lt;dbl&gt;</th><th scope=col>&lt;dbl&gt;</th><th scope=col>&lt;dbl&gt;</th><th scope=col>&lt;dbl&gt;</th><th scope=col>⋯</th><th scope=col>&lt;dbl&gt;</th><th scope=col>&lt;chr&gt;</th><th scope=col>&lt;int&gt;</th><th scope=col>&lt;int&gt;</th><th scope=col>&lt;int&gt;</th><th scope=col>&lt;int&gt;</th><th scope=col>&lt;int&gt;</th><th scope=col>&lt;int&gt;</th><th scope=col>&lt;int&gt;</th><th scope=col>&lt;dbl&gt;</th></tr>\n",
              "</thead>\n",
              "<tbody>\n",
              "\t<tr><th scope=row>7104</th><td>Bowling for Columbine</td><td>2002</td><td>120</td><td>4000000</td><td>8.5</td><td>36747</td><td> 4.5</td><td>4.5</td><td>4.5</td><td>4.5</td><td>⋯</td><td>34.5</td><td>R</td><td>0</td><td>0</td><td>1</td><td>1</td><td>1</td><td>0</td><td>0</td><td>3</td></tr>\n",
              "\t<tr><th scope=row>16894</th><td>Fahrenheit 9/11      </td><td>2004</td><td>122</td><td>6000000</td><td>7.9</td><td>34666</td><td>14.5</td><td>4.5</td><td>4.5</td><td>4.5</td><td>⋯</td><td>44.5</td><td>R</td><td>0</td><td>0</td><td>0</td><td>0</td><td>1</td><td>0</td><td>0</td><td>1</td></tr>\n",
              "\t<tr><th scope=row>43740</th><td><span style=white-space:pre-wrap>Roger &amp; Me           </span></td><td>1989</td><td> 91</td><td> 160000</td><td>7.7</td><td> 7674</td><td> 4.5</td><td>4.5</td><td>4.5</td><td>4.5</td><td>⋯</td><td>24.5</td><td> </td><td>0</td><td>0</td><td>1</td><td>0</td><td>1</td><td>0</td><td>0</td><td>2</td></tr>\n",
              "</tbody>\n",
              "</table>\n",
              "</dd>\n",
              "\t<dt>$Romance</dt>\n",
              "\t\t<dd><table class=\"dataframe\">\n",
              "<caption>A data.frame: 3 × 25</caption>\n",
              "<thead>\n",
              "\t<tr><th></th><th scope=col>title</th><th scope=col>year</th><th scope=col>length</th><th scope=col>budget</th><th scope=col>rating</th><th scope=col>votes</th><th scope=col>r1</th><th scope=col>r2</th><th scope=col>r3</th><th scope=col>r4</th><th scope=col>⋯</th><th scope=col>r10</th><th scope=col>mpaa</th><th scope=col>Action</th><th scope=col>Animation</th><th scope=col>Comedy</th><th scope=col>Drama</th><th scope=col>Documentary</th><th scope=col>Romance</th><th scope=col>Short</th><th scope=col>GenreCount</th></tr>\n",
              "\t<tr><th></th><th scope=col>&lt;chr&gt;</th><th scope=col>&lt;int&gt;</th><th scope=col>&lt;int&gt;</th><th scope=col>&lt;int&gt;</th><th scope=col>&lt;dbl&gt;</th><th scope=col>&lt;int&gt;</th><th scope=col>&lt;dbl&gt;</th><th scope=col>&lt;dbl&gt;</th><th scope=col>&lt;dbl&gt;</th><th scope=col>&lt;dbl&gt;</th><th scope=col>⋯</th><th scope=col>&lt;dbl&gt;</th><th scope=col>&lt;chr&gt;</th><th scope=col>&lt;int&gt;</th><th scope=col>&lt;int&gt;</th><th scope=col>&lt;int&gt;</th><th scope=col>&lt;int&gt;</th><th scope=col>&lt;int&gt;</th><th scope=col>&lt;int&gt;</th><th scope=col>&lt;int&gt;</th><th scope=col>&lt;dbl&gt;</th></tr>\n",
              "</thead>\n",
              "<tbody>\n",
              "\t<tr><th scope=row>8882</th><td>Casablanca                           </td><td>1942</td><td>102</td><td>  950000</td><td>8.8</td><td>66030</td><td>4.5</td><td>4.5</td><td>4.5</td><td>4.5</td><td>⋯</td><td>44.5</td><td> </td><td>0</td><td>0</td><td>0</td><td>1</td><td>0</td><td>1</td><td>0</td><td>2</td></tr>\n",
              "\t<tr><th scope=row>16423</th><td>Eternal Sunshine of the Spotless Mind</td><td>2004</td><td>108</td><td>20000000</td><td>8.6</td><td>46240</td><td>4.5</td><td>4.5</td><td>4.5</td><td>4.5</td><td>⋯</td><td>44.5</td><td>R</td><td>0</td><td>0</td><td>1</td><td>1</td><td>0</td><td>1</td><td>0</td><td>3</td></tr>\n",
              "\t<tr><th scope=row>25961</th><td>It's a Wonderful Life                </td><td>1946</td><td>118</td><td> 3180000</td><td>8.6</td><td>41199</td><td>4.5</td><td>4.5</td><td>4.5</td><td>4.5</td><td>⋯</td><td>44.5</td><td> </td><td>0</td><td>0</td><td>0</td><td>1</td><td>0</td><td>1</td><td>0</td><td>2</td></tr>\n",
              "</tbody>\n",
              "</table>\n",
              "</dd>\n",
              "\t<dt>$Short</dt>\n",
              "\t\t<dd><table class=\"dataframe\">\n",
              "<caption>A data.frame: 3 × 25</caption>\n",
              "<thead>\n",
              "\t<tr><th></th><th scope=col>title</th><th scope=col>year</th><th scope=col>length</th><th scope=col>budget</th><th scope=col>rating</th><th scope=col>votes</th><th scope=col>r1</th><th scope=col>r2</th><th scope=col>r3</th><th scope=col>r4</th><th scope=col>⋯</th><th scope=col>r10</th><th scope=col>mpaa</th><th scope=col>Action</th><th scope=col>Animation</th><th scope=col>Comedy</th><th scope=col>Drama</th><th scope=col>Documentary</th><th scope=col>Romance</th><th scope=col>Short</th><th scope=col>GenreCount</th></tr>\n",
              "\t<tr><th></th><th scope=col>&lt;chr&gt;</th><th scope=col>&lt;int&gt;</th><th scope=col>&lt;int&gt;</th><th scope=col>&lt;int&gt;</th><th scope=col>&lt;dbl&gt;</th><th scope=col>&lt;int&gt;</th><th scope=col>&lt;dbl&gt;</th><th scope=col>&lt;dbl&gt;</th><th scope=col>&lt;dbl&gt;</th><th scope=col>&lt;dbl&gt;</th><th scope=col>⋯</th><th scope=col>&lt;dbl&gt;</th><th scope=col>&lt;chr&gt;</th><th scope=col>&lt;int&gt;</th><th scope=col>&lt;int&gt;</th><th scope=col>&lt;int&gt;</th><th scope=col>&lt;int&gt;</th><th scope=col>&lt;int&gt;</th><th scope=col>&lt;int&gt;</th><th scope=col>&lt;int&gt;</th><th scope=col>&lt;dbl&gt;</th></tr>\n",
              "</thead>\n",
              "<tbody>\n",
              "\t<tr><th scope=row>55998</th><td>Wallace &amp; Gromit: The Wrong Trousers</td><td>1993</td><td>30</td><td>NA</td><td>8.4</td><td>14976</td><td>4.5</td><td>4.5</td><td>4.5</td><td>4.5</td><td>⋯</td><td>34.5</td><td></td><td>0</td><td>1</td><td>1</td><td>0</td><td>0</td><td>0</td><td>1</td><td>3</td></tr>\n",
              "\t<tr><th scope=row>55995</th><td><span style=white-space:pre-wrap>Wallace &amp; Gromit: A Close Shave     </span></td><td>1995</td><td>30</td><td>NA</td><td>8.2</td><td> 9261</td><td>4.5</td><td>4.5</td><td>4.5</td><td>4.5</td><td>⋯</td><td>34.5</td><td></td><td>0</td><td>1</td><td>1</td><td>0</td><td>0</td><td>0</td><td>1</td><td>3</td></tr>\n",
              "\t<tr><th scope=row>55996</th><td><span style=white-space:pre-wrap>Wallace &amp; Gromit: A Grand Day Out   </span></td><td>1991</td><td>23</td><td>NA</td><td>7.7</td><td> 5134</td><td>4.5</td><td>4.5</td><td>4.5</td><td>4.5</td><td>⋯</td><td>14.5</td><td></td><td>0</td><td>1</td><td>1</td><td>0</td><td>0</td><td>0</td><td>1</td><td>3</td></tr>\n",
              "</tbody>\n",
              "</table>\n",
              "</dd>\n",
              "</dl>\n"
            ],
            "text/markdown": "$Action\n:   \nA data.frame: 3 × 25\n\n| <!--/--> | title &lt;chr&gt; | year &lt;int&gt; | length &lt;int&gt; | budget &lt;int&gt; | rating &lt;dbl&gt; | votes &lt;int&gt; | r1 &lt;dbl&gt; | r2 &lt;dbl&gt; | r3 &lt;dbl&gt; | r4 &lt;dbl&gt; | ⋯ ⋯ | r10 &lt;dbl&gt; | mpaa &lt;chr&gt; | Action &lt;int&gt; | Animation &lt;int&gt; | Comedy &lt;int&gt; | Drama &lt;int&gt; | Documentary &lt;int&gt; | Romance &lt;int&gt; | Short &lt;int&gt; | GenreCount &lt;dbl&gt; |\n|---|---|---|---|---|---|---|---|---|---|---|---|---|---|---|---|---|---|---|---|---|---|\n| 30657 | Lord of the Rings: The Return of the King, The | 2003 | 251 | 94000000 | 9.0 | 103631 | 4.5 | 4.5 | 4.5 | 4.5 | ⋯ | 64.5 | PG-13 | 1 | 0 | 0 | 0 | 0 | 0 | 0 | 1 |\n| 46406 | Shichinin no samurai                           | 1954 | 206 |   500000 | 8.9 |  32141 | 4.5 | 4.5 | 4.5 | 4.5 | ⋯ | 45.5 | <!----> | 1 | 0 | 0 | 1 | 0 | 0 | 0 | 2 |\n| 7897 | Buono, il brutto, il cattivo, Il               | 1966 | 180 |  1200000 | 8.8 |  30224 | 4.5 | 4.5 | 4.5 | 4.5 | ⋯ | 44.5 | <!----> | 1 | 0 | 0 | 1 | 0 | 0 | 0 | 2 |\n\n\n$Animation\n:   \nA data.frame: 3 × 25\n\n| <!--/--> | title &lt;chr&gt; | year &lt;int&gt; | length &lt;int&gt; | budget &lt;int&gt; | rating &lt;dbl&gt; | votes &lt;int&gt; | r1 &lt;dbl&gt; | r2 &lt;dbl&gt; | r3 &lt;dbl&gt; | r4 &lt;dbl&gt; | ⋯ ⋯ | r10 &lt;dbl&gt; | mpaa &lt;chr&gt; | Action &lt;int&gt; | Animation &lt;int&gt; | Comedy &lt;int&gt; | Drama &lt;int&gt; | Documentary &lt;int&gt; | Romance &lt;int&gt; | Short &lt;int&gt; | GenreCount &lt;dbl&gt; |\n|---|---|---|---|---|---|---|---|---|---|---|---|---|---|---|---|---|---|---|---|---|---|\n| 45695 | Sen to Chihiro no kamikakushi        | 2001 | 125 |       NA | 8.6 | 24253 | 4.5 | 4.5 | 4.5 | 4.5 | ⋯ | 44.5 | PG | 0 | 1 | 0 | 1 | 0 | 0 | 0 | 2 |\n| 55998 | Wallace &amp; Gromit: The Wrong Trousers | 1993 |  30 |       NA | 8.4 | 14976 | 4.5 | 4.5 | 4.5 | 4.5 | ⋯ | 34.5 | <!----> | 0 | 1 | 1 | 0 | 0 | 0 | 1 | 3 |\n| 17842 | Finding Nemo                         | 2003 | 100 | 94000000 | 8.3 | 41846 | 4.5 | 4.5 | 4.5 | 4.5 | ⋯ | 24.5 | <!----> | 0 | 1 | 1 | 1 | 0 | 0 | 0 | 3 |\n\n\n$Comedy\n:   \nA data.frame: 3 × 25\n\n| <!--/--> | title &lt;chr&gt; | year &lt;int&gt; | length &lt;int&gt; | budget &lt;int&gt; | rating &lt;dbl&gt; | votes &lt;int&gt; | r1 &lt;dbl&gt; | r2 &lt;dbl&gt; | r3 &lt;dbl&gt; | r4 &lt;dbl&gt; | ⋯ ⋯ | r10 &lt;dbl&gt; | mpaa &lt;chr&gt; | Action &lt;int&gt; | Animation &lt;int&gt; | Comedy &lt;int&gt; | Drama &lt;int&gt; | Documentary &lt;int&gt; | Romance &lt;int&gt; | Short &lt;int&gt; | GenreCount &lt;dbl&gt; |\n|---|---|---|---|---|---|---|---|---|---|---|---|---|---|---|---|---|---|---|---|---|---|\n| 14857 | Dr. Strangelove or: How I Learned to Stop Worrying and Love the Bomb | 1964 |  93 |  1800000 | 8.7 | 63471 | 4.5 | 4.5 | 4.5 | 4.5 | ⋯ | 44.5 | PG | 0 | 0 | 1 | 0 | 0 | 0 | 0 | 1 |\n| 16423 | Eternal Sunshine of the Spotless Mind                                | 2004 | 108 | 20000000 | 8.6 | 46240 | 4.5 | 4.5 | 4.5 | 4.5 | ⋯ | 44.5 | R  | 0 | 0 | 1 | 1 | 0 | 1 | 0 | 3 |\n| 7104 | Bowling for Columbine                                                | 2002 | 120 |  4000000 | 8.5 | 36747 | 4.5 | 4.5 | 4.5 | 4.5 | ⋯ | 34.5 | R  | 0 | 0 | 1 | 1 | 1 | 0 | 0 | 3 |\n\n\n$Drama\n:   \nA data.frame: 3 × 25\n\n| <!--/--> | title &lt;chr&gt; | year &lt;int&gt; | length &lt;int&gt; | budget &lt;int&gt; | rating &lt;dbl&gt; | votes &lt;int&gt; | r1 &lt;dbl&gt; | r2 &lt;dbl&gt; | r3 &lt;dbl&gt; | r4 &lt;dbl&gt; | ⋯ ⋯ | r10 &lt;dbl&gt; | mpaa &lt;chr&gt; | Action &lt;int&gt; | Animation &lt;int&gt; | Comedy &lt;int&gt; | Drama &lt;int&gt; | Documentary &lt;int&gt; | Romance &lt;int&gt; | Short &lt;int&gt; | GenreCount &lt;dbl&gt; |\n|---|---|---|---|---|---|---|---|---|---|---|---|---|---|---|---|---|---|---|---|---|---|\n| 20544 | Godfather, The            | 1972 | 175 |  6000000 | 9.1 | 122755 | 4.5 | 4.5 | 4.5 | 4.5 | ⋯ | 45.5 | <!----> | 0 | 0 | 0 | 1 | 0 | 0 | 0 | 1 |\n| 46267 | Shawshank Redemption, The | 1994 | 142 | 25000000 | 9.1 | 149494 | 4.5 | 4.5 | 4.5 | 4.5 | ⋯ | 45.5 | R | 0 | 0 | 0 | 1 | 0 | 0 | 0 | 1 |\n| 20545 | Godfather: Part II, The   | 1974 | 200 | 13000000 | 8.9 |  71363 | 4.5 | 4.5 | 4.5 | 4.5 | ⋯ | 44.5 | <!----> | 0 | 0 | 0 | 1 | 0 | 0 | 0 | 1 |\n\n\n$Documentary\n:   \nA data.frame: 3 × 25\n\n| <!--/--> | title &lt;chr&gt; | year &lt;int&gt; | length &lt;int&gt; | budget &lt;int&gt; | rating &lt;dbl&gt; | votes &lt;int&gt; | r1 &lt;dbl&gt; | r2 &lt;dbl&gt; | r3 &lt;dbl&gt; | r4 &lt;dbl&gt; | ⋯ ⋯ | r10 &lt;dbl&gt; | mpaa &lt;chr&gt; | Action &lt;int&gt; | Animation &lt;int&gt; | Comedy &lt;int&gt; | Drama &lt;int&gt; | Documentary &lt;int&gt; | Romance &lt;int&gt; | Short &lt;int&gt; | GenreCount &lt;dbl&gt; |\n|---|---|---|---|---|---|---|---|---|---|---|---|---|---|---|---|---|---|---|---|---|---|\n| 7104 | Bowling for Columbine | 2002 | 120 | 4000000 | 8.5 | 36747 |  4.5 | 4.5 | 4.5 | 4.5 | ⋯ | 34.5 | R | 0 | 0 | 1 | 1 | 1 | 0 | 0 | 3 |\n| 16894 | Fahrenheit 9/11       | 2004 | 122 | 6000000 | 7.9 | 34666 | 14.5 | 4.5 | 4.5 | 4.5 | ⋯ | 44.5 | R | 0 | 0 | 0 | 0 | 1 | 0 | 0 | 1 |\n| 43740 | Roger &amp; Me            | 1989 |  91 |  160000 | 7.7 |  7674 |  4.5 | 4.5 | 4.5 | 4.5 | ⋯ | 24.5 | <!----> | 0 | 0 | 1 | 0 | 1 | 0 | 0 | 2 |\n\n\n$Romance\n:   \nA data.frame: 3 × 25\n\n| <!--/--> | title &lt;chr&gt; | year &lt;int&gt; | length &lt;int&gt; | budget &lt;int&gt; | rating &lt;dbl&gt; | votes &lt;int&gt; | r1 &lt;dbl&gt; | r2 &lt;dbl&gt; | r3 &lt;dbl&gt; | r4 &lt;dbl&gt; | ⋯ ⋯ | r10 &lt;dbl&gt; | mpaa &lt;chr&gt; | Action &lt;int&gt; | Animation &lt;int&gt; | Comedy &lt;int&gt; | Drama &lt;int&gt; | Documentary &lt;int&gt; | Romance &lt;int&gt; | Short &lt;int&gt; | GenreCount &lt;dbl&gt; |\n|---|---|---|---|---|---|---|---|---|---|---|---|---|---|---|---|---|---|---|---|---|---|\n| 8882 | Casablanca                            | 1942 | 102 |   950000 | 8.8 | 66030 | 4.5 | 4.5 | 4.5 | 4.5 | ⋯ | 44.5 | <!----> | 0 | 0 | 0 | 1 | 0 | 1 | 0 | 2 |\n| 16423 | Eternal Sunshine of the Spotless Mind | 2004 | 108 | 20000000 | 8.6 | 46240 | 4.5 | 4.5 | 4.5 | 4.5 | ⋯ | 44.5 | R | 0 | 0 | 1 | 1 | 0 | 1 | 0 | 3 |\n| 25961 | It's a Wonderful Life                 | 1946 | 118 |  3180000 | 8.6 | 41199 | 4.5 | 4.5 | 4.5 | 4.5 | ⋯ | 44.5 | <!----> | 0 | 0 | 0 | 1 | 0 | 1 | 0 | 2 |\n\n\n$Short\n:   \nA data.frame: 3 × 25\n\n| <!--/--> | title &lt;chr&gt; | year &lt;int&gt; | length &lt;int&gt; | budget &lt;int&gt; | rating &lt;dbl&gt; | votes &lt;int&gt; | r1 &lt;dbl&gt; | r2 &lt;dbl&gt; | r3 &lt;dbl&gt; | r4 &lt;dbl&gt; | ⋯ ⋯ | r10 &lt;dbl&gt; | mpaa &lt;chr&gt; | Action &lt;int&gt; | Animation &lt;int&gt; | Comedy &lt;int&gt; | Drama &lt;int&gt; | Documentary &lt;int&gt; | Romance &lt;int&gt; | Short &lt;int&gt; | GenreCount &lt;dbl&gt; |\n|---|---|---|---|---|---|---|---|---|---|---|---|---|---|---|---|---|---|---|---|---|---|\n| 55998 | Wallace &amp; Gromit: The Wrong Trousers | 1993 | 30 | NA | 8.4 | 14976 | 4.5 | 4.5 | 4.5 | 4.5 | ⋯ | 34.5 | <!----> | 0 | 1 | 1 | 0 | 0 | 0 | 1 | 3 |\n| 55995 | Wallace &amp; Gromit: A Close Shave      | 1995 | 30 | NA | 8.2 |  9261 | 4.5 | 4.5 | 4.5 | 4.5 | ⋯ | 34.5 | <!----> | 0 | 1 | 1 | 0 | 0 | 0 | 1 | 3 |\n| 55996 | Wallace &amp; Gromit: A Grand Day Out    | 1991 | 23 | NA | 7.7 |  5134 | 4.5 | 4.5 | 4.5 | 4.5 | ⋯ | 14.5 | <!----> | 0 | 1 | 1 | 0 | 0 | 0 | 1 | 3 |\n\n\n\n\n",
            "text/latex": "\\begin{description}\n\\item[\\$Action] A data.frame: 3 × 25\n\\begin{tabular}{r|lllllllllllllllllllll}\n  & title & year & length & budget & rating & votes & r1 & r2 & r3 & r4 & ⋯ & r10 & mpaa & Action & Animation & Comedy & Drama & Documentary & Romance & Short & GenreCount\\\\\n  & <chr> & <int> & <int> & <int> & <dbl> & <int> & <dbl> & <dbl> & <dbl> & <dbl> & ⋯ & <dbl> & <chr> & <int> & <int> & <int> & <int> & <int> & <int> & <int> & <dbl>\\\\\n\\hline\n\t30657 & Lord of the Rings: The Return of the King, The & 2003 & 251 & 94000000 & 9.0 & 103631 & 4.5 & 4.5 & 4.5 & 4.5 & ⋯ & 64.5 & PG-13 & 1 & 0 & 0 & 0 & 0 & 0 & 0 & 1\\\\\n\t46406 & Shichinin no samurai                           & 1954 & 206 &   500000 & 8.9 &  32141 & 4.5 & 4.5 & 4.5 & 4.5 & ⋯ & 45.5 &       & 1 & 0 & 0 & 1 & 0 & 0 & 0 & 2\\\\\n\t7897 & Buono, il brutto, il cattivo, Il               & 1966 & 180 &  1200000 & 8.8 &  30224 & 4.5 & 4.5 & 4.5 & 4.5 & ⋯ & 44.5 &       & 1 & 0 & 0 & 1 & 0 & 0 & 0 & 2\\\\\n\\end{tabular}\n\n\\item[\\$Animation] A data.frame: 3 × 25\n\\begin{tabular}{r|lllllllllllllllllllll}\n  & title & year & length & budget & rating & votes & r1 & r2 & r3 & r4 & ⋯ & r10 & mpaa & Action & Animation & Comedy & Drama & Documentary & Romance & Short & GenreCount\\\\\n  & <chr> & <int> & <int> & <int> & <dbl> & <int> & <dbl> & <dbl> & <dbl> & <dbl> & ⋯ & <dbl> & <chr> & <int> & <int> & <int> & <int> & <int> & <int> & <int> & <dbl>\\\\\n\\hline\n\t45695 & Sen to Chihiro no kamikakushi        & 2001 & 125 &       NA & 8.6 & 24253 & 4.5 & 4.5 & 4.5 & 4.5 & ⋯ & 44.5 & PG & 0 & 1 & 0 & 1 & 0 & 0 & 0 & 2\\\\\n\t55998 & Wallace \\& Gromit: The Wrong Trousers & 1993 &  30 &       NA & 8.4 & 14976 & 4.5 & 4.5 & 4.5 & 4.5 & ⋯ & 34.5 &    & 0 & 1 & 1 & 0 & 0 & 0 & 1 & 3\\\\\n\t17842 & Finding Nemo                         & 2003 & 100 & 94000000 & 8.3 & 41846 & 4.5 & 4.5 & 4.5 & 4.5 & ⋯ & 24.5 &    & 0 & 1 & 1 & 1 & 0 & 0 & 0 & 3\\\\\n\\end{tabular}\n\n\\item[\\$Comedy] A data.frame: 3 × 25\n\\begin{tabular}{r|lllllllllllllllllllll}\n  & title & year & length & budget & rating & votes & r1 & r2 & r3 & r4 & ⋯ & r10 & mpaa & Action & Animation & Comedy & Drama & Documentary & Romance & Short & GenreCount\\\\\n  & <chr> & <int> & <int> & <int> & <dbl> & <int> & <dbl> & <dbl> & <dbl> & <dbl> & ⋯ & <dbl> & <chr> & <int> & <int> & <int> & <int> & <int> & <int> & <int> & <dbl>\\\\\n\\hline\n\t14857 & Dr. Strangelove or: How I Learned to Stop Worrying and Love the Bomb & 1964 &  93 &  1800000 & 8.7 & 63471 & 4.5 & 4.5 & 4.5 & 4.5 & ⋯ & 44.5 & PG & 0 & 0 & 1 & 0 & 0 & 0 & 0 & 1\\\\\n\t16423 & Eternal Sunshine of the Spotless Mind                                & 2004 & 108 & 20000000 & 8.6 & 46240 & 4.5 & 4.5 & 4.5 & 4.5 & ⋯ & 44.5 & R  & 0 & 0 & 1 & 1 & 0 & 1 & 0 & 3\\\\\n\t7104 & Bowling for Columbine                                                & 2002 & 120 &  4000000 & 8.5 & 36747 & 4.5 & 4.5 & 4.5 & 4.5 & ⋯ & 34.5 & R  & 0 & 0 & 1 & 1 & 1 & 0 & 0 & 3\\\\\n\\end{tabular}\n\n\\item[\\$Drama] A data.frame: 3 × 25\n\\begin{tabular}{r|lllllllllllllllllllll}\n  & title & year & length & budget & rating & votes & r1 & r2 & r3 & r4 & ⋯ & r10 & mpaa & Action & Animation & Comedy & Drama & Documentary & Romance & Short & GenreCount\\\\\n  & <chr> & <int> & <int> & <int> & <dbl> & <int> & <dbl> & <dbl> & <dbl> & <dbl> & ⋯ & <dbl> & <chr> & <int> & <int> & <int> & <int> & <int> & <int> & <int> & <dbl>\\\\\n\\hline\n\t20544 & Godfather, The            & 1972 & 175 &  6000000 & 9.1 & 122755 & 4.5 & 4.5 & 4.5 & 4.5 & ⋯ & 45.5 &   & 0 & 0 & 0 & 1 & 0 & 0 & 0 & 1\\\\\n\t46267 & Shawshank Redemption, The & 1994 & 142 & 25000000 & 9.1 & 149494 & 4.5 & 4.5 & 4.5 & 4.5 & ⋯ & 45.5 & R & 0 & 0 & 0 & 1 & 0 & 0 & 0 & 1\\\\\n\t20545 & Godfather: Part II, The   & 1974 & 200 & 13000000 & 8.9 &  71363 & 4.5 & 4.5 & 4.5 & 4.5 & ⋯ & 44.5 &   & 0 & 0 & 0 & 1 & 0 & 0 & 0 & 1\\\\\n\\end{tabular}\n\n\\item[\\$Documentary] A data.frame: 3 × 25\n\\begin{tabular}{r|lllllllllllllllllllll}\n  & title & year & length & budget & rating & votes & r1 & r2 & r3 & r4 & ⋯ & r10 & mpaa & Action & Animation & Comedy & Drama & Documentary & Romance & Short & GenreCount\\\\\n  & <chr> & <int> & <int> & <int> & <dbl> & <int> & <dbl> & <dbl> & <dbl> & <dbl> & ⋯ & <dbl> & <chr> & <int> & <int> & <int> & <int> & <int> & <int> & <int> & <dbl>\\\\\n\\hline\n\t7104 & Bowling for Columbine & 2002 & 120 & 4000000 & 8.5 & 36747 &  4.5 & 4.5 & 4.5 & 4.5 & ⋯ & 34.5 & R & 0 & 0 & 1 & 1 & 1 & 0 & 0 & 3\\\\\n\t16894 & Fahrenheit 9/11       & 2004 & 122 & 6000000 & 7.9 & 34666 & 14.5 & 4.5 & 4.5 & 4.5 & ⋯ & 44.5 & R & 0 & 0 & 0 & 0 & 1 & 0 & 0 & 1\\\\\n\t43740 & Roger \\& Me            & 1989 &  91 &  160000 & 7.7 &  7674 &  4.5 & 4.5 & 4.5 & 4.5 & ⋯ & 24.5 &   & 0 & 0 & 1 & 0 & 1 & 0 & 0 & 2\\\\\n\\end{tabular}\n\n\\item[\\$Romance] A data.frame: 3 × 25\n\\begin{tabular}{r|lllllllllllllllllllll}\n  & title & year & length & budget & rating & votes & r1 & r2 & r3 & r4 & ⋯ & r10 & mpaa & Action & Animation & Comedy & Drama & Documentary & Romance & Short & GenreCount\\\\\n  & <chr> & <int> & <int> & <int> & <dbl> & <int> & <dbl> & <dbl> & <dbl> & <dbl> & ⋯ & <dbl> & <chr> & <int> & <int> & <int> & <int> & <int> & <int> & <int> & <dbl>\\\\\n\\hline\n\t8882 & Casablanca                            & 1942 & 102 &   950000 & 8.8 & 66030 & 4.5 & 4.5 & 4.5 & 4.5 & ⋯ & 44.5 &   & 0 & 0 & 0 & 1 & 0 & 1 & 0 & 2\\\\\n\t16423 & Eternal Sunshine of the Spotless Mind & 2004 & 108 & 20000000 & 8.6 & 46240 & 4.5 & 4.5 & 4.5 & 4.5 & ⋯ & 44.5 & R & 0 & 0 & 1 & 1 & 0 & 1 & 0 & 3\\\\\n\t25961 & It's a Wonderful Life                 & 1946 & 118 &  3180000 & 8.6 & 41199 & 4.5 & 4.5 & 4.5 & 4.5 & ⋯ & 44.5 &   & 0 & 0 & 0 & 1 & 0 & 1 & 0 & 2\\\\\n\\end{tabular}\n\n\\item[\\$Short] A data.frame: 3 × 25\n\\begin{tabular}{r|lllllllllllllllllllll}\n  & title & year & length & budget & rating & votes & r1 & r2 & r3 & r4 & ⋯ & r10 & mpaa & Action & Animation & Comedy & Drama & Documentary & Romance & Short & GenreCount\\\\\n  & <chr> & <int> & <int> & <int> & <dbl> & <int> & <dbl> & <dbl> & <dbl> & <dbl> & ⋯ & <dbl> & <chr> & <int> & <int> & <int> & <int> & <int> & <int> & <int> & <dbl>\\\\\n\\hline\n\t55998 & Wallace \\& Gromit: The Wrong Trousers & 1993 & 30 & NA & 8.4 & 14976 & 4.5 & 4.5 & 4.5 & 4.5 & ⋯ & 34.5 &  & 0 & 1 & 1 & 0 & 0 & 0 & 1 & 3\\\\\n\t55995 & Wallace \\& Gromit: A Close Shave      & 1995 & 30 & NA & 8.2 &  9261 & 4.5 & 4.5 & 4.5 & 4.5 & ⋯ & 34.5 &  & 0 & 1 & 1 & 0 & 0 & 0 & 1 & 3\\\\\n\t55996 & Wallace \\& Gromit: A Grand Day Out    & 1991 & 23 & NA & 7.7 &  5134 & 4.5 & 4.5 & 4.5 & 4.5 & ⋯ & 14.5 &  & 0 & 1 & 1 & 0 & 0 & 0 & 1 & 3\\\\\n\\end{tabular}\n\n\\end{description}\n",
            "text/plain": [
              "$Action\n",
              "                                               title year length   budget\n",
              "30657 Lord of the Rings: The Return of the King, The 2003    251 94000000\n",
              "46406                           Shichinin no samurai 1954    206   500000\n",
              "7897                Buono, il brutto, il cattivo, Il 1966    180  1200000\n",
              "      rating  votes  r1  r2  r3  r4  r5  r6  r7   r8   r9  r10  mpaa Action\n",
              "30657    9.0 103631 4.5 4.5 4.5 4.5 4.5 4.5 4.5  4.5 14.5 64.5 PG-13      1\n",
              "46406    8.9  32141 4.5 4.5 4.5 4.5 4.5 4.5 4.5 14.5 14.5 45.5            1\n",
              "7897     8.8  30224 4.5 4.5 4.5 4.5 4.5 4.5 4.5 14.5 24.5 44.5            1\n",
              "      Animation Comedy Drama Documentary Romance Short GenreCount\n",
              "30657         0      0     0           0       0     0          1\n",
              "46406         0      0     1           0       0     0          2\n",
              "7897          0      0     1           0       0     0          2\n",
              "\n",
              "$Animation\n",
              "                                     title year length   budget rating votes\n",
              "45695        Sen to Chihiro no kamikakushi 2001    125       NA    8.6 24253\n",
              "55998 Wallace & Gromit: The Wrong Trousers 1993     30       NA    8.4 14976\n",
              "17842                         Finding Nemo 2003    100 94000000    8.3 41846\n",
              "       r1  r2  r3  r4  r5  r6   r7   r8   r9  r10 mpaa Action Animation Comedy\n",
              "45695 4.5 4.5 4.5 4.5 4.5 4.5  4.5 14.5 24.5 44.5   PG      0         1      0\n",
              "55998 4.5 4.5 4.5 4.5 4.5 4.5 14.5 14.5 24.5 34.5           0         1      1\n",
              "17842 4.5 4.5 4.5 4.5 4.5 4.5 14.5 24.5 24.5 24.5           0         1      1\n",
              "      Drama Documentary Romance Short GenreCount\n",
              "45695     1           0       0     0          2\n",
              "55998     0           0       0     1          3\n",
              "17842     1           0       0     0          3\n",
              "\n",
              "$Comedy\n",
              "                                                                     title year\n",
              "14857 Dr. Strangelove or: How I Learned to Stop Worrying and Love the Bomb 1964\n",
              "16423                                Eternal Sunshine of the Spotless Mind 2004\n",
              "7104                                                 Bowling for Columbine 2002\n",
              "      length   budget rating votes  r1  r2  r3  r4  r5  r6  r7   r8   r9  r10\n",
              "14857     93  1800000    8.7 63471 4.5 4.5 4.5 4.5 4.5 4.5 4.5 14.5 24.5 44.5\n",
              "16423    108 20000000    8.6 46240 4.5 4.5 4.5 4.5 4.5 4.5 4.5 14.5 24.5 44.5\n",
              "7104     120  4000000    8.5 36747 4.5 4.5 4.5 4.5 4.5 4.5 4.5 14.5 24.5 34.5\n",
              "      mpaa Action Animation Comedy Drama Documentary Romance Short GenreCount\n",
              "14857   PG      0         0      1     0           0       0     0          1\n",
              "16423    R      0         0      1     1           0       1     0          3\n",
              "7104     R      0         0      1     1           1       0     0          3\n",
              "\n",
              "$Drama\n",
              "                          title year length   budget rating  votes  r1  r2  r3\n",
              "20544            Godfather, The 1972    175  6000000    9.1 122755 4.5 4.5 4.5\n",
              "46267 Shawshank Redemption, The 1994    142 25000000    9.1 149494 4.5 4.5 4.5\n",
              "20545   Godfather: Part II, The 1974    200 13000000    8.9  71363 4.5 4.5 4.5\n",
              "       r4  r5  r6  r7   r8   r9  r10 mpaa Action Animation Comedy Drama\n",
              "20544 4.5 4.5 4.5 4.5 14.5 14.5 45.5           0         0      0     1\n",
              "46267 4.5 4.5 4.5 4.5 14.5 24.5 45.5    R      0         0      0     1\n",
              "20545 4.5 4.5 4.5 4.5 14.5 24.5 44.5           0         0      0     1\n",
              "      Documentary Romance Short GenreCount\n",
              "20544           0       0     0          1\n",
              "46267           0       0     0          1\n",
              "20545           0       0     0          1\n",
              "\n",
              "$Documentary\n",
              "                      title year length  budget rating votes   r1  r2  r3  r4\n",
              "7104  Bowling for Columbine 2002    120 4000000    8.5 36747  4.5 4.5 4.5 4.5\n",
              "16894       Fahrenheit 9/11 2004    122 6000000    7.9 34666 14.5 4.5 4.5 4.5\n",
              "43740            Roger & Me 1989     91  160000    7.7  7674  4.5 4.5 4.5 4.5\n",
              "       r5  r6   r7   r8   r9  r10 mpaa Action Animation Comedy Drama\n",
              "7104  4.5 4.5  4.5 14.5 24.5 34.5    R      0         0      1     1\n",
              "16894 4.5 4.5  4.5 14.5 14.5 44.5    R      0         0      0     0\n",
              "43740 4.5 4.5 14.5 24.5 14.5 24.5           0         0      1     0\n",
              "      Documentary Romance Short GenreCount\n",
              "7104            1       0     0          3\n",
              "16894           1       0     0          1\n",
              "43740           1       0     0          2\n",
              "\n",
              "$Romance\n",
              "                                      title year length   budget rating votes\n",
              "8882                             Casablanca 1942    102   950000    8.8 66030\n",
              "16423 Eternal Sunshine of the Spotless Mind 2004    108 20000000    8.6 46240\n",
              "25961                 It's a Wonderful Life 1946    118  3180000    8.6 41199\n",
              "       r1  r2  r3  r4  r5  r6   r7   r8   r9  r10 mpaa Action Animation Comedy\n",
              "8882  4.5 4.5 4.5 4.5 4.5 4.5  4.5 14.5 24.5 44.5           0         0      0\n",
              "16423 4.5 4.5 4.5 4.5 4.5 4.5  4.5 14.5 24.5 44.5    R      0         0      1\n",
              "25961 4.5 4.5 4.5 4.5 4.5 4.5 14.5 14.5 14.5 44.5           0         0      0\n",
              "      Drama Documentary Romance Short GenreCount\n",
              "8882      1           0       1     0          2\n",
              "16423     1           0       1     0          3\n",
              "25961     1           0       1     0          2\n",
              "\n",
              "$Short\n",
              "                                     title year length budget rating votes  r1\n",
              "55998 Wallace & Gromit: The Wrong Trousers 1993     30     NA    8.4 14976 4.5\n",
              "55995      Wallace & Gromit: A Close Shave 1995     30     NA    8.2  9261 4.5\n",
              "55996    Wallace & Gromit: A Grand Day Out 1991     23     NA    7.7  5134 4.5\n",
              "       r2  r3  r4  r5  r6   r7   r8   r9  r10 mpaa Action Animation Comedy\n",
              "55998 4.5 4.5 4.5 4.5 4.5 14.5 14.5 24.5 34.5           0         1      1\n",
              "55995 4.5 4.5 4.5 4.5 4.5 14.5 24.5 24.5 34.5           0         1      1\n",
              "55996 4.5 4.5 4.5 4.5 4.5 14.5 24.5 14.5 14.5           0         1      1\n",
              "      Drama Documentary Romance Short GenreCount\n",
              "55998     0           0       0     1          3\n",
              "55995     0           0       0     1          3\n",
              "55996     0           0       0     1          3\n"
            ]
          },
          "metadata": {}
        },
        {
          "output_type": "display_data",
          "data": {
            "text/html": [
              "'list'"
            ],
            "text/markdown": "'list'",
            "text/latex": "'list'",
            "text/plain": [
              "[1] \"list\""
            ]
          },
          "metadata": {}
        }
      ],
      "source": [
        "list_categories <- c('Action', 'Animation', 'Comedy', 'Drama', 'Documentary', 'Romance', 'Short')\n",
        "\n",
        "# Create an empty list to store the results\n",
        "top_rated_movies_by_genre <- list()\n",
        "\n",
        "for (genre in list_categories) {\n",
        "\n",
        "  df_imdb_votes_5000 <- df_imdb[df_imdb$votes >= 5000, ]\n",
        "  # Filter movies for the current genre\n",
        "  genre_movies <- df_imdb_votes_5000[df_imdb_votes_5000[[genre]] == 1, ]\n",
        "\n",
        "  # Sort the movies by rating in descending order\n",
        "  sorted_movies <- genre_movies[order(-genre_movies$rating), ]\n",
        "\n",
        "  # Take the top 3 rated movies for the current genre\n",
        "  top_3_movies <- head(sorted_movies, 3)\n",
        "\n",
        "  # Store the top 3 movies in the list\n",
        "  top_rated_movies_by_genre[[genre]] <- top_3_movies\n",
        "}\n",
        "\n",
        "top_rated_movies_by_genre\n",
        "\n",
        "class(top_rated_movies_by_genre)\n"
      ]
    },
    {
      "cell_type": "markdown",
      "metadata": {
        "id": "fjgHMtBUzPJu"
      },
      "source": [
        "## Genre Averages\n",
        "\n",
        "Spočítejte průměrná hodnocení filmů v jednotlivých žánrech. Jsou komedie v průměru lépe hodnocené než akční filmy? Zkusíte navrhnout a provést statistický test?"
      ]
    },
    {
      "cell_type": "code",
      "execution_count": 53,
      "metadata": {
        "id": "C1wgwynJzPJu",
        "colab": {
          "base_uri": "https://localhost:8080/"
        },
        "outputId": "9fb2f1ef-e2e8-4009-90e5-4e29ee16c84c"
      },
      "outputs": [
        {
          "output_type": "stream",
          "name": "stdout",
          "text": [
            "Action 5.292022 \n",
            "Animation 6.583686 \n",
            "Comedy 5.955492 \n",
            "Drama 6.153684 \n",
            "Documentary 6.650576 \n",
            "Romance 6.163997 \n",
            "Short 6.481423 \n"
          ]
        }
      ],
      "source": [
        "for (genre in list_categories) {\n",
        "\n",
        "  # Filter movies for the current genre\n",
        "  genre_movies <- df_imdb[df_imdb[[genre]] == 1, ]\n",
        "\n",
        "  cat(genre, mean(genre_movies$rating), \"\\n\")\n",
        "}"
      ]
    },
    {
      "cell_type": "markdown",
      "metadata": {
        "id": "g3_kSngSzPJu"
      },
      "source": [
        "## Romantic Comedy by Decades\n",
        "\n",
        "Najděte tři nejlepší romantické komedie z každého desetiletí.\n",
        "\n",
        "**Bonus:** Filmy, které se do finálního seznamu dostanou, musí mít alespoň 30 hodnocení."
      ]
    },
    {
      "cell_type": "code",
      "execution_count": 61,
      "metadata": {
        "id": "ZpE1Ow00zPJu"
      },
      "outputs": [],
      "source": [
        "# Assuming your dataframe and the filters you provided\n",
        "df_imdb_votes_30 <- df_imdb[df_imdb$votes >= 30, ]\n",
        "df_imdb_votes_30_romance <- df_imdb_votes_30[df_imdb_votes_30$Romance == 1, ]\n",
        "df_imdb_votes_30_romance_comedy <- df_imdb_votes_30_romance[df_imdb_votes_30_romance$Comedy == 1, ]\n",
        "\n",
        "df_imdb_votes_30_romance_comedy$decade <- paste0((df_imdb_votes_30_romance_comedy$year %/% 10) * 10, \"-\", ((df_imdb_votes_30_romance_comedy$year %/% 10) * 10) + 9)\n",
        "\n",
        "# df_imdb_votes_30_romance_comedy\n",
        "\n",
        "# output <- split(df_imdb_votes_30_romance_comedy, df_imdb_votes_30_romance_comedy$decade)\n",
        "\n",
        "# help(split)\n",
        "\n",
        "# head(output, 3)"
      ]
    },
    {
      "cell_type": "code",
      "source": [
        "top_rated_movies_romance_comedy <- list()\n",
        "\n",
        "# Loop over unique decades\n",
        "for (decade in unique(df_imdb_votes_30_romance_comedy$decade)) {\n",
        "\n",
        "  # Subset movies from the current decade\n",
        "  decade_movies <- df_imdb_votes_30_romance_comedy[df_imdb_votes_30_romance_comedy$decade == decade, ]\n",
        "\n",
        "  # Sort the movies by rating in descending order\n",
        "  sorted_movies <- decade_movies[order(-decade_movies$rating), ]\n",
        "\n",
        "  # Take the top 3 rated movies for the current decade\n",
        "  top_3_movies <- head(sorted_movies, 3)\n",
        "\n",
        "  # Store the top 3 movies in the list\n",
        "  top_rated_movies_romance_comedy[[decade]] <- top_3_movies\n",
        "}\n",
        "\n",
        "top_rated_movies_romance_comedy\n"
      ],
      "metadata": {
        "id": "WAw6-FA7j87g",
        "colab": {
          "base_uri": "https://localhost:8080/",
          "height": 1000
        },
        "outputId": "f38d9d07-80d2-470c-d625-b417b83d6ee1"
      },
      "execution_count": 63,
      "outputs": [
        {
          "output_type": "display_data",
          "data": {
            "text/html": [
              "<dl>\n",
              "\t<dt>$`1990-1999`</dt>\n",
              "\t\t<dd><table class=\"dataframe\">\n",
              "<caption>A data.frame: 3 × 26</caption>\n",
              "<thead>\n",
              "\t<tr><th></th><th scope=col>title</th><th scope=col>year</th><th scope=col>length</th><th scope=col>budget</th><th scope=col>rating</th><th scope=col>votes</th><th scope=col>r1</th><th scope=col>r2</th><th scope=col>r3</th><th scope=col>r4</th><th scope=col>⋯</th><th scope=col>mpaa</th><th scope=col>Action</th><th scope=col>Animation</th><th scope=col>Comedy</th><th scope=col>Drama</th><th scope=col>Documentary</th><th scope=col>Romance</th><th scope=col>Short</th><th scope=col>GenreCount</th><th scope=col>decade</th></tr>\n",
              "\t<tr><th></th><th scope=col>&lt;chr&gt;</th><th scope=col>&lt;int&gt;</th><th scope=col>&lt;int&gt;</th><th scope=col>&lt;int&gt;</th><th scope=col>&lt;dbl&gt;</th><th scope=col>&lt;int&gt;</th><th scope=col>&lt;dbl&gt;</th><th scope=col>&lt;dbl&gt;</th><th scope=col>&lt;dbl&gt;</th><th scope=col>&lt;dbl&gt;</th><th scope=col>⋯</th><th scope=col>&lt;chr&gt;</th><th scope=col>&lt;int&gt;</th><th scope=col>&lt;int&gt;</th><th scope=col>&lt;int&gt;</th><th scope=col>&lt;int&gt;</th><th scope=col>&lt;int&gt;</th><th scope=col>&lt;int&gt;</th><th scope=col>&lt;int&gt;</th><th scope=col>&lt;dbl&gt;</th><th scope=col>&lt;chr&gt;</th></tr>\n",
              "</thead>\n",
              "<tbody>\n",
              "\t<tr><th scope=row>13305</th><td>Denei shoujo Ai</td><td>1992</td><td>180</td><td>NA</td><td>8.7</td><td>157</td><td>4.5</td><td>4.5</td><td>4.5</td><td>0.0</td><td>⋯</td><td></td><td>0</td><td>1</td><td>1</td><td>0</td><td>0</td><td>1</td><td>0</td><td>3</td><td>1990-1999</td></tr>\n",
              "\t<tr><th scope=row>8102</th><td>C4             </td><td>1996</td><td>  4</td><td>NA</td><td>8.4</td><td> 48</td><td>4.5</td><td>0.0</td><td>0.0</td><td>0.0</td><td>⋯</td><td></td><td>0</td><td>0</td><td>1</td><td>0</td><td>0</td><td>1</td><td>1</td><td>3</td><td>1990-1999</td></tr>\n",
              "\t<tr><th scope=row>2277</th><td>Amor &amp; Alquimia</td><td>1995</td><td> 22</td><td>NA</td><td>8.1</td><td> 36</td><td>0.0</td><td>0.0</td><td>0.0</td><td>4.5</td><td>⋯</td><td></td><td>0</td><td>0</td><td>1</td><td>0</td><td>0</td><td>1</td><td>1</td><td>3</td><td>1990-1999</td></tr>\n",
              "</tbody>\n",
              "</table>\n",
              "</dd>\n",
              "\t<dt>$`1980-1989`</dt>\n",
              "\t\t<dd><table class=\"dataframe\">\n",
              "<caption>A data.frame: 3 × 26</caption>\n",
              "<thead>\n",
              "\t<tr><th></th><th scope=col>title</th><th scope=col>year</th><th scope=col>length</th><th scope=col>budget</th><th scope=col>rating</th><th scope=col>votes</th><th scope=col>r1</th><th scope=col>r2</th><th scope=col>r3</th><th scope=col>r4</th><th scope=col>⋯</th><th scope=col>mpaa</th><th scope=col>Action</th><th scope=col>Animation</th><th scope=col>Comedy</th><th scope=col>Drama</th><th scope=col>Documentary</th><th scope=col>Romance</th><th scope=col>Short</th><th scope=col>GenreCount</th><th scope=col>decade</th></tr>\n",
              "\t<tr><th></th><th scope=col>&lt;chr&gt;</th><th scope=col>&lt;int&gt;</th><th scope=col>&lt;int&gt;</th><th scope=col>&lt;int&gt;</th><th scope=col>&lt;dbl&gt;</th><th scope=col>&lt;int&gt;</th><th scope=col>&lt;dbl&gt;</th><th scope=col>&lt;dbl&gt;</th><th scope=col>&lt;dbl&gt;</th><th scope=col>&lt;dbl&gt;</th><th scope=col>⋯</th><th scope=col>&lt;chr&gt;</th><th scope=col>&lt;int&gt;</th><th scope=col>&lt;int&gt;</th><th scope=col>&lt;int&gt;</th><th scope=col>&lt;int&gt;</th><th scope=col>&lt;int&gt;</th><th scope=col>&lt;int&gt;</th><th scope=col>&lt;int&gt;</th><th scope=col>&lt;dbl&gt;</th><th scope=col>&lt;chr&gt;</th></tr>\n",
              "</thead>\n",
              "<tbody>\n",
              "\t<tr><th scope=row>9510</th><td>Chashme Buddoor    </td><td>1981</td><td>145</td><td>      NA</td><td>8.5</td><td>   40</td><td>0.0</td><td>0.0</td><td>0.0</td><td>0.0</td><td>⋯</td><td></td><td>0</td><td>0</td><td>1</td><td>0</td><td>0</td><td>1</td><td>0</td><td>2</td><td>1980-1989</td></tr>\n",
              "\t<tr><th scope=row>28551</th><td>Kuryer             </td><td>1987</td><td> 90</td><td>      NA</td><td>8.2</td><td>   88</td><td>0.0</td><td>0.0</td><td>0.0</td><td>4.5</td><td>⋯</td><td></td><td>0</td><td>0</td><td>1</td><td>1</td><td>0</td><td>1</td><td>0</td><td>3</td><td>1980-1989</td></tr>\n",
              "\t<tr><th scope=row>41270</th><td>Princess Bride, The</td><td>1987</td><td> 98</td><td>16000000</td><td>8.2</td><td>53946</td><td>4.5</td><td>4.5</td><td>4.5</td><td>4.5</td><td>⋯</td><td></td><td>0</td><td>0</td><td>1</td><td>0</td><td>0</td><td>1</td><td>0</td><td>2</td><td>1980-1989</td></tr>\n",
              "</tbody>\n",
              "</table>\n",
              "</dd>\n",
              "\t<dt>$`2000-2009`</dt>\n",
              "\t\t<dd><table class=\"dataframe\">\n",
              "<caption>A data.frame: 3 × 26</caption>\n",
              "<thead>\n",
              "\t<tr><th></th><th scope=col>title</th><th scope=col>year</th><th scope=col>length</th><th scope=col>budget</th><th scope=col>rating</th><th scope=col>votes</th><th scope=col>r1</th><th scope=col>r2</th><th scope=col>r3</th><th scope=col>r4</th><th scope=col>⋯</th><th scope=col>mpaa</th><th scope=col>Action</th><th scope=col>Animation</th><th scope=col>Comedy</th><th scope=col>Drama</th><th scope=col>Documentary</th><th scope=col>Romance</th><th scope=col>Short</th><th scope=col>GenreCount</th><th scope=col>decade</th></tr>\n",
              "\t<tr><th></th><th scope=col>&lt;chr&gt;</th><th scope=col>&lt;int&gt;</th><th scope=col>&lt;int&gt;</th><th scope=col>&lt;int&gt;</th><th scope=col>&lt;dbl&gt;</th><th scope=col>&lt;int&gt;</th><th scope=col>&lt;dbl&gt;</th><th scope=col>&lt;dbl&gt;</th><th scope=col>&lt;dbl&gt;</th><th scope=col>&lt;dbl&gt;</th><th scope=col>⋯</th><th scope=col>&lt;chr&gt;</th><th scope=col>&lt;int&gt;</th><th scope=col>&lt;int&gt;</th><th scope=col>&lt;int&gt;</th><th scope=col>&lt;int&gt;</th><th scope=col>&lt;int&gt;</th><th scope=col>&lt;int&gt;</th><th scope=col>&lt;int&gt;</th><th scope=col>&lt;dbl&gt;</th><th scope=col>&lt;chr&gt;</th></tr>\n",
              "</thead>\n",
              "<tbody>\n",
              "\t<tr><th scope=row>36420</th><td>Night of the Dog                     </td><td>2005</td><td> 86</td><td>    5000</td><td>9.5</td><td>   33</td><td>4.5</td><td>0.0</td><td>4.5</td><td>0.0</td><td>⋯</td><td> </td><td>0</td><td>0</td><td>1</td><td>0</td><td>0</td><td>1</td><td>0</td><td>2</td><td>2000-2009</td></tr>\n",
              "\t<tr><th scope=row>8890</th><td>Casamento de Louise, O               </td><td>2001</td><td> 80</td><td>      NA</td><td>8.8</td><td>   40</td><td>4.5</td><td>0.0</td><td>4.5</td><td>4.5</td><td>⋯</td><td> </td><td>0</td><td>0</td><td>1</td><td>0</td><td>0</td><td>1</td><td>0</td><td>2</td><td>2000-2009</td></tr>\n",
              "\t<tr><th scope=row>16423</th><td>Eternal Sunshine of the Spotless Mind</td><td>2004</td><td>108</td><td>20000000</td><td>8.6</td><td>46240</td><td>4.5</td><td>4.5</td><td>4.5</td><td>4.5</td><td>⋯</td><td>R</td><td>0</td><td>0</td><td>1</td><td>1</td><td>0</td><td>1</td><td>0</td><td>3</td><td>2000-2009</td></tr>\n",
              "</tbody>\n",
              "</table>\n",
              "</dd>\n",
              "\t<dt>$`1970-1979`</dt>\n",
              "\t\t<dd><table class=\"dataframe\">\n",
              "<caption>A data.frame: 3 × 26</caption>\n",
              "<thead>\n",
              "\t<tr><th></th><th scope=col>title</th><th scope=col>year</th><th scope=col>length</th><th scope=col>budget</th><th scope=col>rating</th><th scope=col>votes</th><th scope=col>r1</th><th scope=col>r2</th><th scope=col>r3</th><th scope=col>r4</th><th scope=col>⋯</th><th scope=col>mpaa</th><th scope=col>Action</th><th scope=col>Animation</th><th scope=col>Comedy</th><th scope=col>Drama</th><th scope=col>Documentary</th><th scope=col>Romance</th><th scope=col>Short</th><th scope=col>GenreCount</th><th scope=col>decade</th></tr>\n",
              "\t<tr><th></th><th scope=col>&lt;chr&gt;</th><th scope=col>&lt;int&gt;</th><th scope=col>&lt;int&gt;</th><th scope=col>&lt;int&gt;</th><th scope=col>&lt;dbl&gt;</th><th scope=col>&lt;int&gt;</th><th scope=col>&lt;dbl&gt;</th><th scope=col>&lt;dbl&gt;</th><th scope=col>&lt;dbl&gt;</th><th scope=col>&lt;dbl&gt;</th><th scope=col>⋯</th><th scope=col>&lt;chr&gt;</th><th scope=col>&lt;int&gt;</th><th scope=col>&lt;int&gt;</th><th scope=col>&lt;int&gt;</th><th scope=col>&lt;int&gt;</th><th scope=col>&lt;int&gt;</th><th scope=col>&lt;int&gt;</th><th scope=col>&lt;int&gt;</th><th scope=col>&lt;dbl&gt;</th><th scope=col>&lt;chr&gt;</th></tr>\n",
              "</thead>\n",
              "<tbody>\n",
              "\t<tr><th scope=row>47498</th><td>Sluzhebnyy roman</td><td>1977</td><td>159</td><td>     NA</td><td>9.1</td><td>  320</td><td>4.5</td><td>4.5</td><td>4.5</td><td>4.5</td><td>⋯</td><td></td><td>0</td><td>0</td><td>1</td><td>0</td><td>0</td><td>1</td><td>0</td><td>2</td><td>1970-1979</td></tr>\n",
              "\t<tr><th scope=row>2728</th><td>Annie Hall      </td><td>1977</td><td> 93</td><td>4000000</td><td>8.3</td><td>21462</td><td>4.5</td><td>4.5</td><td>4.5</td><td>4.5</td><td>⋯</td><td></td><td>0</td><td>0</td><td>1</td><td>0</td><td>0</td><td>1</td><td>0</td><td>2</td><td>1970-1979</td></tr>\n",
              "\t<tr><th scope=row>46570</th><td>Shor            </td><td>1972</td><td>170</td><td>     NA</td><td>8.3</td><td>   35</td><td>0.0</td><td>0.0</td><td>0.0</td><td>0.0</td><td>⋯</td><td></td><td>0</td><td>0</td><td>1</td><td>1</td><td>0</td><td>1</td><td>0</td><td>3</td><td>1970-1979</td></tr>\n",
              "</tbody>\n",
              "</table>\n",
              "</dd>\n",
              "\t<dt>$`1960-1969`</dt>\n",
              "\t\t<dd><table class=\"dataframe\">\n",
              "<caption>A data.frame: 3 × 26</caption>\n",
              "<thead>\n",
              "\t<tr><th></th><th scope=col>title</th><th scope=col>year</th><th scope=col>length</th><th scope=col>budget</th><th scope=col>rating</th><th scope=col>votes</th><th scope=col>r1</th><th scope=col>r2</th><th scope=col>r3</th><th scope=col>r4</th><th scope=col>⋯</th><th scope=col>mpaa</th><th scope=col>Action</th><th scope=col>Animation</th><th scope=col>Comedy</th><th scope=col>Drama</th><th scope=col>Documentary</th><th scope=col>Romance</th><th scope=col>Short</th><th scope=col>GenreCount</th><th scope=col>decade</th></tr>\n",
              "\t<tr><th></th><th scope=col>&lt;chr&gt;</th><th scope=col>&lt;int&gt;</th><th scope=col>&lt;int&gt;</th><th scope=col>&lt;int&gt;</th><th scope=col>&lt;dbl&gt;</th><th scope=col>&lt;int&gt;</th><th scope=col>&lt;dbl&gt;</th><th scope=col>&lt;dbl&gt;</th><th scope=col>&lt;dbl&gt;</th><th scope=col>&lt;dbl&gt;</th><th scope=col>⋯</th><th scope=col>&lt;chr&gt;</th><th scope=col>&lt;int&gt;</th><th scope=col>&lt;int&gt;</th><th scope=col>&lt;int&gt;</th><th scope=col>&lt;int&gt;</th><th scope=col>&lt;int&gt;</th><th scope=col>&lt;int&gt;</th><th scope=col>&lt;int&gt;</th><th scope=col>&lt;dbl&gt;</th><th scope=col>&lt;chr&gt;</th></tr>\n",
              "</thead>\n",
              "<tbody>\n",
              "\t<tr><th scope=row>13598</th><td>Devchata             </td><td>1961</td><td> 98</td><td>NA</td><td>9.2</td><td> 50</td><td>0.0</td><td>0</td><td>0.0</td><td>0.0</td><td>⋯</td><td></td><td>0</td><td>0</td><td>1</td><td>0</td><td>0</td><td>1</td><td>0</td><td>2</td><td>1960-1969</td></tr>\n",
              "\t<tr><th scope=row>5139</th><td>Beregis avtomobilya  </td><td>1966</td><td> 94</td><td>NA</td><td>9.0</td><td>241</td><td>4.5</td><td>0</td><td>4.5</td><td>4.5</td><td>⋯</td><td></td><td>0</td><td>0</td><td>1</td><td>0</td><td>0</td><td>1</td><td>0</td><td>2</td><td>1960-1969</td></tr>\n",
              "\t<tr><th scope=row>44445</th><td>Sahib Bibi Aur Ghulam</td><td>1962</td><td>152</td><td>NA</td><td>9.0</td><td> 76</td><td>4.5</td><td>0</td><td>4.5</td><td>4.5</td><td>⋯</td><td></td><td>0</td><td>0</td><td>1</td><td>1</td><td>0</td><td>1</td><td>0</td><td>3</td><td>1960-1969</td></tr>\n",
              "</tbody>\n",
              "</table>\n",
              "</dd>\n",
              "\t<dt>$`1940-1949`</dt>\n",
              "\t\t<dd><table class=\"dataframe\">\n",
              "<caption>A data.frame: 3 × 26</caption>\n",
              "<thead>\n",
              "\t<tr><th></th><th scope=col>title</th><th scope=col>year</th><th scope=col>length</th><th scope=col>budget</th><th scope=col>rating</th><th scope=col>votes</th><th scope=col>r1</th><th scope=col>r2</th><th scope=col>r3</th><th scope=col>r4</th><th scope=col>⋯</th><th scope=col>mpaa</th><th scope=col>Action</th><th scope=col>Animation</th><th scope=col>Comedy</th><th scope=col>Drama</th><th scope=col>Documentary</th><th scope=col>Romance</th><th scope=col>Short</th><th scope=col>GenreCount</th><th scope=col>decade</th></tr>\n",
              "\t<tr><th></th><th scope=col>&lt;chr&gt;</th><th scope=col>&lt;int&gt;</th><th scope=col>&lt;int&gt;</th><th scope=col>&lt;int&gt;</th><th scope=col>&lt;dbl&gt;</th><th scope=col>&lt;int&gt;</th><th scope=col>&lt;dbl&gt;</th><th scope=col>&lt;dbl&gt;</th><th scope=col>&lt;dbl&gt;</th><th scope=col>&lt;dbl&gt;</th><th scope=col>⋯</th><th scope=col>&lt;chr&gt;</th><th scope=col>&lt;int&gt;</th><th scope=col>&lt;int&gt;</th><th scope=col>&lt;int&gt;</th><th scope=col>&lt;int&gt;</th><th scope=col>&lt;int&gt;</th><th scope=col>&lt;int&gt;</th><th scope=col>&lt;int&gt;</th><th scope=col>&lt;dbl&gt;</th><th scope=col>&lt;chr&gt;</th></tr>\n",
              "</thead>\n",
              "<tbody>\n",
              "\t<tr><th scope=row>15948</th><td>Enamorada      </td><td>1946</td><td>99</td><td>NA</td><td>8.4</td><td>  49</td><td>0.0</td><td>0.0</td><td>0.0</td><td>0.0</td><td>⋯</td><td></td><td>0</td><td>0</td><td>1</td><td>1</td><td>0</td><td>1</td><td>0</td><td>3</td><td>1940-1949</td></tr>\n",
              "\t<tr><th scope=row>17753</th><td>Film ohne Titel</td><td>1948</td><td>99</td><td>NA</td><td>8.2</td><td>  38</td><td>0.0</td><td>0.0</td><td>0.0</td><td>0.0</td><td>⋯</td><td></td><td>0</td><td>0</td><td>1</td><td>0</td><td>0</td><td>1</td><td>0</td><td>2</td><td>1940-1949</td></tr>\n",
              "\t<tr><th scope=row>23171</th><td>His Girl Friday</td><td>1940</td><td>92</td><td>NA</td><td>8.2</td><td>6667</td><td>4.5</td><td>4.5</td><td>4.5</td><td>4.5</td><td>⋯</td><td></td><td>0</td><td>0</td><td>1</td><td>1</td><td>0</td><td>1</td><td>0</td><td>3</td><td>1940-1949</td></tr>\n",
              "</tbody>\n",
              "</table>\n",
              "</dd>\n",
              "\t<dt>$`1950-1959`</dt>\n",
              "\t\t<dd><table class=\"dataframe\">\n",
              "<caption>A data.frame: 3 × 26</caption>\n",
              "<thead>\n",
              "\t<tr><th></th><th scope=col>title</th><th scope=col>year</th><th scope=col>length</th><th scope=col>budget</th><th scope=col>rating</th><th scope=col>votes</th><th scope=col>r1</th><th scope=col>r2</th><th scope=col>r3</th><th scope=col>r4</th><th scope=col>⋯</th><th scope=col>mpaa</th><th scope=col>Action</th><th scope=col>Animation</th><th scope=col>Comedy</th><th scope=col>Drama</th><th scope=col>Documentary</th><th scope=col>Romance</th><th scope=col>Short</th><th scope=col>GenreCount</th><th scope=col>decade</th></tr>\n",
              "\t<tr><th></th><th scope=col>&lt;chr&gt;</th><th scope=col>&lt;int&gt;</th><th scope=col>&lt;int&gt;</th><th scope=col>&lt;int&gt;</th><th scope=col>&lt;dbl&gt;</th><th scope=col>&lt;int&gt;</th><th scope=col>&lt;dbl&gt;</th><th scope=col>&lt;dbl&gt;</th><th scope=col>&lt;dbl&gt;</th><th scope=col>&lt;dbl&gt;</th><th scope=col>⋯</th><th scope=col>&lt;chr&gt;</th><th scope=col>&lt;int&gt;</th><th scope=col>&lt;int&gt;</th><th scope=col>&lt;int&gt;</th><th scope=col>&lt;int&gt;</th><th scope=col>&lt;int&gt;</th><th scope=col>&lt;int&gt;</th><th scope=col>&lt;int&gt;</th><th scope=col>&lt;dbl&gt;</th><th scope=col>&lt;chr&gt;</th></tr>\n",
              "</thead>\n",
              "<tbody>\n",
              "\t<tr><th scope=row>14645</th><td>Dos tipos de cuidado</td><td>1953</td><td>123</td><td>     NA</td><td>8.5</td><td>   52</td><td>4.5</td><td>4.5</td><td>0.0</td><td>0.0</td><td>⋯</td><td></td><td>0</td><td>0</td><td>1</td><td>0</td><td>0</td><td>1</td><td>0</td><td>2</td><td>1950-1959</td></tr>\n",
              "\t<tr><th scope=row>47033</th><td>Singin' in the Rain </td><td>1952</td><td>103</td><td>2540800</td><td>8.5</td><td>20585</td><td>4.5</td><td>4.5</td><td>4.5</td><td>4.5</td><td>⋯</td><td></td><td>0</td><td>0</td><td>1</td><td>0</td><td>0</td><td>1</td><td>0</td><td>2</td><td>1950-1959</td></tr>\n",
              "\t<tr><th scope=row>47952</th><td>Some Like It Hot    </td><td>1959</td><td>120</td><td>2883848</td><td>8.4</td><td>25369</td><td>4.5</td><td>4.5</td><td>4.5</td><td>4.5</td><td>⋯</td><td></td><td>0</td><td>0</td><td>1</td><td>0</td><td>0</td><td>1</td><td>0</td><td>2</td><td>1950-1959</td></tr>\n",
              "</tbody>\n",
              "</table>\n",
              "</dd>\n",
              "\t<dt>$`1930-1939`</dt>\n",
              "\t\t<dd><table class=\"dataframe\">\n",
              "<caption>A data.frame: 3 × 26</caption>\n",
              "<thead>\n",
              "\t<tr><th></th><th scope=col>title</th><th scope=col>year</th><th scope=col>length</th><th scope=col>budget</th><th scope=col>rating</th><th scope=col>votes</th><th scope=col>r1</th><th scope=col>r2</th><th scope=col>r3</th><th scope=col>r4</th><th scope=col>⋯</th><th scope=col>mpaa</th><th scope=col>Action</th><th scope=col>Animation</th><th scope=col>Comedy</th><th scope=col>Drama</th><th scope=col>Documentary</th><th scope=col>Romance</th><th scope=col>Short</th><th scope=col>GenreCount</th><th scope=col>decade</th></tr>\n",
              "\t<tr><th></th><th scope=col>&lt;chr&gt;</th><th scope=col>&lt;int&gt;</th><th scope=col>&lt;int&gt;</th><th scope=col>&lt;int&gt;</th><th scope=col>&lt;dbl&gt;</th><th scope=col>&lt;int&gt;</th><th scope=col>&lt;dbl&gt;</th><th scope=col>&lt;dbl&gt;</th><th scope=col>&lt;dbl&gt;</th><th scope=col>&lt;dbl&gt;</th><th scope=col>⋯</th><th scope=col>&lt;chr&gt;</th><th scope=col>&lt;int&gt;</th><th scope=col>&lt;int&gt;</th><th scope=col>&lt;int&gt;</th><th scope=col>&lt;int&gt;</th><th scope=col>&lt;int&gt;</th><th scope=col>&lt;int&gt;</th><th scope=col>&lt;int&gt;</th><th scope=col>&lt;dbl&gt;</th><th scope=col>&lt;chr&gt;</th></tr>\n",
              "</thead>\n",
              "<tbody>\n",
              "\t<tr><th scope=row>10228</th><td>City Lights          </td><td>1931</td><td> 87</td><td>1500000</td><td>8.5</td><td>7802</td><td>4.5</td><td>4.5</td><td>4.5</td><td>4.5</td><td>⋯</td><td></td><td>0</td><td>0</td><td>1</td><td>1</td><td>0</td><td>1</td><td>0</td><td>3</td><td>1930-1939</td></tr>\n",
              "\t<tr><th scope=row>25871</th><td>It Happened One Night</td><td>1934</td><td>105</td><td> 325000</td><td>8.3</td><td>7924</td><td>4.5</td><td>4.5</td><td>4.5</td><td>4.5</td><td>⋯</td><td></td><td>0</td><td>0</td><td>1</td><td>0</td><td>0</td><td>1</td><td>0</td><td>2</td><td>1930-1939</td></tr>\n",
              "\t<tr><th scope=row>7493</th><td>Bringing Up Baby     </td><td>1938</td><td>102</td><td>     NA</td><td>8.2</td><td>9250</td><td>4.5</td><td>4.5</td><td>4.5</td><td>4.5</td><td>⋯</td><td></td><td>0</td><td>0</td><td>1</td><td>0</td><td>0</td><td>1</td><td>0</td><td>2</td><td>1930-1939</td></tr>\n",
              "</tbody>\n",
              "</table>\n",
              "</dd>\n",
              "\t<dt>$`1920-1929`</dt>\n",
              "\t\t<dd><table class=\"dataframe\">\n",
              "<caption>A data.frame: 3 × 26</caption>\n",
              "<thead>\n",
              "\t<tr><th></th><th scope=col>title</th><th scope=col>year</th><th scope=col>length</th><th scope=col>budget</th><th scope=col>rating</th><th scope=col>votes</th><th scope=col>r1</th><th scope=col>r2</th><th scope=col>r3</th><th scope=col>r4</th><th scope=col>⋯</th><th scope=col>mpaa</th><th scope=col>Action</th><th scope=col>Animation</th><th scope=col>Comedy</th><th scope=col>Drama</th><th scope=col>Documentary</th><th scope=col>Romance</th><th scope=col>Short</th><th scope=col>GenreCount</th><th scope=col>decade</th></tr>\n",
              "\t<tr><th></th><th scope=col>&lt;chr&gt;</th><th scope=col>&lt;int&gt;</th><th scope=col>&lt;int&gt;</th><th scope=col>&lt;int&gt;</th><th scope=col>&lt;dbl&gt;</th><th scope=col>&lt;int&gt;</th><th scope=col>&lt;dbl&gt;</th><th scope=col>&lt;dbl&gt;</th><th scope=col>&lt;dbl&gt;</th><th scope=col>&lt;dbl&gt;</th><th scope=col>⋯</th><th scope=col>&lt;chr&gt;</th><th scope=col>&lt;int&gt;</th><th scope=col>&lt;int&gt;</th><th scope=col>&lt;int&gt;</th><th scope=col>&lt;int&gt;</th><th scope=col>&lt;int&gt;</th><th scope=col>&lt;int&gt;</th><th scope=col>&lt;int&gt;</th><th scope=col>&lt;dbl&gt;</th><th scope=col>&lt;chr&gt;</th></tr>\n",
              "</thead>\n",
              "<tbody>\n",
              "\t<tr><th scope=row>19809</th><td>General, The    </td><td>1927</td><td>83</td><td>NA</td><td>8.4</td><td>6644</td><td>4.5</td><td>4.5</td><td>4.5</td><td>4.5</td><td>⋯</td><td></td><td>1</td><td>0</td><td>1</td><td>0</td><td>0</td><td>1</td><td>0</td><td>3</td><td>1920-1929</td></tr>\n",
              "\t<tr><th scope=row>27646</th><td>Kid Brother, The</td><td>1927</td><td>84</td><td>NA</td><td>8.3</td><td> 285</td><td>4.5</td><td>4.5</td><td>4.5</td><td>4.5</td><td>⋯</td><td></td><td>0</td><td>0</td><td>1</td><td>0</td><td>0</td><td>1</td><td>0</td><td>2</td><td>1920-1929</td></tr>\n",
              "\t<tr><th scope=row>44422</th><td>Safety Last!    </td><td>1923</td><td>70</td><td>NA</td><td>8.2</td><td> 757</td><td>4.5</td><td>4.5</td><td>4.5</td><td>4.5</td><td>⋯</td><td></td><td>1</td><td>0</td><td>1</td><td>0</td><td>0</td><td>1</td><td>0</td><td>3</td><td>1920-1929</td></tr>\n",
              "</tbody>\n",
              "</table>\n",
              "</dd>\n",
              "</dl>\n"
            ],
            "text/markdown": "$`1990-1999`\n:   \nA data.frame: 3 × 26\n\n| <!--/--> | title &lt;chr&gt; | year &lt;int&gt; | length &lt;int&gt; | budget &lt;int&gt; | rating &lt;dbl&gt; | votes &lt;int&gt; | r1 &lt;dbl&gt; | r2 &lt;dbl&gt; | r3 &lt;dbl&gt; | r4 &lt;dbl&gt; | ⋯ ⋯ | mpaa &lt;chr&gt; | Action &lt;int&gt; | Animation &lt;int&gt; | Comedy &lt;int&gt; | Drama &lt;int&gt; | Documentary &lt;int&gt; | Romance &lt;int&gt; | Short &lt;int&gt; | GenreCount &lt;dbl&gt; | decade &lt;chr&gt; |\n|---|---|---|---|---|---|---|---|---|---|---|---|---|---|---|---|---|---|---|---|---|---|\n| 13305 | Denei shoujo Ai | 1992 | 180 | NA | 8.7 | 157 | 4.5 | 4.5 | 4.5 | 0.0 | ⋯ | <!----> | 0 | 1 | 1 | 0 | 0 | 1 | 0 | 3 | 1990-1999 |\n| 8102 | C4              | 1996 |   4 | NA | 8.4 |  48 | 4.5 | 0.0 | 0.0 | 0.0 | ⋯ | <!----> | 0 | 0 | 1 | 0 | 0 | 1 | 1 | 3 | 1990-1999 |\n| 2277 | Amor &amp; Alquimia | 1995 |  22 | NA | 8.1 |  36 | 0.0 | 0.0 | 0.0 | 4.5 | ⋯ | <!----> | 0 | 0 | 1 | 0 | 0 | 1 | 1 | 3 | 1990-1999 |\n\n\n$`1980-1989`\n:   \nA data.frame: 3 × 26\n\n| <!--/--> | title &lt;chr&gt; | year &lt;int&gt; | length &lt;int&gt; | budget &lt;int&gt; | rating &lt;dbl&gt; | votes &lt;int&gt; | r1 &lt;dbl&gt; | r2 &lt;dbl&gt; | r3 &lt;dbl&gt; | r4 &lt;dbl&gt; | ⋯ ⋯ | mpaa &lt;chr&gt; | Action &lt;int&gt; | Animation &lt;int&gt; | Comedy &lt;int&gt; | Drama &lt;int&gt; | Documentary &lt;int&gt; | Romance &lt;int&gt; | Short &lt;int&gt; | GenreCount &lt;dbl&gt; | decade &lt;chr&gt; |\n|---|---|---|---|---|---|---|---|---|---|---|---|---|---|---|---|---|---|---|---|---|---|\n| 9510 | Chashme Buddoor     | 1981 | 145 |       NA | 8.5 |    40 | 0.0 | 0.0 | 0.0 | 0.0 | ⋯ | <!----> | 0 | 0 | 1 | 0 | 0 | 1 | 0 | 2 | 1980-1989 |\n| 28551 | Kuryer              | 1987 |  90 |       NA | 8.2 |    88 | 0.0 | 0.0 | 0.0 | 4.5 | ⋯ | <!----> | 0 | 0 | 1 | 1 | 0 | 1 | 0 | 3 | 1980-1989 |\n| 41270 | Princess Bride, The | 1987 |  98 | 16000000 | 8.2 | 53946 | 4.5 | 4.5 | 4.5 | 4.5 | ⋯ | <!----> | 0 | 0 | 1 | 0 | 0 | 1 | 0 | 2 | 1980-1989 |\n\n\n$`2000-2009`\n:   \nA data.frame: 3 × 26\n\n| <!--/--> | title &lt;chr&gt; | year &lt;int&gt; | length &lt;int&gt; | budget &lt;int&gt; | rating &lt;dbl&gt; | votes &lt;int&gt; | r1 &lt;dbl&gt; | r2 &lt;dbl&gt; | r3 &lt;dbl&gt; | r4 &lt;dbl&gt; | ⋯ ⋯ | mpaa &lt;chr&gt; | Action &lt;int&gt; | Animation &lt;int&gt; | Comedy &lt;int&gt; | Drama &lt;int&gt; | Documentary &lt;int&gt; | Romance &lt;int&gt; | Short &lt;int&gt; | GenreCount &lt;dbl&gt; | decade &lt;chr&gt; |\n|---|---|---|---|---|---|---|---|---|---|---|---|---|---|---|---|---|---|---|---|---|---|\n| 36420 | Night of the Dog                      | 2005 |  86 |     5000 | 9.5 |    33 | 4.5 | 0.0 | 4.5 | 0.0 | ⋯ | <!----> | 0 | 0 | 1 | 0 | 0 | 1 | 0 | 2 | 2000-2009 |\n| 8890 | Casamento de Louise, O                | 2001 |  80 |       NA | 8.8 |    40 | 4.5 | 0.0 | 4.5 | 4.5 | ⋯ | <!----> | 0 | 0 | 1 | 0 | 0 | 1 | 0 | 2 | 2000-2009 |\n| 16423 | Eternal Sunshine of the Spotless Mind | 2004 | 108 | 20000000 | 8.6 | 46240 | 4.5 | 4.5 | 4.5 | 4.5 | ⋯ | R | 0 | 0 | 1 | 1 | 0 | 1 | 0 | 3 | 2000-2009 |\n\n\n$`1970-1979`\n:   \nA data.frame: 3 × 26\n\n| <!--/--> | title &lt;chr&gt; | year &lt;int&gt; | length &lt;int&gt; | budget &lt;int&gt; | rating &lt;dbl&gt; | votes &lt;int&gt; | r1 &lt;dbl&gt; | r2 &lt;dbl&gt; | r3 &lt;dbl&gt; | r4 &lt;dbl&gt; | ⋯ ⋯ | mpaa &lt;chr&gt; | Action &lt;int&gt; | Animation &lt;int&gt; | Comedy &lt;int&gt; | Drama &lt;int&gt; | Documentary &lt;int&gt; | Romance &lt;int&gt; | Short &lt;int&gt; | GenreCount &lt;dbl&gt; | decade &lt;chr&gt; |\n|---|---|---|---|---|---|---|---|---|---|---|---|---|---|---|---|---|---|---|---|---|---|\n| 47498 | Sluzhebnyy roman | 1977 | 159 |      NA | 9.1 |   320 | 4.5 | 4.5 | 4.5 | 4.5 | ⋯ | <!----> | 0 | 0 | 1 | 0 | 0 | 1 | 0 | 2 | 1970-1979 |\n| 2728 | Annie Hall       | 1977 |  93 | 4000000 | 8.3 | 21462 | 4.5 | 4.5 | 4.5 | 4.5 | ⋯ | <!----> | 0 | 0 | 1 | 0 | 0 | 1 | 0 | 2 | 1970-1979 |\n| 46570 | Shor             | 1972 | 170 |      NA | 8.3 |    35 | 0.0 | 0.0 | 0.0 | 0.0 | ⋯ | <!----> | 0 | 0 | 1 | 1 | 0 | 1 | 0 | 3 | 1970-1979 |\n\n\n$`1960-1969`\n:   \nA data.frame: 3 × 26\n\n| <!--/--> | title &lt;chr&gt; | year &lt;int&gt; | length &lt;int&gt; | budget &lt;int&gt; | rating &lt;dbl&gt; | votes &lt;int&gt; | r1 &lt;dbl&gt; | r2 &lt;dbl&gt; | r3 &lt;dbl&gt; | r4 &lt;dbl&gt; | ⋯ ⋯ | mpaa &lt;chr&gt; | Action &lt;int&gt; | Animation &lt;int&gt; | Comedy &lt;int&gt; | Drama &lt;int&gt; | Documentary &lt;int&gt; | Romance &lt;int&gt; | Short &lt;int&gt; | GenreCount &lt;dbl&gt; | decade &lt;chr&gt; |\n|---|---|---|---|---|---|---|---|---|---|---|---|---|---|---|---|---|---|---|---|---|---|\n| 13598 | Devchata              | 1961 |  98 | NA | 9.2 |  50 | 0.0 | 0 | 0.0 | 0.0 | ⋯ | <!----> | 0 | 0 | 1 | 0 | 0 | 1 | 0 | 2 | 1960-1969 |\n| 5139 | Beregis avtomobilya   | 1966 |  94 | NA | 9.0 | 241 | 4.5 | 0 | 4.5 | 4.5 | ⋯ | <!----> | 0 | 0 | 1 | 0 | 0 | 1 | 0 | 2 | 1960-1969 |\n| 44445 | Sahib Bibi Aur Ghulam | 1962 | 152 | NA | 9.0 |  76 | 4.5 | 0 | 4.5 | 4.5 | ⋯ | <!----> | 0 | 0 | 1 | 1 | 0 | 1 | 0 | 3 | 1960-1969 |\n\n\n$`1940-1949`\n:   \nA data.frame: 3 × 26\n\n| <!--/--> | title &lt;chr&gt; | year &lt;int&gt; | length &lt;int&gt; | budget &lt;int&gt; | rating &lt;dbl&gt; | votes &lt;int&gt; | r1 &lt;dbl&gt; | r2 &lt;dbl&gt; | r3 &lt;dbl&gt; | r4 &lt;dbl&gt; | ⋯ ⋯ | mpaa &lt;chr&gt; | Action &lt;int&gt; | Animation &lt;int&gt; | Comedy &lt;int&gt; | Drama &lt;int&gt; | Documentary &lt;int&gt; | Romance &lt;int&gt; | Short &lt;int&gt; | GenreCount &lt;dbl&gt; | decade &lt;chr&gt; |\n|---|---|---|---|---|---|---|---|---|---|---|---|---|---|---|---|---|---|---|---|---|---|\n| 15948 | Enamorada       | 1946 | 99 | NA | 8.4 |   49 | 0.0 | 0.0 | 0.0 | 0.0 | ⋯ | <!----> | 0 | 0 | 1 | 1 | 0 | 1 | 0 | 3 | 1940-1949 |\n| 17753 | Film ohne Titel | 1948 | 99 | NA | 8.2 |   38 | 0.0 | 0.0 | 0.0 | 0.0 | ⋯ | <!----> | 0 | 0 | 1 | 0 | 0 | 1 | 0 | 2 | 1940-1949 |\n| 23171 | His Girl Friday | 1940 | 92 | NA | 8.2 | 6667 | 4.5 | 4.5 | 4.5 | 4.5 | ⋯ | <!----> | 0 | 0 | 1 | 1 | 0 | 1 | 0 | 3 | 1940-1949 |\n\n\n$`1950-1959`\n:   \nA data.frame: 3 × 26\n\n| <!--/--> | title &lt;chr&gt; | year &lt;int&gt; | length &lt;int&gt; | budget &lt;int&gt; | rating &lt;dbl&gt; | votes &lt;int&gt; | r1 &lt;dbl&gt; | r2 &lt;dbl&gt; | r3 &lt;dbl&gt; | r4 &lt;dbl&gt; | ⋯ ⋯ | mpaa &lt;chr&gt; | Action &lt;int&gt; | Animation &lt;int&gt; | Comedy &lt;int&gt; | Drama &lt;int&gt; | Documentary &lt;int&gt; | Romance &lt;int&gt; | Short &lt;int&gt; | GenreCount &lt;dbl&gt; | decade &lt;chr&gt; |\n|---|---|---|---|---|---|---|---|---|---|---|---|---|---|---|---|---|---|---|---|---|---|\n| 14645 | Dos tipos de cuidado | 1953 | 123 |      NA | 8.5 |    52 | 4.5 | 4.5 | 0.0 | 0.0 | ⋯ | <!----> | 0 | 0 | 1 | 0 | 0 | 1 | 0 | 2 | 1950-1959 |\n| 47033 | Singin' in the Rain  | 1952 | 103 | 2540800 | 8.5 | 20585 | 4.5 | 4.5 | 4.5 | 4.5 | ⋯ | <!----> | 0 | 0 | 1 | 0 | 0 | 1 | 0 | 2 | 1950-1959 |\n| 47952 | Some Like It Hot     | 1959 | 120 | 2883848 | 8.4 | 25369 | 4.5 | 4.5 | 4.5 | 4.5 | ⋯ | <!----> | 0 | 0 | 1 | 0 | 0 | 1 | 0 | 2 | 1950-1959 |\n\n\n$`1930-1939`\n:   \nA data.frame: 3 × 26\n\n| <!--/--> | title &lt;chr&gt; | year &lt;int&gt; | length &lt;int&gt; | budget &lt;int&gt; | rating &lt;dbl&gt; | votes &lt;int&gt; | r1 &lt;dbl&gt; | r2 &lt;dbl&gt; | r3 &lt;dbl&gt; | r4 &lt;dbl&gt; | ⋯ ⋯ | mpaa &lt;chr&gt; | Action &lt;int&gt; | Animation &lt;int&gt; | Comedy &lt;int&gt; | Drama &lt;int&gt; | Documentary &lt;int&gt; | Romance &lt;int&gt; | Short &lt;int&gt; | GenreCount &lt;dbl&gt; | decade &lt;chr&gt; |\n|---|---|---|---|---|---|---|---|---|---|---|---|---|---|---|---|---|---|---|---|---|---|\n| 10228 | City Lights           | 1931 |  87 | 1500000 | 8.5 | 7802 | 4.5 | 4.5 | 4.5 | 4.5 | ⋯ | <!----> | 0 | 0 | 1 | 1 | 0 | 1 | 0 | 3 | 1930-1939 |\n| 25871 | It Happened One Night | 1934 | 105 |  325000 | 8.3 | 7924 | 4.5 | 4.5 | 4.5 | 4.5 | ⋯ | <!----> | 0 | 0 | 1 | 0 | 0 | 1 | 0 | 2 | 1930-1939 |\n| 7493 | Bringing Up Baby      | 1938 | 102 |      NA | 8.2 | 9250 | 4.5 | 4.5 | 4.5 | 4.5 | ⋯ | <!----> | 0 | 0 | 1 | 0 | 0 | 1 | 0 | 2 | 1930-1939 |\n\n\n$`1920-1929`\n:   \nA data.frame: 3 × 26\n\n| <!--/--> | title &lt;chr&gt; | year &lt;int&gt; | length &lt;int&gt; | budget &lt;int&gt; | rating &lt;dbl&gt; | votes &lt;int&gt; | r1 &lt;dbl&gt; | r2 &lt;dbl&gt; | r3 &lt;dbl&gt; | r4 &lt;dbl&gt; | ⋯ ⋯ | mpaa &lt;chr&gt; | Action &lt;int&gt; | Animation &lt;int&gt; | Comedy &lt;int&gt; | Drama &lt;int&gt; | Documentary &lt;int&gt; | Romance &lt;int&gt; | Short &lt;int&gt; | GenreCount &lt;dbl&gt; | decade &lt;chr&gt; |\n|---|---|---|---|---|---|---|---|---|---|---|---|---|---|---|---|---|---|---|---|---|---|\n| 19809 | General, The     | 1927 | 83 | NA | 8.4 | 6644 | 4.5 | 4.5 | 4.5 | 4.5 | ⋯ | <!----> | 1 | 0 | 1 | 0 | 0 | 1 | 0 | 3 | 1920-1929 |\n| 27646 | Kid Brother, The | 1927 | 84 | NA | 8.3 |  285 | 4.5 | 4.5 | 4.5 | 4.5 | ⋯ | <!----> | 0 | 0 | 1 | 0 | 0 | 1 | 0 | 2 | 1920-1929 |\n| 44422 | Safety Last!     | 1923 | 70 | NA | 8.2 |  757 | 4.5 | 4.5 | 4.5 | 4.5 | ⋯ | <!----> | 1 | 0 | 1 | 0 | 0 | 1 | 0 | 3 | 1920-1929 |\n\n\n\n\n",
            "text/latex": "\\begin{description}\n\\item[\\$`1990-1999`] A data.frame: 3 × 26\n\\begin{tabular}{r|lllllllllllllllllllll}\n  & title & year & length & budget & rating & votes & r1 & r2 & r3 & r4 & ⋯ & mpaa & Action & Animation & Comedy & Drama & Documentary & Romance & Short & GenreCount & decade\\\\\n  & <chr> & <int> & <int> & <int> & <dbl> & <int> & <dbl> & <dbl> & <dbl> & <dbl> & ⋯ & <chr> & <int> & <int> & <int> & <int> & <int> & <int> & <int> & <dbl> & <chr>\\\\\n\\hline\n\t13305 & Denei shoujo Ai & 1992 & 180 & NA & 8.7 & 157 & 4.5 & 4.5 & 4.5 & 0.0 & ⋯ &  & 0 & 1 & 1 & 0 & 0 & 1 & 0 & 3 & 1990-1999\\\\\n\t8102 & C4              & 1996 &   4 & NA & 8.4 &  48 & 4.5 & 0.0 & 0.0 & 0.0 & ⋯ &  & 0 & 0 & 1 & 0 & 0 & 1 & 1 & 3 & 1990-1999\\\\\n\t2277 & Amor \\& Alquimia & 1995 &  22 & NA & 8.1 &  36 & 0.0 & 0.0 & 0.0 & 4.5 & ⋯ &  & 0 & 0 & 1 & 0 & 0 & 1 & 1 & 3 & 1990-1999\\\\\n\\end{tabular}\n\n\\item[\\$`1980-1989`] A data.frame: 3 × 26\n\\begin{tabular}{r|lllllllllllllllllllll}\n  & title & year & length & budget & rating & votes & r1 & r2 & r3 & r4 & ⋯ & mpaa & Action & Animation & Comedy & Drama & Documentary & Romance & Short & GenreCount & decade\\\\\n  & <chr> & <int> & <int> & <int> & <dbl> & <int> & <dbl> & <dbl> & <dbl> & <dbl> & ⋯ & <chr> & <int> & <int> & <int> & <int> & <int> & <int> & <int> & <dbl> & <chr>\\\\\n\\hline\n\t9510 & Chashme Buddoor     & 1981 & 145 &       NA & 8.5 &    40 & 0.0 & 0.0 & 0.0 & 0.0 & ⋯ &  & 0 & 0 & 1 & 0 & 0 & 1 & 0 & 2 & 1980-1989\\\\\n\t28551 & Kuryer              & 1987 &  90 &       NA & 8.2 &    88 & 0.0 & 0.0 & 0.0 & 4.5 & ⋯ &  & 0 & 0 & 1 & 1 & 0 & 1 & 0 & 3 & 1980-1989\\\\\n\t41270 & Princess Bride, The & 1987 &  98 & 16000000 & 8.2 & 53946 & 4.5 & 4.5 & 4.5 & 4.5 & ⋯ &  & 0 & 0 & 1 & 0 & 0 & 1 & 0 & 2 & 1980-1989\\\\\n\\end{tabular}\n\n\\item[\\$`2000-2009`] A data.frame: 3 × 26\n\\begin{tabular}{r|lllllllllllllllllllll}\n  & title & year & length & budget & rating & votes & r1 & r2 & r3 & r4 & ⋯ & mpaa & Action & Animation & Comedy & Drama & Documentary & Romance & Short & GenreCount & decade\\\\\n  & <chr> & <int> & <int> & <int> & <dbl> & <int> & <dbl> & <dbl> & <dbl> & <dbl> & ⋯ & <chr> & <int> & <int> & <int> & <int> & <int> & <int> & <int> & <dbl> & <chr>\\\\\n\\hline\n\t36420 & Night of the Dog                      & 2005 &  86 &     5000 & 9.5 &    33 & 4.5 & 0.0 & 4.5 & 0.0 & ⋯ &   & 0 & 0 & 1 & 0 & 0 & 1 & 0 & 2 & 2000-2009\\\\\n\t8890 & Casamento de Louise, O                & 2001 &  80 &       NA & 8.8 &    40 & 4.5 & 0.0 & 4.5 & 4.5 & ⋯ &   & 0 & 0 & 1 & 0 & 0 & 1 & 0 & 2 & 2000-2009\\\\\n\t16423 & Eternal Sunshine of the Spotless Mind & 2004 & 108 & 20000000 & 8.6 & 46240 & 4.5 & 4.5 & 4.5 & 4.5 & ⋯ & R & 0 & 0 & 1 & 1 & 0 & 1 & 0 & 3 & 2000-2009\\\\\n\\end{tabular}\n\n\\item[\\$`1970-1979`] A data.frame: 3 × 26\n\\begin{tabular}{r|lllllllllllllllllllll}\n  & title & year & length & budget & rating & votes & r1 & r2 & r3 & r4 & ⋯ & mpaa & Action & Animation & Comedy & Drama & Documentary & Romance & Short & GenreCount & decade\\\\\n  & <chr> & <int> & <int> & <int> & <dbl> & <int> & <dbl> & <dbl> & <dbl> & <dbl> & ⋯ & <chr> & <int> & <int> & <int> & <int> & <int> & <int> & <int> & <dbl> & <chr>\\\\\n\\hline\n\t47498 & Sluzhebnyy roman & 1977 & 159 &      NA & 9.1 &   320 & 4.5 & 4.5 & 4.5 & 4.5 & ⋯ &  & 0 & 0 & 1 & 0 & 0 & 1 & 0 & 2 & 1970-1979\\\\\n\t2728 & Annie Hall       & 1977 &  93 & 4000000 & 8.3 & 21462 & 4.5 & 4.5 & 4.5 & 4.5 & ⋯ &  & 0 & 0 & 1 & 0 & 0 & 1 & 0 & 2 & 1970-1979\\\\\n\t46570 & Shor             & 1972 & 170 &      NA & 8.3 &    35 & 0.0 & 0.0 & 0.0 & 0.0 & ⋯ &  & 0 & 0 & 1 & 1 & 0 & 1 & 0 & 3 & 1970-1979\\\\\n\\end{tabular}\n\n\\item[\\$`1960-1969`] A data.frame: 3 × 26\n\\begin{tabular}{r|lllllllllllllllllllll}\n  & title & year & length & budget & rating & votes & r1 & r2 & r3 & r4 & ⋯ & mpaa & Action & Animation & Comedy & Drama & Documentary & Romance & Short & GenreCount & decade\\\\\n  & <chr> & <int> & <int> & <int> & <dbl> & <int> & <dbl> & <dbl> & <dbl> & <dbl> & ⋯ & <chr> & <int> & <int> & <int> & <int> & <int> & <int> & <int> & <dbl> & <chr>\\\\\n\\hline\n\t13598 & Devchata              & 1961 &  98 & NA & 9.2 &  50 & 0.0 & 0 & 0.0 & 0.0 & ⋯ &  & 0 & 0 & 1 & 0 & 0 & 1 & 0 & 2 & 1960-1969\\\\\n\t5139 & Beregis avtomobilya   & 1966 &  94 & NA & 9.0 & 241 & 4.5 & 0 & 4.5 & 4.5 & ⋯ &  & 0 & 0 & 1 & 0 & 0 & 1 & 0 & 2 & 1960-1969\\\\\n\t44445 & Sahib Bibi Aur Ghulam & 1962 & 152 & NA & 9.0 &  76 & 4.5 & 0 & 4.5 & 4.5 & ⋯ &  & 0 & 0 & 1 & 1 & 0 & 1 & 0 & 3 & 1960-1969\\\\\n\\end{tabular}\n\n\\item[\\$`1940-1949`] A data.frame: 3 × 26\n\\begin{tabular}{r|lllllllllllllllllllll}\n  & title & year & length & budget & rating & votes & r1 & r2 & r3 & r4 & ⋯ & mpaa & Action & Animation & Comedy & Drama & Documentary & Romance & Short & GenreCount & decade\\\\\n  & <chr> & <int> & <int> & <int> & <dbl> & <int> & <dbl> & <dbl> & <dbl> & <dbl> & ⋯ & <chr> & <int> & <int> & <int> & <int> & <int> & <int> & <int> & <dbl> & <chr>\\\\\n\\hline\n\t15948 & Enamorada       & 1946 & 99 & NA & 8.4 &   49 & 0.0 & 0.0 & 0.0 & 0.0 & ⋯ &  & 0 & 0 & 1 & 1 & 0 & 1 & 0 & 3 & 1940-1949\\\\\n\t17753 & Film ohne Titel & 1948 & 99 & NA & 8.2 &   38 & 0.0 & 0.0 & 0.0 & 0.0 & ⋯ &  & 0 & 0 & 1 & 0 & 0 & 1 & 0 & 2 & 1940-1949\\\\\n\t23171 & His Girl Friday & 1940 & 92 & NA & 8.2 & 6667 & 4.5 & 4.5 & 4.5 & 4.5 & ⋯ &  & 0 & 0 & 1 & 1 & 0 & 1 & 0 & 3 & 1940-1949\\\\\n\\end{tabular}\n\n\\item[\\$`1950-1959`] A data.frame: 3 × 26\n\\begin{tabular}{r|lllllllllllllllllllll}\n  & title & year & length & budget & rating & votes & r1 & r2 & r3 & r4 & ⋯ & mpaa & Action & Animation & Comedy & Drama & Documentary & Romance & Short & GenreCount & decade\\\\\n  & <chr> & <int> & <int> & <int> & <dbl> & <int> & <dbl> & <dbl> & <dbl> & <dbl> & ⋯ & <chr> & <int> & <int> & <int> & <int> & <int> & <int> & <int> & <dbl> & <chr>\\\\\n\\hline\n\t14645 & Dos tipos de cuidado & 1953 & 123 &      NA & 8.5 &    52 & 4.5 & 4.5 & 0.0 & 0.0 & ⋯ &  & 0 & 0 & 1 & 0 & 0 & 1 & 0 & 2 & 1950-1959\\\\\n\t47033 & Singin' in the Rain  & 1952 & 103 & 2540800 & 8.5 & 20585 & 4.5 & 4.5 & 4.5 & 4.5 & ⋯ &  & 0 & 0 & 1 & 0 & 0 & 1 & 0 & 2 & 1950-1959\\\\\n\t47952 & Some Like It Hot     & 1959 & 120 & 2883848 & 8.4 & 25369 & 4.5 & 4.5 & 4.5 & 4.5 & ⋯ &  & 0 & 0 & 1 & 0 & 0 & 1 & 0 & 2 & 1950-1959\\\\\n\\end{tabular}\n\n\\item[\\$`1930-1939`] A data.frame: 3 × 26\n\\begin{tabular}{r|lllllllllllllllllllll}\n  & title & year & length & budget & rating & votes & r1 & r2 & r3 & r4 & ⋯ & mpaa & Action & Animation & Comedy & Drama & Documentary & Romance & Short & GenreCount & decade\\\\\n  & <chr> & <int> & <int> & <int> & <dbl> & <int> & <dbl> & <dbl> & <dbl> & <dbl> & ⋯ & <chr> & <int> & <int> & <int> & <int> & <int> & <int> & <int> & <dbl> & <chr>\\\\\n\\hline\n\t10228 & City Lights           & 1931 &  87 & 1500000 & 8.5 & 7802 & 4.5 & 4.5 & 4.5 & 4.5 & ⋯ &  & 0 & 0 & 1 & 1 & 0 & 1 & 0 & 3 & 1930-1939\\\\\n\t25871 & It Happened One Night & 1934 & 105 &  325000 & 8.3 & 7924 & 4.5 & 4.5 & 4.5 & 4.5 & ⋯ &  & 0 & 0 & 1 & 0 & 0 & 1 & 0 & 2 & 1930-1939\\\\\n\t7493 & Bringing Up Baby      & 1938 & 102 &      NA & 8.2 & 9250 & 4.5 & 4.5 & 4.5 & 4.5 & ⋯ &  & 0 & 0 & 1 & 0 & 0 & 1 & 0 & 2 & 1930-1939\\\\\n\\end{tabular}\n\n\\item[\\$`1920-1929`] A data.frame: 3 × 26\n\\begin{tabular}{r|lllllllllllllllllllll}\n  & title & year & length & budget & rating & votes & r1 & r2 & r3 & r4 & ⋯ & mpaa & Action & Animation & Comedy & Drama & Documentary & Romance & Short & GenreCount & decade\\\\\n  & <chr> & <int> & <int> & <int> & <dbl> & <int> & <dbl> & <dbl> & <dbl> & <dbl> & ⋯ & <chr> & <int> & <int> & <int> & <int> & <int> & <int> & <int> & <dbl> & <chr>\\\\\n\\hline\n\t19809 & General, The     & 1927 & 83 & NA & 8.4 & 6644 & 4.5 & 4.5 & 4.5 & 4.5 & ⋯ &  & 1 & 0 & 1 & 0 & 0 & 1 & 0 & 3 & 1920-1929\\\\\n\t27646 & Kid Brother, The & 1927 & 84 & NA & 8.3 &  285 & 4.5 & 4.5 & 4.5 & 4.5 & ⋯ &  & 0 & 0 & 1 & 0 & 0 & 1 & 0 & 2 & 1920-1929\\\\\n\t44422 & Safety Last!     & 1923 & 70 & NA & 8.2 &  757 & 4.5 & 4.5 & 4.5 & 4.5 & ⋯ &  & 1 & 0 & 1 & 0 & 0 & 1 & 0 & 3 & 1920-1929\\\\\n\\end{tabular}\n\n\\end{description}\n",
            "text/plain": [
              "$`1990-1999`\n",
              "                title year length budget rating votes  r1  r2  r3  r4  r5  r6\n",
              "13305 Denei shoujo Ai 1992    180     NA    8.7   157 4.5 4.5 4.5 0.0 0.0 4.5\n",
              "8102               C4 1996      4     NA    8.4    48 4.5 0.0 0.0 0.0 4.5 4.5\n",
              "2277  Amor & Alquimia 1995     22     NA    8.1    36 0.0 0.0 0.0 4.5 4.5 0.0\n",
              "        r7   r8   r9  r10 mpaa Action Animation Comedy Drama Documentary\n",
              "13305 14.5 14.5 14.5 45.5           0         1      1     0           0\n",
              "8102  14.5  4.5 74.5  4.5           0         0      1     0           0\n",
              "2277   4.5 14.5  4.5 74.5           0         0      1     0           0\n",
              "      Romance Short GenreCount    decade\n",
              "13305       1     0          3 1990-1999\n",
              "8102        1     1          3 1990-1999\n",
              "2277        1     1          3 1990-1999\n",
              "\n",
              "$`1980-1989`\n",
              "                    title year length   budget rating votes  r1  r2  r3  r4  r5\n",
              "9510      Chashme Buddoor 1981    145       NA    8.5    40 0.0 0.0 0.0 0.0 4.5\n",
              "28551              Kuryer 1987     90       NA    8.2    88 0.0 0.0 0.0 4.5 4.5\n",
              "41270 Princess Bride, The 1987     98 16000000    8.2 53946 4.5 4.5 4.5 4.5 4.5\n",
              "       r6   r7   r8   r9  r10 mpaa Action Animation Comedy Drama Documentary\n",
              "9510  4.5  4.5 24.5 24.5 44.5           0         0      1     0           0\n",
              "28551 4.5 14.5 14.5 24.5 34.5           0         0      1     1           0\n",
              "41270 4.5 14.5 14.5 24.5 34.5           0         0      1     0           0\n",
              "      Romance Short GenreCount    decade\n",
              "9510        1     0          2 1980-1989\n",
              "28551       1     0          3 1980-1989\n",
              "41270       1     0          2 1980-1989\n",
              "\n",
              "$`2000-2009`\n",
              "                                      title year length   budget rating votes\n",
              "36420                      Night of the Dog 2005     86     5000    9.5    33\n",
              "8890                 Casamento de Louise, O 2001     80       NA    8.8    40\n",
              "16423 Eternal Sunshine of the Spotless Mind 2004    108 20000000    8.6 46240\n",
              "       r1  r2  r3  r4  r5  r6   r7   r8   r9  r10 mpaa Action Animation Comedy\n",
              "36420 4.5 0.0 4.5 0.0 0.0 0.0  4.5  4.5  4.5 84.5           0         0      1\n",
              "8890  4.5 0.0 4.5 4.5 4.5 4.5 24.5  4.5 34.5 14.5           0         0      1\n",
              "16423 4.5 4.5 4.5 4.5 4.5 4.5  4.5 14.5 24.5 44.5    R      0         0      1\n",
              "      Drama Documentary Romance Short GenreCount    decade\n",
              "36420     0           0       1     0          2 2000-2009\n",
              "8890      0           0       1     0          2 2000-2009\n",
              "16423     1           0       1     0          3 2000-2009\n",
              "\n",
              "$`1970-1979`\n",
              "                 title year length  budget rating votes  r1  r2  r3  r4  r5  r6\n",
              "47498 Sluzhebnyy roman 1977    159      NA    9.1   320 4.5 4.5 4.5 4.5 4.5 4.5\n",
              "2728        Annie Hall 1977     93 4000000    8.3 21462 4.5 4.5 4.5 4.5 4.5 4.5\n",
              "46570             Shor 1972    170      NA    8.3    35 0.0 0.0 0.0 0.0 0.0 0.0\n",
              "        r7   r8   r9  r10 mpaa Action Animation Comedy Drama Documentary\n",
              "47498  4.5  4.5 14.5 64.5           0         0      1     0           0\n",
              "2728  14.5 14.5 24.5 34.5           0         0      1     0           0\n",
              "46570  4.5 24.5 45.5 14.5           0         0      1     1           0\n",
              "      Romance Short GenreCount    decade\n",
              "47498       1     0          2 1970-1979\n",
              "2728        1     0          2 1970-1979\n",
              "46570       1     0          3 1970-1979\n",
              "\n",
              "$`1960-1969`\n",
              "                      title year length budget rating votes  r1 r2  r3  r4  r5\n",
              "13598              Devchata 1961     98     NA    9.2    50 0.0  0 0.0 0.0 4.5\n",
              "5139    Beregis avtomobilya 1966     94     NA    9.0   241 4.5  0 4.5 4.5 4.5\n",
              "44445 Sahib Bibi Aur Ghulam 1962    152     NA    9.0    76 4.5  0 4.5 4.5 0.0\n",
              "       r6  r7   r8   r9  r10 mpaa Action Animation Comedy Drama Documentary\n",
              "13598 4.5 4.5 14.5 14.5 64.5           0         0      1     0           0\n",
              "5139  4.5 4.5 14.5 14.5 64.5           0         0      1     0           0\n",
              "44445 4.5 4.5  4.5  4.5 74.5           0         0      1     1           0\n",
              "      Romance Short GenreCount    decade\n",
              "13598       1     0          2 1960-1969\n",
              "5139        1     0          2 1960-1969\n",
              "44445       1     0          3 1960-1969\n",
              "\n",
              "$`1940-1949`\n",
              "                title year length budget rating votes  r1  r2  r3  r4  r5   r6\n",
              "15948       Enamorada 1946     99     NA    8.4    49 0.0 0.0 0.0 0.0 4.5  4.5\n",
              "17753 Film ohne Titel 1948     99     NA    8.2    38 0.0 0.0 0.0 0.0 0.0 14.5\n",
              "23171 His Girl Friday 1940     92     NA    8.2  6667 4.5 4.5 4.5 4.5 4.5  4.5\n",
              "        r7   r8   r9  r10 mpaa Action Animation Comedy Drama Documentary\n",
              "15948 14.5 24.5  4.5 45.5           0         0      1     1           0\n",
              "17753 14.5 34.5 14.5 24.5           0         0      1     0           0\n",
              "23171 14.5 24.5 24.5 24.5           0         0      1     1           0\n",
              "      Romance Short GenreCount    decade\n",
              "15948       1     0          3 1940-1949\n",
              "17753       1     0          2 1940-1949\n",
              "23171       1     0          3 1940-1949\n",
              "\n",
              "$`1950-1959`\n",
              "                     title year length  budget rating votes  r1  r2  r3  r4  r5\n",
              "14645 Dos tipos de cuidado 1953    123      NA    8.5    52 4.5 4.5 0.0 0.0 4.5\n",
              "47033  Singin' in the Rain 1952    103 2540800    8.5 20585 4.5 4.5 4.5 4.5 4.5\n",
              "47952     Some Like It Hot 1959    120 2883848    8.4 25369 4.5 4.5 4.5 4.5 4.5\n",
              "       r6   r7   r8   r9  r10 mpaa Action Animation Comedy Drama Documentary\n",
              "14645 4.5  4.5 24.5 14.5 44.5           0         0      1     0           0\n",
              "47033 4.5 14.5 14.5 14.5 34.5           0         0      1     0           0\n",
              "47952 4.5 14.5 24.5 24.5 34.5           0         0      1     0           0\n",
              "      Romance Short GenreCount    decade\n",
              "14645       1     0          2 1950-1959\n",
              "47033       1     0          2 1950-1959\n",
              "47952       1     0          2 1950-1959\n",
              "\n",
              "$`1930-1939`\n",
              "                      title year length  budget rating votes  r1  r2  r3  r4\n",
              "10228           City Lights 1931     87 1500000    8.5  7802 4.5 4.5 4.5 4.5\n",
              "25871 It Happened One Night 1934    105  325000    8.3  7924 4.5 4.5 4.5 4.5\n",
              "7493       Bringing Up Baby 1938    102      NA    8.2  9250 4.5 4.5 4.5 4.5\n",
              "       r5  r6   r7   r8   r9  r10 mpaa Action Animation Comedy Drama\n",
              "10228 4.5 4.5  4.5 14.5 24.5 44.5           0         0      1     1\n",
              "25871 4.5 4.5 14.5 24.5 24.5 34.5           0         0      1     0\n",
              "7493  4.5 4.5 14.5 24.5 24.5 34.5           0         0      1     0\n",
              "      Documentary Romance Short GenreCount    decade\n",
              "10228           0       1     0          3 1930-1939\n",
              "25871           0       1     0          2 1930-1939\n",
              "7493            0       1     0          2 1930-1939\n",
              "\n",
              "$`1920-1929`\n",
              "                 title year length budget rating votes  r1  r2  r3  r4  r5  r6\n",
              "19809     General, The 1927     83     NA    8.4  6644 4.5 4.5 4.5 4.5 4.5 4.5\n",
              "27646 Kid Brother, The 1927     84     NA    8.3   285 4.5 4.5 4.5 4.5 4.5 4.5\n",
              "44422     Safety Last! 1923     70     NA    8.2   757 4.5 4.5 4.5 4.5 4.5 4.5\n",
              "        r7   r8   r9  r10 mpaa Action Animation Comedy Drama Documentary\n",
              "19809  4.5 14.5 24.5 34.5           1         0      1     0           0\n",
              "27646 14.5 14.5 24.5 44.5           0         0      1     0           0\n",
              "44422 14.5 24.5 24.5 34.5           1         0      1     0           0\n",
              "      Romance Short GenreCount    decade\n",
              "19809       1     0          3 1920-1929\n",
              "27646       1     0          2 1920-1929\n",
              "44422       1     0          3 1920-1929\n"
            ]
          },
          "metadata": {}
        }
      ]
    },
    {
      "cell_type": "code",
      "source": [],
      "metadata": {
        "id": "ehGiudgbLGAG"
      },
      "execution_count": null,
      "outputs": []
    }
  ],
  "metadata": {
    "kernelspec": {
      "display_name": "R",
      "language": "R",
      "name": "ir"
    },
    "language_info": {
      "codemirror_mode": "r",
      "file_extension": ".r",
      "mimetype": "text/x-r-source",
      "name": "R",
      "pygments_lexer": "r",
      "version": "3.3.2"
    },
    "toc": {
      "base_numbering": 1,
      "nav_menu": {},
      "number_sections": true,
      "sideBar": true,
      "skip_h1_title": true,
      "title_cell": "Table of Contents",
      "title_sidebar": "Contents",
      "toc_cell": true,
      "toc_position": {},
      "toc_section_display": true,
      "toc_window_display": false
    },
    "colab": {
      "provenance": []
    }
  },
  "nbformat": 4,
  "nbformat_minor": 0
}